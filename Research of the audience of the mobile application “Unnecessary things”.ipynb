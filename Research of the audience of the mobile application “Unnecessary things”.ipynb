{
 "cells": [
  {
   "cell_type": "markdown",
   "metadata": {},
   "source": [
    "\n",
    "\n",
    "# Исследование аудитории мобильного приложения «Ненужные вещи»\n",
    "\n",
    " В приложении «Ненужные вещи» пользователи продают свои ненужные вещи, размещая их на доске объявлений. Необходимо провести исследование аудитории сервиса по логам пользовательских событий в приложении, совершенных после 07.10.2019.\n",
    "\n",
    "Цель исследования - на основе сегментации пользователей (заданной и выделенной самостоятельно) получить гипотезы о том как можно было бы улучшить приложение с точки зрения клиентского опыта. Заданная сегментация пользователей - по источникам скачиванaия приложения.\n",
    "\n",
    "Задачи исследования:\n",
    "\n",
    " - Выделить сегменты пользователей для создния второй пары тестируемых групп.\n",
    " - Исследовать, какие пользователи склонны чаще возвращаться в мобильное приложение.\n",
    " - Исследовать, какие пользователи чаще совершают целевое событие (конверсия в целевое действие).\n",
    " - Определить, как различается время между распространенными событиями пользователей из разных групп.\n",
    " - Подготовить презентацию с результатами исследования.\n",
    "\n",
    "Описание данных:\n",
    "\n",
    "Датасет содержит данные о событиях, совершенных в мобильном приложении \"Ненужные вещи\". В нем пользователи продают свои ненужные вещи, размещая их на доске объявлений.\n",
    "\n",
    "В датасете содержатся данные пользователей, впервые совершивших действия в приложении после 7 октября 2019 года.\n",
    "\n",
    "Датасет mobile_dataset.csv содержит колонки: \n",
    "\n",
    " - event.time — время совершения \n",
    " - event.name — название события user.id — идентификатор пользователя\n",
    "\n",
    "Датасет mobile_sources.csv содержит колонки:\n",
    "\n",
    " - userId — идентификатор пользователя\n",
    " - source — источник, с которого пользователь установил приложение\n",
    " \n",
    "Расшифровки событий:\n",
    "\n",
    " - advert_open — открытие карточки объявления\n",
    " - photos_show — просмотр фотографий в объявлении\n",
    " - tips_show — пользователь увидел рекомендованные объявления\n",
    " - tips_click — пользователь кликнул по рекомендованному объявлению\n",
    " - contacts_show и show_contacts — пользователь нажал на кнопку \"посмотреть номер телефона\" на карточке объявления\n",
    " - contacts_call — пользователь позвонил по номеру телефона на карточке объявления\n",
    " - map — пользователь открыл карту размещенных объявлений\n",
    " - search_1 — search_7 — разные события, связанные с поиском по сайту\n",
    " - favorites_add — добавление объявления в избранное"
   ]
  },
  {
   "cell_type": "markdown",
   "metadata": {},
   "source": [
    "## Предобработка данных"
   ]
  },
  {
   "cell_type": "code",
   "execution_count": 1,
   "metadata": {},
   "outputs": [],
   "source": [
    "# Импортируем бибилиотеки\n",
    "import pandas as pd\n",
    "import seaborn as sns\n",
    "import matplotlib.pyplot as plt\n",
    "from scipy import stats\n",
    "from scipy.cluster.hierarchy import dendrogram, linkage\n",
    "from scipy.stats import chi2_contingency\n",
    "import math as mth\n",
    "from scipy import stats as st\n",
    "import numpy as np\n",
    "import warnings\n",
    "from statsmodels.stats.proportion import proportions_ztest\n",
    "warnings.filterwarnings('ignore')\n",
    "pd.set_option('display.max_colwidth', -1)"
   ]
  },
  {
   "cell_type": "code",
   "execution_count": 2,
   "metadata": {},
   "outputs": [],
   "source": [
    "# Загрузим данные и сохраним в переменные\n",
    "mobile_sourсes = pd.read_csv('https://code.s3.yandex.net/datasets/mobile_soures.csv')\n",
    "mobile_dataset = pd.read_csv('https://code.s3.yandex.net/datasets/mobile_dataset.csv')"
   ]
  },
  {
   "cell_type": "code",
   "execution_count": 3,
   "metadata": {},
   "outputs": [
    {
     "data": {
      "text/html": [
       "<div>\n",
       "<style scoped>\n",
       "    .dataframe tbody tr th:only-of-type {\n",
       "        vertical-align: middle;\n",
       "    }\n",
       "\n",
       "    .dataframe tbody tr th {\n",
       "        vertical-align: top;\n",
       "    }\n",
       "\n",
       "    .dataframe thead th {\n",
       "        text-align: right;\n",
       "    }\n",
       "</style>\n",
       "<table border=\"1\" class=\"dataframe\">\n",
       "  <thead>\n",
       "    <tr style=\"text-align: right;\">\n",
       "      <th></th>\n",
       "      <th>userId</th>\n",
       "      <th>source</th>\n",
       "    </tr>\n",
       "  </thead>\n",
       "  <tbody>\n",
       "    <tr>\n",
       "      <th>0</th>\n",
       "      <td>020292ab-89bc-4156-9acf-68bc2783f894</td>\n",
       "      <td>other</td>\n",
       "    </tr>\n",
       "    <tr>\n",
       "      <th>1</th>\n",
       "      <td>cf7eda61-9349-469f-ac27-e5b6f5ec475c</td>\n",
       "      <td>yandex</td>\n",
       "    </tr>\n",
       "    <tr>\n",
       "      <th>2</th>\n",
       "      <td>8c356c42-3ba9-4cb6-80b8-3f868d0192c3</td>\n",
       "      <td>yandex</td>\n",
       "    </tr>\n",
       "    <tr>\n",
       "      <th>3</th>\n",
       "      <td>d9b06b47-0f36-419b-bbb0-3533e582a6cb</td>\n",
       "      <td>other</td>\n",
       "    </tr>\n",
       "    <tr>\n",
       "      <th>4</th>\n",
       "      <td>f32e1e2a-3027-4693-b793-b7b3ff274439</td>\n",
       "      <td>google</td>\n",
       "    </tr>\n",
       "  </tbody>\n",
       "</table>\n",
       "</div>"
      ],
      "text/plain": [
       "                                 userId  source\n",
       "0  020292ab-89bc-4156-9acf-68bc2783f894  other \n",
       "1  cf7eda61-9349-469f-ac27-e5b6f5ec475c  yandex\n",
       "2  8c356c42-3ba9-4cb6-80b8-3f868d0192c3  yandex\n",
       "3  d9b06b47-0f36-419b-bbb0-3533e582a6cb  other \n",
       "4  f32e1e2a-3027-4693-b793-b7b3ff274439  google"
      ]
     },
     "execution_count": 3,
     "metadata": {},
     "output_type": "execute_result"
    }
   ],
   "source": [
    "# смотрим первые 5 строк датафремов\n",
    "mobile_sourсes.head()"
   ]
  },
  {
   "cell_type": "code",
   "execution_count": 4,
   "metadata": {},
   "outputs": [
    {
     "data": {
      "text/html": [
       "<div>\n",
       "<style scoped>\n",
       "    .dataframe tbody tr th:only-of-type {\n",
       "        vertical-align: middle;\n",
       "    }\n",
       "\n",
       "    .dataframe tbody tr th {\n",
       "        vertical-align: top;\n",
       "    }\n",
       "\n",
       "    .dataframe thead th {\n",
       "        text-align: right;\n",
       "    }\n",
       "</style>\n",
       "<table border=\"1\" class=\"dataframe\">\n",
       "  <thead>\n",
       "    <tr style=\"text-align: right;\">\n",
       "      <th></th>\n",
       "      <th>event.time</th>\n",
       "      <th>event.name</th>\n",
       "      <th>user.id</th>\n",
       "    </tr>\n",
       "  </thead>\n",
       "  <tbody>\n",
       "    <tr>\n",
       "      <th>0</th>\n",
       "      <td>2019-10-07 00:00:00.431357</td>\n",
       "      <td>advert_open</td>\n",
       "      <td>020292ab-89bc-4156-9acf-68bc2783f894</td>\n",
       "    </tr>\n",
       "    <tr>\n",
       "      <th>1</th>\n",
       "      <td>2019-10-07 00:00:01.236320</td>\n",
       "      <td>tips_show</td>\n",
       "      <td>020292ab-89bc-4156-9acf-68bc2783f894</td>\n",
       "    </tr>\n",
       "    <tr>\n",
       "      <th>2</th>\n",
       "      <td>2019-10-07 00:00:02.245341</td>\n",
       "      <td>tips_show</td>\n",
       "      <td>cf7eda61-9349-469f-ac27-e5b6f5ec475c</td>\n",
       "    </tr>\n",
       "    <tr>\n",
       "      <th>3</th>\n",
       "      <td>2019-10-07 00:00:07.039334</td>\n",
       "      <td>tips_show</td>\n",
       "      <td>020292ab-89bc-4156-9acf-68bc2783f894</td>\n",
       "    </tr>\n",
       "    <tr>\n",
       "      <th>4</th>\n",
       "      <td>2019-10-07 00:00:56.319813</td>\n",
       "      <td>advert_open</td>\n",
       "      <td>cf7eda61-9349-469f-ac27-e5b6f5ec475c</td>\n",
       "    </tr>\n",
       "  </tbody>\n",
       "</table>\n",
       "</div>"
      ],
      "text/plain": [
       "                   event.time   event.name  \\\n",
       "0  2019-10-07 00:00:00.431357  advert_open   \n",
       "1  2019-10-07 00:00:01.236320  tips_show     \n",
       "2  2019-10-07 00:00:02.245341  tips_show     \n",
       "3  2019-10-07 00:00:07.039334  tips_show     \n",
       "4  2019-10-07 00:00:56.319813  advert_open   \n",
       "\n",
       "                                user.id  \n",
       "0  020292ab-89bc-4156-9acf-68bc2783f894  \n",
       "1  020292ab-89bc-4156-9acf-68bc2783f894  \n",
       "2  cf7eda61-9349-469f-ac27-e5b6f5ec475c  \n",
       "3  020292ab-89bc-4156-9acf-68bc2783f894  \n",
       "4  cf7eda61-9349-469f-ac27-e5b6f5ec475c  "
      ]
     },
     "execution_count": 4,
     "metadata": {},
     "output_type": "execute_result"
    }
   ],
   "source": [
    "mobile_dataset.head()"
   ]
  },
  {
   "cell_type": "code",
   "execution_count": 5,
   "metadata": {},
   "outputs": [],
   "source": [
    "# Применим функцию для предобработки данных\n",
    "def pretreatments(file, file_name):\n",
    "    print('Информация о таблице', file_name)\n",
    "    print(file.info())\n",
    "    print('___________________________')\n",
    "    print('')\n",
    "    \n",
    "    print('Наличие явных дубликатов в', file_name)\n",
    "    print(file.duplicated().sum())\n",
    "    print('___________________________')\n",
    "    print('')\n",
    "    \n",
    "    print('Наличие пропусков в таблице', file_name)\n",
    "    print(file.isna().sum())\n",
    "    print('')\n",
    "    print('___________________________')"
   ]
  },
  {
   "cell_type": "code",
   "execution_count": 6,
   "metadata": {},
   "outputs": [
    {
     "name": "stdout",
     "output_type": "stream",
     "text": [
      "Информация о таблице mobile_sourсes\n",
      "<class 'pandas.core.frame.DataFrame'>\n",
      "RangeIndex: 4293 entries, 0 to 4292\n",
      "Data columns (total 2 columns):\n",
      " #   Column  Non-Null Count  Dtype \n",
      "---  ------  --------------  ----- \n",
      " 0   userId  4293 non-null   object\n",
      " 1   source  4293 non-null   object\n",
      "dtypes: object(2)\n",
      "memory usage: 67.2+ KB\n",
      "None\n",
      "___________________________\n",
      "\n",
      "Наличие явных дубликатов в mobile_sourсes\n",
      "0\n",
      "___________________________\n",
      "\n",
      "Наличие пропусков в таблице mobile_sourсes\n",
      "userId    0\n",
      "source    0\n",
      "dtype: int64\n",
      "\n",
      "___________________________\n"
     ]
    }
   ],
   "source": [
    "pretreatments(mobile_sourсes, 'mobile_sourсes')"
   ]
  },
  {
   "cell_type": "code",
   "execution_count": 7,
   "metadata": {},
   "outputs": [
    {
     "name": "stdout",
     "output_type": "stream",
     "text": [
      "Информация о таблице mobile_dataset\n",
      "<class 'pandas.core.frame.DataFrame'>\n",
      "RangeIndex: 74197 entries, 0 to 74196\n",
      "Data columns (total 3 columns):\n",
      " #   Column      Non-Null Count  Dtype \n",
      "---  ------      --------------  ----- \n",
      " 0   event.time  74197 non-null  object\n",
      " 1   event.name  74197 non-null  object\n",
      " 2   user.id     74197 non-null  object\n",
      "dtypes: object(3)\n",
      "memory usage: 1.7+ MB\n",
      "None\n",
      "___________________________\n",
      "\n",
      "Наличие явных дубликатов в mobile_dataset\n",
      "0\n",
      "___________________________\n",
      "\n",
      "Наличие пропусков в таблице mobile_dataset\n",
      "event.time    0\n",
      "event.name    0\n",
      "user.id       0\n",
      "dtype: int64\n",
      "\n",
      "___________________________\n"
     ]
    }
   ],
   "source": [
    "pretreatments(mobile_dataset, 'mobile_dataset')"
   ]
  },
  {
   "cell_type": "code",
   "execution_count": 8,
   "metadata": {},
   "outputs": [],
   "source": [
    "# Переименуем названия столбцов на более удобные\n",
    "mobile_dataset.columns =['event_time', 'event_name', 'user_id']\n",
    "mobile_sourсes.columns = ['user_id', 'source']"
   ]
  },
  {
   "cell_type": "code",
   "execution_count": 9,
   "metadata": {},
   "outputs": [
    {
     "data": {
      "text/plain": [
       "4293"
      ]
     },
     "execution_count": 9,
     "metadata": {},
     "output_type": "execute_result"
    }
   ],
   "source": [
    "# проверим количество пользователей в mobile_dataset\n",
    "len(mobile_dataset['user_id'].unique())"
   ]
  },
  {
   "cell_type": "code",
   "execution_count": 10,
   "metadata": {},
   "outputs": [
    {
     "data": {
      "text/plain": [
       "4293"
      ]
     },
     "execution_count": 10,
     "metadata": {},
     "output_type": "execute_result"
    }
   ],
   "source": [
    "# проверим количество пользователей в mobile_dataset\n",
    "len(mobile_sourсes['user_id'].unique())"
   ]
  },
  {
   "cell_type": "markdown",
   "metadata": {},
   "source": [
    "Колличество уникальных пользователей в обоих таблицах совпадает, объединим их"
   ]
  },
  {
   "cell_type": "code",
   "execution_count": 11,
   "metadata": {},
   "outputs": [],
   "source": [
    "mobile = mobile_dataset.merge(mobile_sourсes, on='user_id', how='left')"
   ]
  },
  {
   "cell_type": "code",
   "execution_count": 12,
   "metadata": {},
   "outputs": [],
   "source": [
    "# Приведем столбец event_time формату даты и округлим данные до 1 секунды\n",
    "mobile['event_time'] = pd.to_datetime(mobile['event_time'], format='%Y.%m.%d %H:%M:%S').dt.round('1S')"
   ]
  },
  {
   "cell_type": "code",
   "execution_count": 13,
   "metadata": {},
   "outputs": [
    {
     "data": {
      "text/plain": [
       "1118"
      ]
     },
     "execution_count": 13,
     "metadata": {},
     "output_type": "execute_result"
    }
   ],
   "source": [
    "# Проверим на дубликаты после преобразования\n",
    "mobile.duplicated().sum()"
   ]
  },
  {
   "cell_type": "markdown",
   "metadata": {},
   "source": [
    "После округления до секунды появились дубликаты, удалять их не будем поскольку это могут например быть ошибочные действия пользователей"
   ]
  },
  {
   "cell_type": "code",
   "execution_count": 14,
   "metadata": {},
   "outputs": [],
   "source": [
    "# Выделим из столбца event_time день и час\n",
    "mobile['event_day'] = mobile['event_time'].astype('datetime64[D]')\n",
    "mobile['event_hour'] = mobile['event_time'].dt.hour"
   ]
  },
  {
   "cell_type": "code",
   "execution_count": 15,
   "metadata": {},
   "outputs": [
    {
     "data": {
      "text/html": [
       "<div>\n",
       "<style scoped>\n",
       "    .dataframe tbody tr th:only-of-type {\n",
       "        vertical-align: middle;\n",
       "    }\n",
       "\n",
       "    .dataframe tbody tr th {\n",
       "        vertical-align: top;\n",
       "    }\n",
       "\n",
       "    .dataframe thead th {\n",
       "        text-align: right;\n",
       "    }\n",
       "</style>\n",
       "<table border=\"1\" class=\"dataframe\">\n",
       "  <thead>\n",
       "    <tr style=\"text-align: right;\">\n",
       "      <th></th>\n",
       "      <th>event_time</th>\n",
       "      <th>event_name</th>\n",
       "      <th>user_id</th>\n",
       "      <th>source</th>\n",
       "      <th>event_day</th>\n",
       "      <th>event_hour</th>\n",
       "    </tr>\n",
       "  </thead>\n",
       "  <tbody>\n",
       "    <tr>\n",
       "      <th>0</th>\n",
       "      <td>2019-10-07 00:00:00</td>\n",
       "      <td>advert_open</td>\n",
       "      <td>020292ab-89bc-4156-9acf-68bc2783f894</td>\n",
       "      <td>other</td>\n",
       "      <td>2019-10-07</td>\n",
       "      <td>0</td>\n",
       "    </tr>\n",
       "    <tr>\n",
       "      <th>1</th>\n",
       "      <td>2019-10-07 00:00:01</td>\n",
       "      <td>tips_show</td>\n",
       "      <td>020292ab-89bc-4156-9acf-68bc2783f894</td>\n",
       "      <td>other</td>\n",
       "      <td>2019-10-07</td>\n",
       "      <td>0</td>\n",
       "    </tr>\n",
       "    <tr>\n",
       "      <th>2</th>\n",
       "      <td>2019-10-07 00:00:02</td>\n",
       "      <td>tips_show</td>\n",
       "      <td>cf7eda61-9349-469f-ac27-e5b6f5ec475c</td>\n",
       "      <td>yandex</td>\n",
       "      <td>2019-10-07</td>\n",
       "      <td>0</td>\n",
       "    </tr>\n",
       "    <tr>\n",
       "      <th>3</th>\n",
       "      <td>2019-10-07 00:00:07</td>\n",
       "      <td>tips_show</td>\n",
       "      <td>020292ab-89bc-4156-9acf-68bc2783f894</td>\n",
       "      <td>other</td>\n",
       "      <td>2019-10-07</td>\n",
       "      <td>0</td>\n",
       "    </tr>\n",
       "    <tr>\n",
       "      <th>4</th>\n",
       "      <td>2019-10-07 00:00:56</td>\n",
       "      <td>advert_open</td>\n",
       "      <td>cf7eda61-9349-469f-ac27-e5b6f5ec475c</td>\n",
       "      <td>yandex</td>\n",
       "      <td>2019-10-07</td>\n",
       "      <td>0</td>\n",
       "    </tr>\n",
       "  </tbody>\n",
       "</table>\n",
       "</div>"
      ],
      "text/plain": [
       "           event_time   event_name                               user_id  \\\n",
       "0 2019-10-07 00:00:00  advert_open  020292ab-89bc-4156-9acf-68bc2783f894   \n",
       "1 2019-10-07 00:00:01  tips_show    020292ab-89bc-4156-9acf-68bc2783f894   \n",
       "2 2019-10-07 00:00:02  tips_show    cf7eda61-9349-469f-ac27-e5b6f5ec475c   \n",
       "3 2019-10-07 00:00:07  tips_show    020292ab-89bc-4156-9acf-68bc2783f894   \n",
       "4 2019-10-07 00:00:56  advert_open  cf7eda61-9349-469f-ac27-e5b6f5ec475c   \n",
       "\n",
       "   source  event_day  event_hour  \n",
       "0  other  2019-10-07  0           \n",
       "1  other  2019-10-07  0           \n",
       "2  yandex 2019-10-07  0           \n",
       "3  other  2019-10-07  0           \n",
       "4  yandex 2019-10-07  0           "
      ]
     },
     "execution_count": 15,
     "metadata": {},
     "output_type": "execute_result"
    }
   ],
   "source": [
    "# Взглянем что получилось\n",
    "mobile.head()"
   ]
  },
  {
   "cell_type": "markdown",
   "metadata": {},
   "source": [
    "Проверим записи в столбцах"
   ]
  },
  {
   "cell_type": "code",
   "execution_count": 16,
   "metadata": {},
   "outputs": [
    {
     "data": {
      "text/plain": [
       "yandex    34286\n",
       "google    20445\n",
       "other     19466\n",
       "Name: source, dtype: int64"
      ]
     },
     "execution_count": 16,
     "metadata": {},
     "output_type": "execute_result"
    }
   ],
   "source": [
    "mobile['source'].value_counts()"
   ]
  },
  {
   "cell_type": "markdown",
   "metadata": {},
   "source": [
    "Все как и должно быть: Яндекс, Гугл и другие"
   ]
  },
  {
   "cell_type": "code",
   "execution_count": 17,
   "metadata": {},
   "outputs": [
    {
     "data": {
      "text/plain": [
       "tips_show        40055\n",
       "photos_show      10012\n",
       "advert_open      6164 \n",
       "contacts_show    4450 \n",
       "map              3881 \n",
       "search_1         3506 \n",
       "favorites_add    1417 \n",
       "search_5         1049 \n",
       "tips_click       814  \n",
       "search_4         701  \n",
       "contacts_call    541  \n",
       "search_3         522  \n",
       "search_6         460  \n",
       "search_2         324  \n",
       "search_7         222  \n",
       "show_contacts    79   \n",
       "Name: event_name, dtype: int64"
      ]
     },
     "execution_count": 17,
     "metadata": {},
     "output_type": "execute_result"
    }
   ],
   "source": [
    "mobile['event_name'].value_counts()"
   ]
  },
  {
   "cell_type": "markdown",
   "metadata": {},
   "source": [
    "В столбце с названием действия одно и то же событие: contacts_show записано по разному, приведем к единому Так же объединим действие с search_1 по search_7 поскольку оно ни о чем нам не говорит"
   ]
  },
  {
   "cell_type": "code",
   "execution_count": 18,
   "metadata": {},
   "outputs": [],
   "source": [
    "replace_dict = {\n",
    "    'show_contacts': 'contacts_show',\n",
    "    'search_1': 'search',\n",
    "    'search_2': 'search',\n",
    "    'search_3': 'search',\n",
    "    'search_4': 'search',\n",
    "    'search_5': 'search',\n",
    "    'search_6': 'search',\n",
    "    'search_7': 'search'}\n",
    "\n",
    "mobile['event_name'] = mobile['event_name'].replace(replace_dict)"
   ]
  },
  {
   "cell_type": "code",
   "execution_count": 19,
   "metadata": {},
   "outputs": [
    {
     "data": {
      "text/plain": [
       "tips_show        40055\n",
       "photos_show      10012\n",
       "search           6784 \n",
       "advert_open      6164 \n",
       "contacts_show    4529 \n",
       "map              3881 \n",
       "favorites_add    1417 \n",
       "tips_click       814  \n",
       "contacts_call    541  \n",
       "Name: event_name, dtype: int64"
      ]
     },
     "execution_count": 19,
     "metadata": {},
     "output_type": "execute_result"
    }
   ],
   "source": [
    "mobile['event_name'].value_counts()"
   ]
  },
  {
   "cell_type": "markdown",
   "metadata": {},
   "source": [
    "В рамках раздела предобработки были проведены следующие действия:\n",
    "\n",
    " - загрузка библиотек и датасетов\n",
    " - переименования названий столбцов\n",
    " - объединение двух датасетов в одну таблицу\n",
    " - преобразование форматов данных и создание столбцов с день и час\n",
    " - проверка на дубликаты после преобразования столбцов\n",
    " - проверка на смысловые дубликаты и приведение к единому"
   ]
  },
  {
   "cell_type": "markdown",
   "metadata": {},
   "source": [
    "## Общее поведение пользователей (EDA)"
   ]
  },
  {
   "cell_type": "code",
   "execution_count": 20,
   "metadata": {},
   "outputs": [
    {
     "name": "stdout",
     "output_type": "stream",
     "text": [
      "Всего событий: 74197\n",
      "Всего пользователей: 4293\n",
      "В среднем событий приходится на пользователя: 17.0\n",
      "В среднем по медиане событий приходится на пользователя: 9.0\n"
     ]
    }
   ],
   "source": [
    "# Посчитаем общее колличество событий, пользователей и сколько в среднем приходится событий на пользователя\n",
    "print(\"Всего событий:\", mobile['event_name'].count())\n",
    "\n",
    "print(\"Всего пользователей:\", mobile['user_id'].nunique())\n",
    "\n",
    "mean_name = mobile.groupby('user_id')['event_name'].count().mean().round(0)\n",
    "median_name = mobile.groupby('user_id')['event_name'].count().median().round(0)\n",
    "\n",
    "print(\"В среднем событий приходится на пользователя:\", mean_name)\n",
    "print(\"В среднем по медиане событий приходится на пользователя:\", median_name)"
   ]
  },
  {
   "cell_type": "markdown",
   "metadata": {},
   "source": [
    "Большая разница среднего с медианой, нужно взглянуть на выбросы"
   ]
  },
  {
   "cell_type": "code",
   "execution_count": 21,
   "metadata": {},
   "outputs": [],
   "source": [
    "cnt_event = mobile.groupby('user_id').agg({'event_name': 'count'})"
   ]
  },
  {
   "cell_type": "code",
   "execution_count": 22,
   "metadata": {},
   "outputs": [
    {
     "data": {
      "text/html": [
       "<div>\n",
       "<style scoped>\n",
       "    .dataframe tbody tr th:only-of-type {\n",
       "        vertical-align: middle;\n",
       "    }\n",
       "\n",
       "    .dataframe tbody tr th {\n",
       "        vertical-align: top;\n",
       "    }\n",
       "\n",
       "    .dataframe thead th {\n",
       "        text-align: right;\n",
       "    }\n",
       "</style>\n",
       "<table border=\"1\" class=\"dataframe\">\n",
       "  <thead>\n",
       "    <tr style=\"text-align: right;\">\n",
       "      <th></th>\n",
       "      <th>event_name</th>\n",
       "    </tr>\n",
       "  </thead>\n",
       "  <tbody>\n",
       "    <tr>\n",
       "      <th>count</th>\n",
       "      <td>4293.000000</td>\n",
       "    </tr>\n",
       "    <tr>\n",
       "      <th>mean</th>\n",
       "      <td>17.283252</td>\n",
       "    </tr>\n",
       "    <tr>\n",
       "      <th>std</th>\n",
       "      <td>29.130677</td>\n",
       "    </tr>\n",
       "    <tr>\n",
       "      <th>min</th>\n",
       "      <td>1.000000</td>\n",
       "    </tr>\n",
       "    <tr>\n",
       "      <th>25%</th>\n",
       "      <td>5.000000</td>\n",
       "    </tr>\n",
       "    <tr>\n",
       "      <th>50%</th>\n",
       "      <td>9.000000</td>\n",
       "    </tr>\n",
       "    <tr>\n",
       "      <th>75%</th>\n",
       "      <td>17.000000</td>\n",
       "    </tr>\n",
       "    <tr>\n",
       "      <th>max</th>\n",
       "      <td>478.000000</td>\n",
       "    </tr>\n",
       "  </tbody>\n",
       "</table>\n",
       "</div>"
      ],
      "text/plain": [
       "        event_name\n",
       "count  4293.000000\n",
       "mean   17.283252  \n",
       "std    29.130677  \n",
       "min    1.000000   \n",
       "25%    5.000000   \n",
       "50%    9.000000   \n",
       "75%    17.000000  \n",
       "max    478.000000 "
      ]
     },
     "execution_count": 22,
     "metadata": {},
     "output_type": "execute_result"
    }
   ],
   "source": [
    "cnt_event.describe() "
   ]
  },
  {
   "cell_type": "code",
   "execution_count": 23,
   "metadata": {
    "scrolled": false
   },
   "outputs": [
    {
     "data": {
      "image/png": "[encoded data removed]",
      "text/plain": [
       "<Figure size 1152x720 with 2 Axes>"
      ]
     },
     "metadata": {
      "needs_background": "light"
     },
     "output_type": "display_data"
    }
   ],
   "source": [
    "# Постороим гистограмму и 'ящик с усами'\n",
    "fig = plt.figure(figsize=(16, 10))\n",
    "grid = plt.GridSpec(4, 4, hspace=0.8)\n",
    "\n",
    "# Оси для графиков\n",
    "ax_main = fig.add_subplot(grid[:-1, :-1])\n",
    "plt.grid(True)\n",
    "\n",
    "ax_bottom = fig.add_subplot(grid[-1, 0:-1], xticklabels=[])\n",
    "plt.grid(True)\n",
    "\n",
    "# Гистограмма\n",
    "ax_main.hist(cnt_event['event_name'], bins=50)\n",
    "\n",
    "# Боксплот\n",
    "sns.boxplot(cnt_event['event_name'], ax=ax_bottom, orient='h')\n",
    "ax_bottom.set(xlabel='')\n",
    "\n",
    "ax_main.set(title='Распределение количества событий на одного пользователя',\\\n",
    "            xlabel='Количество событий на одного пользователя',\\\n",
    "            ylabel='Количество пользователей')\n",
    "\n",
    "plt.show();"
   ]
  },
  {
   "cell_type": "markdown",
   "metadata": {},
   "source": [
    "Большой разброс аномальных значений, от минимального 1 действия до максимального 478"
   ]
  },
  {
   "cell_type": "code",
   "execution_count": 24,
   "metadata": {},
   "outputs": [
    {
     "data": {
      "image/png": "[encoded data removed]",
      "text/plain": [
       "<Figure size 432x288 with 1 Axes>"
      ]
     },
     "metadata": {
      "needs_background": "light"
     },
     "output_type": "display_data"
    }
   ],
   "source": [
    "# Масштабируем боксплот\n",
    "sns.boxplot(cnt_event['event_name'], showfliers=False)\n",
    "plt.title('Распределение количества событий на одного пользователя (боксплот)')\n",
    "plt.xlabel('Количество событий на одного пользователя')\n",
    "plt.ylabel('')\n",
    "plt.show();"
   ]
  },
  {
   "cell_type": "markdown",
   "metadata": {},
   "source": [
    "В основном, каждый пользователь совершает от 5 до 17 событий. Все, что лежит дальше - аномальные значения. Удалять их не будем так как аномалий слишком много и это может повлиять на качество исследования"
   ]
  },
  {
   "cell_type": "code",
   "execution_count": 25,
   "metadata": {},
   "outputs": [
    {
     "data": {
      "text/html": [
       "<div>\n",
       "<style scoped>\n",
       "    .dataframe tbody tr th:only-of-type {\n",
       "        vertical-align: middle;\n",
       "    }\n",
       "\n",
       "    .dataframe tbody tr th {\n",
       "        vertical-align: top;\n",
       "    }\n",
       "\n",
       "    .dataframe thead th {\n",
       "        text-align: right;\n",
       "    }\n",
       "</style>\n",
       "<table border=\"1\" class=\"dataframe\">\n",
       "  <thead>\n",
       "    <tr style=\"text-align: right;\">\n",
       "      <th></th>\n",
       "      <th>user_id</th>\n",
       "    </tr>\n",
       "    <tr>\n",
       "      <th>source</th>\n",
       "      <th></th>\n",
       "    </tr>\n",
       "  </thead>\n",
       "  <tbody>\n",
       "    <tr>\n",
       "      <th>google</th>\n",
       "      <td>1129</td>\n",
       "    </tr>\n",
       "    <tr>\n",
       "      <th>other</th>\n",
       "      <td>1230</td>\n",
       "    </tr>\n",
       "    <tr>\n",
       "      <th>yandex</th>\n",
       "      <td>1934</td>\n",
       "    </tr>\n",
       "  </tbody>\n",
       "</table>\n",
       "</div>"
      ],
      "text/plain": [
       "        user_id\n",
       "source         \n",
       "google  1129   \n",
       "other   1230   \n",
       "yandex  1934   "
      ]
     },
     "execution_count": 25,
     "metadata": {},
     "output_type": "execute_result"
    }
   ],
   "source": [
    "# Посчитаем количество пользователей, пришедших из каждого источников\n",
    "mobile.groupby('source').agg({'user_id' : 'nunique'})"
   ]
  },
  {
   "cell_type": "markdown",
   "metadata": {},
   "source": [
    "Больше всего пользователей пришло из yandex и почти поровну из google и других"
   ]
  },
  {
   "cell_type": "code",
   "execution_count": 26,
   "metadata": {},
   "outputs": [
    {
     "data": {
      "text/html": [
       "<div>\n",
       "<style scoped>\n",
       "    .dataframe tbody tr th:only-of-type {\n",
       "        vertical-align: middle;\n",
       "    }\n",
       "\n",
       "    .dataframe tbody tr th {\n",
       "        vertical-align: top;\n",
       "    }\n",
       "\n",
       "    .dataframe thead th {\n",
       "        text-align: right;\n",
       "    }\n",
       "</style>\n",
       "<table border=\"1\" class=\"dataframe\">\n",
       "  <thead>\n",
       "    <tr style=\"text-align: right;\">\n",
       "      <th></th>\n",
       "      <th>user_id</th>\n",
       "    </tr>\n",
       "    <tr>\n",
       "      <th>event_name</th>\n",
       "      <th></th>\n",
       "    </tr>\n",
       "  </thead>\n",
       "  <tbody>\n",
       "    <tr>\n",
       "      <th>tips_show</th>\n",
       "      <td>40055</td>\n",
       "    </tr>\n",
       "    <tr>\n",
       "      <th>photos_show</th>\n",
       "      <td>10012</td>\n",
       "    </tr>\n",
       "    <tr>\n",
       "      <th>search</th>\n",
       "      <td>6784</td>\n",
       "    </tr>\n",
       "    <tr>\n",
       "      <th>advert_open</th>\n",
       "      <td>6164</td>\n",
       "    </tr>\n",
       "    <tr>\n",
       "      <th>contacts_show</th>\n",
       "      <td>4529</td>\n",
       "    </tr>\n",
       "    <tr>\n",
       "      <th>map</th>\n",
       "      <td>3881</td>\n",
       "    </tr>\n",
       "    <tr>\n",
       "      <th>favorites_add</th>\n",
       "      <td>1417</td>\n",
       "    </tr>\n",
       "    <tr>\n",
       "      <th>tips_click</th>\n",
       "      <td>814</td>\n",
       "    </tr>\n",
       "    <tr>\n",
       "      <th>contacts_call</th>\n",
       "      <td>541</td>\n",
       "    </tr>\n",
       "  </tbody>\n",
       "</table>\n",
       "</div>"
      ],
      "text/plain": [
       "               user_id\n",
       "event_name            \n",
       "tips_show      40055  \n",
       "photos_show    10012  \n",
       "search         6784   \n",
       "advert_open    6164   \n",
       "contacts_show  4529   \n",
       "map            3881   \n",
       "favorites_add  1417   \n",
       "tips_click     814    \n",
       "contacts_call  541    "
      ]
     },
     "execution_count": 26,
     "metadata": {},
     "output_type": "execute_result"
    }
   ],
   "source": [
    "# Посчитаем, сколько раз было совершено каждое действие\n",
    "mobile.groupby('event_name').agg({'user_id' : 'count'}).sort_values(by='user_id', ascending=False)"
   ]
  },
  {
   "cell_type": "markdown",
   "metadata": {},
   "source": [
    "Больше всего совершено действий tips_show — пользователь увидел рекомендованные объявления, photos_show — просмотр фотографий в объявлении, search, advert_open, целевое действие contacts_show — пользователь нажал на кнопку \"посмотреть номер телефона\" на карточке объявления и так далее по убыванию"
   ]
  },
  {
   "cell_type": "code",
   "execution_count": 27,
   "metadata": {},
   "outputs": [
    {
     "name": "stdout",
     "output_type": "stream",
     "text": [
      "Представлены события за период с 2019-10-07 по 2019-11-03\n",
      "Всего: 27 days 23:58:13\n"
     ]
    }
   ],
   "source": [
    "# Посмотрим, за какой период у нас есть данные\n",
    "print(f'Представлены события за период с {mobile[\"event_time\"].min().date()} по {mobile[\"event_time\"].max().date()}')\n",
    "print(\"Всего:\", mobile[\"event_time\"].max() - mobile[\"event_time\"].min())"
   ]
  },
  {
   "cell_type": "code",
   "execution_count": 28,
   "metadata": {},
   "outputs": [
    {
     "data": {
      "image/png": "[encoded data removed]",
      "text/plain": [
       "<Figure size 1080x360 with 1 Axes>"
      ]
     },
     "metadata": {
      "needs_background": "light"
     },
     "output_type": "display_data"
    }
   ],
   "source": [
    "# Визуализируем колличество событий по дням\n",
    "mobile['event_day'] =mobile['event_day'].dt.strftime('%Y-%m-%d')\n",
    "mobile.groupby(by='event_day').agg({'user_id': 'count'}).plot(kind='bar', figsize = (15,5))\n",
    "plt.xlabel('Дата'), plt.ylabel('Количество событий'), plt.title('Гистограмма по дате')\n",
    "plt.title('Распределение событий по дням')\n",
    "plt.xticks(rotation=45)\n",
    "plt.show() ;"
   ]
  },
  {
   "cell_type": "markdown",
   "metadata": {},
   "source": [
    "Дней без данных нет, данные распределены равномерно без явных аномалий"
   ]
  },
  {
   "cell_type": "code",
   "execution_count": 29,
   "metadata": {},
   "outputs": [
    {
     "data": {
      "image/png": "[encoded data removed]",
      "text/plain": [
       "<Figure size 1008x360 with 1 Axes>"
      ]
     },
     "metadata": {
      "needs_background": "light"
     },
     "output_type": "display_data"
    }
   ],
   "source": [
    "# И по времени\n",
    "mobile['event_time'].hist(bins=28*24, figsize=(14, 5))\n",
    "plt.xlabel('Дата'), plt.ylabel('Число событий'), plt.title('Распределение событий по времени');"
   ]
  },
  {
   "cell_type": "markdown",
   "metadata": {},
   "source": [
    "На временном графике видна дневная активность со спадом на ночное время"
   ]
  },
  {
   "cell_type": "code",
   "execution_count": 30,
   "metadata": {
    "scrolled": true
   },
   "outputs": [
    {
     "data": {
      "text/html": [
       "<div>\n",
       "<style scoped>\n",
       "    .dataframe tbody tr th:only-of-type {\n",
       "        vertical-align: middle;\n",
       "    }\n",
       "\n",
       "    .dataframe tbody tr th {\n",
       "        vertical-align: top;\n",
       "    }\n",
       "\n",
       "    .dataframe thead th {\n",
       "        text-align: right;\n",
       "    }\n",
       "</style>\n",
       "<table border=\"1\" class=\"dataframe\">\n",
       "  <thead>\n",
       "    <tr style=\"text-align: right;\">\n",
       "      <th></th>\n",
       "      <th>user_id</th>\n",
       "    </tr>\n",
       "    <tr>\n",
       "      <th>event_day</th>\n",
       "      <th></th>\n",
       "    </tr>\n",
       "  </thead>\n",
       "  <tbody>\n",
       "    <tr>\n",
       "      <th>2019-10-23</th>\n",
       "      <td>3360</td>\n",
       "    </tr>\n",
       "    <tr>\n",
       "      <th>2019-10-29</th>\n",
       "      <td>3196</td>\n",
       "    </tr>\n",
       "    <tr>\n",
       "      <th>2019-10-28</th>\n",
       "      <td>3184</td>\n",
       "    </tr>\n",
       "    <tr>\n",
       "      <th>2019-10-26</th>\n",
       "      <td>3127</td>\n",
       "    </tr>\n",
       "    <tr>\n",
       "      <th>2019-10-14</th>\n",
       "      <td>3034</td>\n",
       "    </tr>\n",
       "    <tr>\n",
       "      <th>2019-10-24</th>\n",
       "      <td>3034</td>\n",
       "    </tr>\n",
       "    <tr>\n",
       "      <th>2019-10-21</th>\n",
       "      <td>2908</td>\n",
       "    </tr>\n",
       "    <tr>\n",
       "      <th>2019-10-30</th>\n",
       "      <td>2877</td>\n",
       "    </tr>\n",
       "    <tr>\n",
       "      <th>2019-10-31</th>\n",
       "      <td>2868</td>\n",
       "    </tr>\n",
       "    <tr>\n",
       "      <th>2019-10-27</th>\n",
       "      <td>2861</td>\n",
       "    </tr>\n",
       "    <tr>\n",
       "      <th>2019-11-03</th>\n",
       "      <td>2861</td>\n",
       "    </tr>\n",
       "    <tr>\n",
       "      <th>2019-10-18</th>\n",
       "      <td>2744</td>\n",
       "    </tr>\n",
       "    <tr>\n",
       "      <th>2019-10-16</th>\n",
       "      <td>2730</td>\n",
       "    </tr>\n",
       "    <tr>\n",
       "      <th>2019-10-22</th>\n",
       "      <td>2728</td>\n",
       "    </tr>\n",
       "    <tr>\n",
       "      <th>2019-10-15</th>\n",
       "      <td>2722</td>\n",
       "    </tr>\n",
       "    <tr>\n",
       "      <th>2019-10-13</th>\n",
       "      <td>2635</td>\n",
       "    </tr>\n",
       "    <tr>\n",
       "      <th>2019-10-17</th>\n",
       "      <td>2618</td>\n",
       "    </tr>\n",
       "    <tr>\n",
       "      <th>2019-10-25</th>\n",
       "      <td>2618</td>\n",
       "    </tr>\n",
       "    <tr>\n",
       "      <th>2019-11-01</th>\n",
       "      <td>2577</td>\n",
       "    </tr>\n",
       "    <tr>\n",
       "      <th>2019-10-07</th>\n",
       "      <td>2545</td>\n",
       "    </tr>\n",
       "    <tr>\n",
       "      <th>2019-10-08</th>\n",
       "      <td>2499</td>\n",
       "    </tr>\n",
       "    <tr>\n",
       "      <th>2019-10-19</th>\n",
       "      <td>2331</td>\n",
       "    </tr>\n",
       "    <tr>\n",
       "      <th>2019-10-10</th>\n",
       "      <td>2243</td>\n",
       "    </tr>\n",
       "    <tr>\n",
       "      <th>2019-10-20</th>\n",
       "      <td>2144</td>\n",
       "    </tr>\n",
       "    <tr>\n",
       "      <th>2019-10-11</th>\n",
       "      <td>2030</td>\n",
       "    </tr>\n",
       "    <tr>\n",
       "      <th>2019-10-09</th>\n",
       "      <td>2027</td>\n",
       "    </tr>\n",
       "    <tr>\n",
       "      <th>2019-11-02</th>\n",
       "      <td>1853</td>\n",
       "    </tr>\n",
       "    <tr>\n",
       "      <th>2019-10-12</th>\n",
       "      <td>1843</td>\n",
       "    </tr>\n",
       "  </tbody>\n",
       "</table>\n",
       "</div>"
      ],
      "text/plain": [
       "            user_id\n",
       "event_day          \n",
       "2019-10-23  3360   \n",
       "2019-10-29  3196   \n",
       "2019-10-28  3184   \n",
       "2019-10-26  3127   \n",
       "2019-10-14  3034   \n",
       "2019-10-24  3034   \n",
       "2019-10-21  2908   \n",
       "2019-10-30  2877   \n",
       "2019-10-31  2868   \n",
       "2019-10-27  2861   \n",
       "2019-11-03  2861   \n",
       "2019-10-18  2744   \n",
       "2019-10-16  2730   \n",
       "2019-10-22  2728   \n",
       "2019-10-15  2722   \n",
       "2019-10-13  2635   \n",
       "2019-10-17  2618   \n",
       "2019-10-25  2618   \n",
       "2019-11-01  2577   \n",
       "2019-10-07  2545   \n",
       "2019-10-08  2499   \n",
       "2019-10-19  2331   \n",
       "2019-10-10  2243   \n",
       "2019-10-20  2144   \n",
       "2019-10-11  2030   \n",
       "2019-10-09  2027   \n",
       "2019-11-02  1853   \n",
       "2019-10-12  1843   "
      ]
     },
     "execution_count": 30,
     "metadata": {},
     "output_type": "execute_result"
    }
   ],
   "source": [
    "mobile.groupby(by='event_day').agg({'user_id': 'count'}).sort_values(by='user_id', ascending=False)"
   ]
  },
  {
   "cell_type": "markdown",
   "metadata": {},
   "source": [
    "Минимальное колличество совершенных действий 12 октября, а максимальное 23 октября"
   ]
  },
  {
   "cell_type": "markdown",
   "metadata": {},
   "source": [
    "### Возвращаемость (Retention Rate):\n",
    "#### Анализ бизнес-показателей:"
   ]
  },
  {
   "cell_type": "code",
   "execution_count": 31,
   "metadata": {},
   "outputs": [
    {
     "name": "stdout",
     "output_type": "stream",
     "text": [
      "Возвращаемость (Retention Rate):\n",
      "event_day\n",
      "2019-10-07    4.751922\n",
      "2019-10-08    4.751922\n",
      "2019-10-09    5.287678\n",
      "2019-10-10    5.427440\n",
      "2019-10-11    4.798509\n",
      "2019-10-12    4.146285\n",
      "2019-10-13    5.264384\n",
      "2019-10-14    6.941533\n",
      "2019-10-15    7.058001\n",
      "2019-10-16    6.475658\n",
      "2019-10-17    7.151176\n",
      "2019-10-18    7.174470\n",
      "2019-10-19    6.312602\n",
      "2019-10-20    6.382483\n",
      "2019-10-21    7.593757\n",
      "2019-10-22    7.221058\n",
      "2019-10-23    8.199394\n",
      "2019-10-24    7.430701\n",
      "2019-10-25    7.104589\n",
      "2019-10-26    6.685302\n",
      "2019-10-27    6.964826\n",
      "2019-10-28    8.106219\n",
      "2019-10-29    7.267645\n",
      "2019-10-30    7.290939\n",
      "2019-10-31    7.570464\n",
      "2019-11-01    6.498952\n",
      "2019-11-02    5.590496\n",
      "2019-11-03    6.638714\n",
      "Name: user_id, dtype: float64\n"
     ]
    }
   ],
   "source": [
    "# Рассчитаем общее количество уникальных пользователей\n",
    "total_users = mobile['user_id'].nunique()\n",
    "\n",
    "# Рассчитаем количество уникальных пользователей на каждый день\n",
    "daily_users = mobile.groupby('event_day')['user_id'].nunique()\n",
    "\n",
    "# Рассчитаем возвращаемость пользователей\n",
    "retention_rate = daily_users / total_users * 100\n",
    "\n",
    "# Выведем на экран результаты\n",
    "print('Возвращаемость (Retention Rate):')\n",
    "print(retention_rate)"
   ]
  },
  {
   "cell_type": "markdown",
   "metadata": {},
   "source": [
    "Визуализируем тепловой картой  "
   ]
  },
  {
   "cell_type": "code",
   "execution_count": 32,
   "metadata": {},
   "outputs": [
    {
     "data": {
      "image/png": "[encoded data removed]",
      "text/plain": [
       "<Figure size 720x432 with 2 Axes>"
      ]
     },
     "metadata": {
      "needs_background": "light"
     },
     "output_type": "display_data"
    }
   ],
   "source": [
    "# Рассчитаем общее количество уникальных пользователей\n",
    "total_users = mobile['user_id'].nunique()\n",
    "\n",
    "# Рассчитаем количество уникальных пользователей на каждый день\n",
    "daily_users = mobile.groupby(['event_day', 'user_id']).size().reset_index().groupby('event_day').size()\n",
    "\n",
    "# Рассчитаем возвращаемость пользователей\n",
    "retention_rate = (daily_users / total_users) * 100\n",
    "\n",
    "# Создаем тепловую карту\n",
    "plt.figure(figsize=(10, 6))\n",
    "sns.heatmap(retention_rate.to_frame(), cmap='YlGnBu', annot=True, fmt=\".1f\", cbar_kws={'label': 'Retention Rate (%)'})\n",
    "plt.title('Тепловая карта Возвращаемости (Retention Rate)')\n",
    "plt.xlabel('День события')\n",
    "plt.ylabel('Дата')\n",
    "plt.show()"
   ]
  },
  {
   "cell_type": "markdown",
   "metadata": {},
   "source": [
    "#### Время, проведенное в приложении:\n",
    "##### Среднее время:"
   ]
  },
  {
   "cell_type": "markdown",
   "metadata": {},
   "source": [
    "Определим событие и период, далее на их основе сформируем когорту. Возьмём дату, когда пользователь впервые проявил активность в мобильном приложении"
   ]
  },
  {
   "cell_type": "code",
   "execution_count": 33,
   "metadata": {},
   "outputs": [],
   "source": [
    "# Определим начало и конец каждого сеанса каждого пользователя в приложении с разделением по дням\n",
    "user_time_min = mobile.groupby(['user_id', 'event_day', 'event_hour'], as_index=False)\\\n",
    ".agg({'event_time':'min'})\\\n",
    ".rename(columns={'event_time':'event_time_start'})\n",
    "\n",
    "user_time_max = mobile.groupby(['user_id', 'event_day', 'event_hour'], as_index=False)\\\n",
    ".agg({'event_time':'max'})\\\n",
    ".rename(columns={'event_time':'event_time_stop'})"
   ]
  },
  {
   "cell_type": "code",
   "execution_count": 34,
   "metadata": {},
   "outputs": [],
   "source": [
    "# Объединим столбцы с временем начала и окончания сеанса для пользователей\n",
    "user_activity = pd.merge(mobile, user_time_min, on=['user_id', 'event_day', 'event_hour'])\n",
    "user_activity = pd.merge(user_activity, user_time_max, on=['user_id', 'event_day', 'event_hour'])"
   ]
  },
  {
   "cell_type": "code",
   "execution_count": 35,
   "metadata": {},
   "outputs": [
    {
     "data": {
      "text/html": [
       "<div>\n",
       "<style scoped>\n",
       "    .dataframe tbody tr th:only-of-type {\n",
       "        vertical-align: middle;\n",
       "    }\n",
       "\n",
       "    .dataframe tbody tr th {\n",
       "        vertical-align: top;\n",
       "    }\n",
       "\n",
       "    .dataframe thead th {\n",
       "        text-align: right;\n",
       "    }\n",
       "</style>\n",
       "<table border=\"1\" class=\"dataframe\">\n",
       "  <thead>\n",
       "    <tr style=\"text-align: right;\">\n",
       "      <th></th>\n",
       "      <th>event_time</th>\n",
       "      <th>event_name</th>\n",
       "      <th>user_id</th>\n",
       "      <th>source</th>\n",
       "      <th>event_day</th>\n",
       "      <th>event_hour</th>\n",
       "      <th>event_time_start</th>\n",
       "      <th>event_time_stop</th>\n",
       "    </tr>\n",
       "  </thead>\n",
       "  <tbody>\n",
       "    <tr>\n",
       "      <th>0</th>\n",
       "      <td>2019-10-07 00:00:00</td>\n",
       "      <td>advert_open</td>\n",
       "      <td>020292ab-89bc-4156-9acf-68bc2783f894</td>\n",
       "      <td>other</td>\n",
       "      <td>2019-10-07</td>\n",
       "      <td>0</td>\n",
       "      <td>2019-10-07 00:00:00</td>\n",
       "      <td>2019-10-07 00:18:43</td>\n",
       "    </tr>\n",
       "    <tr>\n",
       "      <th>1</th>\n",
       "      <td>2019-10-07 00:00:01</td>\n",
       "      <td>tips_show</td>\n",
       "      <td>020292ab-89bc-4156-9acf-68bc2783f894</td>\n",
       "      <td>other</td>\n",
       "      <td>2019-10-07</td>\n",
       "      <td>0</td>\n",
       "      <td>2019-10-07 00:00:00</td>\n",
       "      <td>2019-10-07 00:18:43</td>\n",
       "    </tr>\n",
       "    <tr>\n",
       "      <th>2</th>\n",
       "      <td>2019-10-07 00:00:07</td>\n",
       "      <td>tips_show</td>\n",
       "      <td>020292ab-89bc-4156-9acf-68bc2783f894</td>\n",
       "      <td>other</td>\n",
       "      <td>2019-10-07</td>\n",
       "      <td>0</td>\n",
       "      <td>2019-10-07 00:00:00</td>\n",
       "      <td>2019-10-07 00:18:43</td>\n",
       "    </tr>\n",
       "    <tr>\n",
       "      <th>3</th>\n",
       "      <td>2019-10-07 00:01:28</td>\n",
       "      <td>advert_open</td>\n",
       "      <td>020292ab-89bc-4156-9acf-68bc2783f894</td>\n",
       "      <td>other</td>\n",
       "      <td>2019-10-07</td>\n",
       "      <td>0</td>\n",
       "      <td>2019-10-07 00:00:00</td>\n",
       "      <td>2019-10-07 00:18:43</td>\n",
       "    </tr>\n",
       "    <tr>\n",
       "      <th>4</th>\n",
       "      <td>2019-10-07 00:01:35</td>\n",
       "      <td>tips_show</td>\n",
       "      <td>020292ab-89bc-4156-9acf-68bc2783f894</td>\n",
       "      <td>other</td>\n",
       "      <td>2019-10-07</td>\n",
       "      <td>0</td>\n",
       "      <td>2019-10-07 00:00:00</td>\n",
       "      <td>2019-10-07 00:18:43</td>\n",
       "    </tr>\n",
       "    <tr>\n",
       "      <th>...</th>\n",
       "      <td>...</td>\n",
       "      <td>...</td>\n",
       "      <td>...</td>\n",
       "      <td>...</td>\n",
       "      <td>...</td>\n",
       "      <td>...</td>\n",
       "      <td>...</td>\n",
       "      <td>...</td>\n",
       "    </tr>\n",
       "    <tr>\n",
       "      <th>74192</th>\n",
       "      <td>2019-11-03 23:47:01</td>\n",
       "      <td>tips_show</td>\n",
       "      <td>d157bffc-264d-4464-8220-1cc0c42f43a9</td>\n",
       "      <td>google</td>\n",
       "      <td>2019-11-03</td>\n",
       "      <td>23</td>\n",
       "      <td>2019-11-03 23:46:47</td>\n",
       "      <td>2019-11-03 23:47:50</td>\n",
       "    </tr>\n",
       "    <tr>\n",
       "      <th>74193</th>\n",
       "      <td>2019-11-03 23:47:47</td>\n",
       "      <td>advert_open</td>\n",
       "      <td>d157bffc-264d-4464-8220-1cc0c42f43a9</td>\n",
       "      <td>google</td>\n",
       "      <td>2019-11-03</td>\n",
       "      <td>23</td>\n",
       "      <td>2019-11-03 23:46:47</td>\n",
       "      <td>2019-11-03 23:47:50</td>\n",
       "    </tr>\n",
       "    <tr>\n",
       "      <th>74194</th>\n",
       "      <td>2019-11-03 23:47:50</td>\n",
       "      <td>tips_show</td>\n",
       "      <td>d157bffc-264d-4464-8220-1cc0c42f43a9</td>\n",
       "      <td>google</td>\n",
       "      <td>2019-11-03</td>\n",
       "      <td>23</td>\n",
       "      <td>2019-11-03 23:46:47</td>\n",
       "      <td>2019-11-03 23:47:50</td>\n",
       "    </tr>\n",
       "    <tr>\n",
       "      <th>74195</th>\n",
       "      <td>2019-11-03 23:47:36</td>\n",
       "      <td>photos_show</td>\n",
       "      <td>12681fdf-d1d1-454b-9b92-e8a3ccfaf07b</td>\n",
       "      <td>yandex</td>\n",
       "      <td>2019-11-03</td>\n",
       "      <td>23</td>\n",
       "      <td>2019-11-03 23:47:36</td>\n",
       "      <td>2019-11-03 23:47:36</td>\n",
       "    </tr>\n",
       "    <tr>\n",
       "      <th>74196</th>\n",
       "      <td>2019-11-03 23:56:57</td>\n",
       "      <td>search</td>\n",
       "      <td>20850c8f-4135-4059-b13b-198d3ac59902</td>\n",
       "      <td>google</td>\n",
       "      <td>2019-11-03</td>\n",
       "      <td>23</td>\n",
       "      <td>2019-11-03 23:56:57</td>\n",
       "      <td>2019-11-03 23:56:57</td>\n",
       "    </tr>\n",
       "  </tbody>\n",
       "</table>\n",
       "<p>74197 rows × 8 columns</p>\n",
       "</div>"
      ],
      "text/plain": [
       "               event_time   event_name                               user_id  \\\n",
       "0     2019-10-07 00:00:00  advert_open  020292ab-89bc-4156-9acf-68bc2783f894   \n",
       "1     2019-10-07 00:00:01  tips_show    020292ab-89bc-4156-9acf-68bc2783f894   \n",
       "2     2019-10-07 00:00:07  tips_show    020292ab-89bc-4156-9acf-68bc2783f894   \n",
       "3     2019-10-07 00:01:28  advert_open  020292ab-89bc-4156-9acf-68bc2783f894   \n",
       "4     2019-10-07 00:01:35  tips_show    020292ab-89bc-4156-9acf-68bc2783f894   \n",
       "...                   ...        ...                                     ...   \n",
       "74192 2019-11-03 23:47:01  tips_show    d157bffc-264d-4464-8220-1cc0c42f43a9   \n",
       "74193 2019-11-03 23:47:47  advert_open  d157bffc-264d-4464-8220-1cc0c42f43a9   \n",
       "74194 2019-11-03 23:47:50  tips_show    d157bffc-264d-4464-8220-1cc0c42f43a9   \n",
       "74195 2019-11-03 23:47:36  photos_show  12681fdf-d1d1-454b-9b92-e8a3ccfaf07b   \n",
       "74196 2019-11-03 23:56:57  search       20850c8f-4135-4059-b13b-198d3ac59902   \n",
       "\n",
       "       source   event_day  event_hour    event_time_start     event_time_stop  \n",
       "0      other   2019-10-07  0          2019-10-07 00:00:00 2019-10-07 00:18:43  \n",
       "1      other   2019-10-07  0          2019-10-07 00:00:00 2019-10-07 00:18:43  \n",
       "2      other   2019-10-07  0          2019-10-07 00:00:00 2019-10-07 00:18:43  \n",
       "3      other   2019-10-07  0          2019-10-07 00:00:00 2019-10-07 00:18:43  \n",
       "4      other   2019-10-07  0          2019-10-07 00:00:00 2019-10-07 00:18:43  \n",
       "...      ...          ... ..                          ...                 ...  \n",
       "74192  google  2019-11-03  23         2019-11-03 23:46:47 2019-11-03 23:47:50  \n",
       "74193  google  2019-11-03  23         2019-11-03 23:46:47 2019-11-03 23:47:50  \n",
       "74194  google  2019-11-03  23         2019-11-03 23:46:47 2019-11-03 23:47:50  \n",
       "74195  yandex  2019-11-03  23         2019-11-03 23:47:36 2019-11-03 23:47:36  \n",
       "74196  google  2019-11-03  23         2019-11-03 23:56:57 2019-11-03 23:56:57  \n",
       "\n",
       "[74197 rows x 8 columns]"
      ]
     },
     "execution_count": 35,
     "metadata": {},
     "output_type": "execute_result"
    }
   ],
   "source": [
    "user_activity"
   ]
  },
  {
   "cell_type": "code",
   "execution_count": 36,
   "metadata": {},
   "outputs": [],
   "source": [
    "# Посчитаем, cколько длился сеанс и переведем в минуты\n",
    "user_activity['time_spent'] = (user_activity['event_time_stop']-user_activity['event_time_start']).astype('timedelta64[s]')/60\n",
    "# Округлим time_spent\n",
    "user_activity['time_spent'] = round(user_activity['time_spent'], 1)"
   ]
  },
  {
   "cell_type": "code",
   "execution_count": 37,
   "metadata": {
    "scrolled": false
   },
   "outputs": [
    {
     "data": {
      "text/html": [
       "<div>\n",
       "<style scoped>\n",
       "    .dataframe tbody tr th:only-of-type {\n",
       "        vertical-align: middle;\n",
       "    }\n",
       "\n",
       "    .dataframe tbody tr th {\n",
       "        vertical-align: top;\n",
       "    }\n",
       "\n",
       "    .dataframe thead th {\n",
       "        text-align: right;\n",
       "    }\n",
       "</style>\n",
       "<table border=\"1\" class=\"dataframe\">\n",
       "  <thead>\n",
       "    <tr style=\"text-align: right;\">\n",
       "      <th></th>\n",
       "      <th>event_time</th>\n",
       "      <th>event_name</th>\n",
       "      <th>user_id</th>\n",
       "      <th>source</th>\n",
       "      <th>event_day</th>\n",
       "      <th>event_hour</th>\n",
       "      <th>event_time_start</th>\n",
       "      <th>event_time_stop</th>\n",
       "      <th>time_spent</th>\n",
       "    </tr>\n",
       "  </thead>\n",
       "  <tbody>\n",
       "    <tr>\n",
       "      <th>0</th>\n",
       "      <td>2019-10-07 00:00:00</td>\n",
       "      <td>advert_open</td>\n",
       "      <td>020292ab-89bc-4156-9acf-68bc2783f894</td>\n",
       "      <td>other</td>\n",
       "      <td>2019-10-07</td>\n",
       "      <td>0</td>\n",
       "      <td>2019-10-07</td>\n",
       "      <td>2019-10-07 00:18:43</td>\n",
       "      <td>18.7</td>\n",
       "    </tr>\n",
       "    <tr>\n",
       "      <th>1</th>\n",
       "      <td>2019-10-07 00:00:01</td>\n",
       "      <td>tips_show</td>\n",
       "      <td>020292ab-89bc-4156-9acf-68bc2783f894</td>\n",
       "      <td>other</td>\n",
       "      <td>2019-10-07</td>\n",
       "      <td>0</td>\n",
       "      <td>2019-10-07</td>\n",
       "      <td>2019-10-07 00:18:43</td>\n",
       "      <td>18.7</td>\n",
       "    </tr>\n",
       "    <tr>\n",
       "      <th>2</th>\n",
       "      <td>2019-10-07 00:00:07</td>\n",
       "      <td>tips_show</td>\n",
       "      <td>020292ab-89bc-4156-9acf-68bc2783f894</td>\n",
       "      <td>other</td>\n",
       "      <td>2019-10-07</td>\n",
       "      <td>0</td>\n",
       "      <td>2019-10-07</td>\n",
       "      <td>2019-10-07 00:18:43</td>\n",
       "      <td>18.7</td>\n",
       "    </tr>\n",
       "    <tr>\n",
       "      <th>3</th>\n",
       "      <td>2019-10-07 00:01:28</td>\n",
       "      <td>advert_open</td>\n",
       "      <td>020292ab-89bc-4156-9acf-68bc2783f894</td>\n",
       "      <td>other</td>\n",
       "      <td>2019-10-07</td>\n",
       "      <td>0</td>\n",
       "      <td>2019-10-07</td>\n",
       "      <td>2019-10-07 00:18:43</td>\n",
       "      <td>18.7</td>\n",
       "    </tr>\n",
       "    <tr>\n",
       "      <th>4</th>\n",
       "      <td>2019-10-07 00:01:35</td>\n",
       "      <td>tips_show</td>\n",
       "      <td>020292ab-89bc-4156-9acf-68bc2783f894</td>\n",
       "      <td>other</td>\n",
       "      <td>2019-10-07</td>\n",
       "      <td>0</td>\n",
       "      <td>2019-10-07</td>\n",
       "      <td>2019-10-07 00:18:43</td>\n",
       "      <td>18.7</td>\n",
       "    </tr>\n",
       "  </tbody>\n",
       "</table>\n",
       "</div>"
      ],
      "text/plain": [
       "           event_time   event_name                               user_id  \\\n",
       "0 2019-10-07 00:00:00  advert_open  020292ab-89bc-4156-9acf-68bc2783f894   \n",
       "1 2019-10-07 00:00:01  tips_show    020292ab-89bc-4156-9acf-68bc2783f894   \n",
       "2 2019-10-07 00:00:07  tips_show    020292ab-89bc-4156-9acf-68bc2783f894   \n",
       "3 2019-10-07 00:01:28  advert_open  020292ab-89bc-4156-9acf-68bc2783f894   \n",
       "4 2019-10-07 00:01:35  tips_show    020292ab-89bc-4156-9acf-68bc2783f894   \n",
       "\n",
       "  source   event_day  event_hour event_time_start     event_time_stop  \\\n",
       "0  other  2019-10-07  0          2019-10-07       2019-10-07 00:18:43   \n",
       "1  other  2019-10-07  0          2019-10-07       2019-10-07 00:18:43   \n",
       "2  other  2019-10-07  0          2019-10-07       2019-10-07 00:18:43   \n",
       "3  other  2019-10-07  0          2019-10-07       2019-10-07 00:18:43   \n",
       "4  other  2019-10-07  0          2019-10-07       2019-10-07 00:18:43   \n",
       "\n",
       "   time_spent  \n",
       "0  18.7        \n",
       "1  18.7        \n",
       "2  18.7        \n",
       "3  18.7        \n",
       "4  18.7        "
      ]
     },
     "execution_count": 37,
     "metadata": {},
     "output_type": "execute_result"
    }
   ],
   "source": [
    "# Проверим\n",
    "user_activity.head()"
   ]
  },
  {
   "cell_type": "code",
   "execution_count": 38,
   "metadata": {},
   "outputs": [
    {
     "name": "stdout",
     "output_type": "stream",
     "text": [
      "Среднее медианное время в приложении: 19.66 минут\n"
     ]
    }
   ],
   "source": [
    "# Рассчитаем среднее время, проведенное в приложении пользователями\n",
    "average_time = user_activity['time_spent'].mean()\n",
    "\n",
    "# Выведем на экран среднее время\n",
    "print('Среднее медианное время в приложении: {:.2f} минут'.format(average_time))"
   ]
  },
  {
   "cell_type": "markdown",
   "metadata": {},
   "source": [
    "Медианное время проведеннеое в приложении составило почти 19.66 минут, что очень похоже на исследования о средней продолжительности сессий мобильных приложений проводимых компанией компании Adjust за 2019 год. Согласно исследованиям, в 2019 году она составляла 19,09 мин Источник: https://traff.ink/articles/trendy-mobilnyh-prilozhenij-2021-2022. "
   ]
  },
  {
   "cell_type": "code",
   "execution_count": 39,
   "metadata": {},
   "outputs": [
    {
     "data": {
      "image/png": "[encoded data removed]",
      "text/plain": [
       "<Figure size 432x288 with 1 Axes>"
      ]
     },
     "metadata": {
      "needs_background": "light"
     },
     "output_type": "display_data"
    }
   ],
   "source": [
    "# Постороим боксплот боксплот\n",
    "sns.boxplot(user_activity['time_spent'], showfliers=False)\n",
    "plt.title('Время, проведенное в приложении пользователями')\n",
    "plt.xlabel('минуты')\n",
    "plt.ylabel('')\n",
    "plt.show();"
   ]
  },
  {
   "cell_type": "markdown",
   "metadata": {},
   "source": [
    "Среднее время сессии получилось 19 с половиной минут. Аномально короткие начинаются с нуля, вероятно это ошибочные действия пользователей. Максимальное время продолжительности сессии получилось почти 60 минут"
   ]
  },
  {
   "cell_type": "markdown",
   "metadata": {},
   "source": [
    "##### Аномально долгие/короткие сессии"
   ]
  },
  {
   "cell_type": "code",
   "execution_count": 40,
   "metadata": {},
   "outputs": [
    {
     "name": "stdout",
     "output_type": "stream",
     "text": [
      "Количество аномально долгих сессий: 3584\n",
      "Количество аномально коротких сессий: 3473\n",
      "События в нулевых сессиях: ['search' 'tips_show' 'map' 'contacts_show' 'photos_show' 'contacts_call'\n",
      " 'advert_open' 'favorites_add' 'tips_click']\n"
     ]
    }
   ],
   "source": [
    "# Определим границы аномально долгих и коротких сессий\n",
    "long_session_threshold = user_activity['time_spent'].quantile(0.95)\n",
    "short_session_threshold = user_activity['time_spent'].quantile(0.05)\n",
    "\n",
    "# Выделим аномально долгие и короткие сессии\n",
    "long_sessions = user_activity[user_activity['time_spent'] > long_session_threshold]\n",
    "short_sessions = user_activity[user_activity['time_spent'] < short_session_threshold]\n",
    "zero_sessions = user_activity[user_activity['time_spent'] == 0]\n",
    "zero_sessions_events = zero_sessions['event_name'].unique()\n",
    "\n",
    "# Выведем на экран результаты\n",
    "print('Количество аномально долгих сессий: {}'.format(len(long_sessions)))\n",
    "print('Количество аномально коротких сессий: {}'.format(len(short_sessions)))\n",
    "print('События в нулевых сессиях:', zero_sessions_events)"
   ]
  },
  {
   "cell_type": "markdown",
   "metadata": {},
   "source": [
    "Эти данные могут помочь понять, какие сессии являются аномальными и могут потребовать дополнительного анализа для определения причин"
   ]
  },
  {
   "cell_type": "markdown",
   "metadata": {},
   "source": [
    "### Частота совершенных событий с разбивкой по дням/времени"
   ]
  },
  {
   "cell_type": "code",
   "execution_count": 43,
   "metadata": {
    "scrolled": true
   },
   "outputs": [
    {
     "name": "stdout",
     "output_type": "stream",
     "text": [
      "Частота совершенных событий с разбивкой по дням и времени:\n",
      "event_day   event_hour\n",
      "2019-10-07  0             107\n",
      "            1             22 \n",
      "            3             38 \n",
      "            4             3  \n",
      "            5             21 \n",
      "                          .. \n",
      "2019-11-03  19            195\n",
      "            20            262\n",
      "            21            275\n",
      "            22            196\n",
      "            23            101\n",
      "Name: event_name, Length: 635, dtype: int64\n"
     ]
    }
   ],
   "source": [
    "# Рассчитаем количество событий с разбивкой по дням и времени\n",
    "event_frequency = mobile.groupby(['event_day', 'event_hour'])['event_name'].count()\n",
    "\n",
    "# Выведем на экран результаты\n",
    "print('Частота совершенных событий с разбивкой по дням и времени:')\n",
    "print(event_frequency)"
   ]
  },
  {
   "cell_type": "markdown",
   "metadata": {},
   "source": [
    "Эти данные показывают количество событий, произошедших в разные дни и временные интервалы. Например, в первый день (2019-10-07) в 0 часов было совершено 107 событий, в 1 час - 22 события и так далее"
   ]
  },
  {
   "cell_type": "code",
   "execution_count": 45,
   "metadata": {
    "scrolled": true
   },
   "outputs": [
    {
     "data": {
      "image/png": "[encoded data removed]",
      "text/plain": [
       "<Figure size 576x360 with 1 Axes>"
      ]
     },
     "metadata": {
      "needs_background": "light"
     },
     "output_type": "display_data"
    }
   ],
   "source": [
    "# Преобразуем данные\n",
    "mobile['event_day'] = pd.to_datetime(mobile['event_day'])\n",
    "mobile['weekday'] = mobile['event_day'].dt.day_name()\n",
    "\n",
    "# Расчитаем частоту событий по дням недели\n",
    "event_frequency_weekday = mobile.groupby('weekday')['event_name'].count().reindex(['Monday', 'Tuesday', 'Wednesday', 'Thursday', 'Friday', 'Saturday', 'Sunday'])\n",
    "\n",
    "# Визуализируем результаты\n",
    "plt.figure(figsize=(8, 5))\n",
    "event_frequency_weekday.plot(kind='bar')\n",
    "plt.xlabel('День недели')\n",
    "plt.ylabel('Частота событий')\n",
    "plt.title('Динамика частоты событий по дням недели')\n",
    "plt.xticks(rotation=45)\n",
    "plt.show()"
   ]
  },
  {
   "cell_type": "markdown",
   "metadata": {},
   "source": [
    "На гистограмме частоты действий пользователей хорошо видно что максимальня активность проявляется с понедельника и постепенным спадом к выходным дням"
   ]
  },
  {
   "cell_type": "markdown",
   "metadata": {},
   "source": [
    "### Конверсия в целевое действие (contacts_show)"
   ]
  },
  {
   "cell_type": "code",
   "execution_count": 46,
   "metadata": {},
   "outputs": [
    {
     "name": "stdout",
     "output_type": "stream",
     "text": [
      "Конверсия в целевое действие (contacts_show): 22.85%\n"
     ]
    }
   ],
   "source": [
    "# Рассчитаем количество уникальных пользователей, совершивших действие contacts_show\n",
    "total_contacts_show = mobile[mobile['event_name'] == 'contacts_show']['user_id'].nunique()\n",
    "\n",
    "# Рассчитаем конверсию в целевое действие\n",
    "conversion_rate = (total_contacts_show / total_users) * 100\n",
    "\n",
    "# Выведем на экран результаты в процентном соотношении\n",
    "print('Конверсия в целевое действие (contacts_show): {:.2f}%'.format(conversion_rate))"
   ]
  },
  {
   "cell_type": "code",
   "execution_count": 47,
   "metadata": {},
   "outputs": [
    {
     "name": "stdout",
     "output_type": "stream",
     "text": [
      "Доля пользователей, совершивших новые события: 44.35%\n"
     ]
    }
   ],
   "source": [
    "# Рассчитаем количество уникальных пользователей, совершивших новые события\n",
    "new_events = mobile[mobile['event_name'].isin(['map', 'favorites_add', 'tips_click'])]['user_id'].nunique()\n",
    "\n",
    "# Рассчитаем долю пользователей, совершивших новые события\n",
    "new_events_percentage = (new_events / total_users) * 100\n",
    "\n",
    "# Выведем на экран результаты\n",
    "print('Доля пользователей, совершивших новые события: {:.2f}%'.format(new_events_percentage))"
   ]
  },
  {
   "cell_type": "markdown",
   "metadata": {},
   "source": [
    "### Создание тепловой карты"
   ]
  },
  {
   "cell_type": "code",
   "execution_count": 49,
   "metadata": {
    "scrolled": true
   },
   "outputs": [
    {
     "data": {
      "image/png": "[encoded data removed]",
      "text/plain": [
       "<Figure size 720x432 with 2 Axes>"
      ]
     },
     "metadata": {
      "needs_background": "light"
     },
     "output_type": "display_data"
    }
   ],
   "source": [
    "mobile['event_day'] =mobile['event_day'].dt.strftime('%Y-%m-%d')\n",
    "heatmap_data = mobile.groupby(['event_day', 'event_name'])['user_id'].count().unstack()\n",
    "plt.figure(figsize=(10, 6))\n",
    "sns.heatmap(heatmap_data, cmap='YlGnBu', annot=True, fmt=\"d\")\n",
    "plt.title('Тепловая карта событий по дням')\n",
    "plt.xlabel('Событие')\n",
    "plt.ylabel('День')\n",
    "plt.show()"
   ]
  },
  {
   "cell_type": "markdown",
   "metadata": {},
   "source": [
    "В рамках подраздела общего поведения пользователей было выявлено следующее:\n",
    "\n",
    " - всего событий: 74197\n",
    " - всего пользователей: 4293\n",
    " - в среднем событий приходится на пользователя: 17.0\n",
    " - в среднем по медиане событий приходится на пользователя: 9.0\n",
    " - пользователей пришедших из google: 1129\n",
    " - пользователей пришедших из other: 1230\n",
    " - пользователей пришедших из yandex: 1934\n",
    " - больше всего совершено действий: tips_show\n",
    " - целевых действий contacts_show: 4529\n",
    " - минимальное колличество действий пользователя: 1\n",
    " - максимальное колличество действий пользователя: 478\n",
    " - представлены события за период с 2019-10-07 по 2019-11-03\n",
    " - всего 28 дней\n",
    " - дней без данных нет, данные распределены равномерно без явных аномалий\n",
    " - прослеживается дневная активность со спадом на ночное время\n",
    " - минимальное колличество совершенных действий 12 октября, а максимальное 23 октября\n",
    " - среднее медианное время в приложении: 19.66 минут\n",
    " - аномально короткие начинаются с нуля \n",
    " - максимальное время продолжительности сессии получилось почти 60 минут\n",
    " - количество аномально долгих сессий: 3584\n",
    " - количество аномально коротких сессий: 3473\n",
    " - конверсия в целевое действие (contacts_show): 22.85%\n",
    " - доля пользователей, совершивших новые события: 44.35%\n",
    " - максимальня активность пользователей проявляется с понедельника и постепенным спадом к выходным дням"
   ]
  },
  {
   "cell_type": "markdown",
   "metadata": {},
   "source": [
    "## Сегментация пользователей на основе событий"
   ]
  },
  {
   "cell_type": "markdown",
   "metadata": {},
   "source": [
    "### Сегментация пользователей на основании длительности и их активности"
   ]
  },
  {
   "cell_type": "markdown",
   "metadata": {},
   "source": [
    "   Сегментация пользователей на основе их активности в приложении и длительности проведенного времени может быть полезным инструментом для понимания поведения пользователей и определения специфических групп, которым можно предложить индивидуальные стратегии удержания и улучшения опыта использования приложения.\n",
    "\n",
    "Разделение пользователей на три сегмента с долгими, средними и короткими сессиями предполагает следующее:\n",
    "\n",
    " - Сегмент с долгими сессиями: В этом сегменте находятся пользователи, которые проводят значительное количество времени в приложении и активно взаимодействуют с его функционалом. Такие пользователи могут быть потенциально заинтересованы в дополнительных возможностях и функциях приложения. Исследование этого сегмента может помочь определить, какие функции и контент могут быть развиты или улучшены, чтобы привлечь и удержать пользователей с высокой активностью.\n",
    "\n",
    " - Сегмент с средними сессиями: В этот сегмент входят пользователи, чья активность и длительность сессий находятся на среднем уровне. Изучение этого сегмента может помочь понять, какие факторы влияют на среднюю активность пользователей, и определить возможные причины, по которым они не проявляют высокую активность. Например, возможно, им не хватает функций или руководства по использованию приложения. Эти знания могут помочь в оптимизации пользовательского интерфейса и улучшении показателей активности в приложении.\n",
    "\n",
    " - Сегмент с короткими сессиями: В этот сегмент попадают пользователи, проводящие небольшое количество времени в приложении и имеющие короткие сессии. Изучение этого сегмента может помочь идентифицировать причины низкой активности и быстрого покидания приложения. Возможно, пользователи не нашли приложение полезным или им не хватило информации о его функционале. Анализ этого сегмента может помочь определить проблемные области приложения и предложить улучшения, чтобы привлечь и удержать пользователей с низкой активностью."
   ]
  },
  {
   "cell_type": "code",
   "execution_count": 50,
   "metadata": {},
   "outputs": [],
   "source": [
    "segments = []\n",
    "segments.append(user_activity[user_activity['time_spent'] > long_session_threshold])\n",
    "segments.append(user_activity[(user_activity['time_spent'] >= short_session_threshold) & (user_activity['time_spent'] <= long_session_threshold)])\n",
    "segments.append(user_activity[user_activity['time_spent'] < short_session_threshold])"
   ]
  },
  {
   "cell_type": "markdown",
   "metadata": {},
   "source": [
    "### Проверка обладают ли сегментированные пользователи одинаковым распределением среднего количества событий на пользователя"
   ]
  },
  {
   "cell_type": "markdown",
   "metadata": {},
   "source": [
    "Рассчитаем среднее количество событий на пользователя для каждого сегмента. Произведем статистический тест (t-тест) для проверки различия между средним количеством событий и ожидаемым значением"
   ]
  },
  {
   "cell_type": "code",
   "execution_count": 53,
   "metadata": {},
   "outputs": [
    {
     "name": "stdout",
     "output_type": "stream",
     "text": [
      "Среднее количество событий на пользователя не отличается от ожидаемого значения.\n",
      "Вес сегмента 1: 1.8194444444444444\n",
      "Вес сегмента 2: 57.833333333333336\n",
      "Вес сегмента 3: 20.86111111111111\n"
     ]
    }
   ],
   "source": [
    "# Проверяем пересечение пользователей между сегментами\n",
    "intersection = set(segments[0]['user_id'])\n",
    "for segment in segments[1:]:\n",
    "    intersection = intersection.intersection(set(segment['user_id']))\n",
    "\n",
    "if len(intersection) == 0:\n",
    "    print(\"Ошибка: Нет пересечения пользователей между сегментами.\")\n",
    "else:\n",
    "    # Рассчитываем вес каждого сегмента\n",
    "    segment_weights = [segment['user_id'].nunique() / len(intersection) for segment in segments]\n",
    "\n",
    "    # Рассчитываем среднее количество событий на пользователя для каждого сегмента\n",
    "    segment_data = [segment['event_name'].count() / segment['user_id'].nunique() for segment in segments]\n",
    "\n",
    "    # Задаем ожидаемое среднее значение\n",
    "    expected_mean = 10\n",
    "\n",
    "    # Выполняем одновыборочный t-тест для проверки различия средних значений\n",
    "    t_statistic, p_value = stats.ttest_1samp(segment_data, popmean=expected_mean)\n",
    "\n",
    "    # Проверяем значение p-value и выводим результат\n",
    "    if p_value < 0.05:\n",
    "        print(\"Среднее количество событий на пользователя отличается от ожидаемого значения.\")\n",
    "    else:\n",
    "        print(\"Среднее количество событий на пользователя не отличается от ожидаемого значения.\")\n",
    "\n",
    "    # Выводим вес каждого сегмента\n",
    "    for i, segment in enumerate(segments):\n",
    "        print(f\"Вес сегмента {i+1}: {segment_weights[i]}\")"
   ]
  },
  {
   "cell_type": "markdown",
   "metadata": {},
   "source": [
    "Результаты теста показали, что среднее количество событий на пользователя не отличается от ожидаемого значения"
   ]
  },
  {
   "cell_type": "markdown",
   "metadata": {},
   "source": [
    "### Какая группа пользователей лучшая по возвращаемости"
   ]
  },
  {
   "cell_type": "markdown",
   "metadata": {},
   "source": [
    "Рассчитаем показатель возвращаемости (в процентах) для каждого сегмента пользователей. Определим лучшую группу пользователей по возвращаемости"
   ]
  },
  {
   "cell_type": "code",
   "execution_count": 54,
   "metadata": {
    "scrolled": false
   },
   "outputs": [
    {
     "name": "stdout",
     "output_type": "stream",
     "text": [
      "Лучшая группа пользователей по возвращаемости:\n",
      "               event_time   event_name                               user_id  \\\n",
      "0     2019-10-07 00:00:00  advert_open  020292ab-89bc-4156-9acf-68bc2783f894   \n",
      "1     2019-10-07 00:00:01  tips_show    020292ab-89bc-4156-9acf-68bc2783f894   \n",
      "2     2019-10-07 00:00:07  tips_show    020292ab-89bc-4156-9acf-68bc2783f894   \n",
      "3     2019-10-07 00:01:28  advert_open  020292ab-89bc-4156-9acf-68bc2783f894   \n",
      "4     2019-10-07 00:01:35  tips_show    020292ab-89bc-4156-9acf-68bc2783f894   \n",
      "...                   ...        ...                                     ...   \n",
      "74190 2019-11-03 23:46:47  map          d157bffc-264d-4464-8220-1cc0c42f43a9   \n",
      "74191 2019-11-03 23:46:59  advert_open  d157bffc-264d-4464-8220-1cc0c42f43a9   \n",
      "74192 2019-11-03 23:47:01  tips_show    d157bffc-264d-4464-8220-1cc0c42f43a9   \n",
      "74193 2019-11-03 23:47:47  advert_open  d157bffc-264d-4464-8220-1cc0c42f43a9   \n",
      "74194 2019-11-03 23:47:50  tips_show    d157bffc-264d-4464-8220-1cc0c42f43a9   \n",
      "\n",
      "       source   event_day  event_hour    event_time_start     event_time_stop  \\\n",
      "0      other   2019-10-07  0          2019-10-07 00:00:00 2019-10-07 00:18:43   \n",
      "1      other   2019-10-07  0          2019-10-07 00:00:00 2019-10-07 00:18:43   \n",
      "2      other   2019-10-07  0          2019-10-07 00:00:00 2019-10-07 00:18:43   \n",
      "3      other   2019-10-07  0          2019-10-07 00:00:00 2019-10-07 00:18:43   \n",
      "4      other   2019-10-07  0          2019-10-07 00:00:00 2019-10-07 00:18:43   \n",
      "...      ...          ... ..                          ...                 ...   \n",
      "74190  google  2019-11-03  23         2019-11-03 23:46:47 2019-11-03 23:47:50   \n",
      "74191  google  2019-11-03  23         2019-11-03 23:46:47 2019-11-03 23:47:50   \n",
      "74192  google  2019-11-03  23         2019-11-03 23:46:47 2019-11-03 23:47:50   \n",
      "74193  google  2019-11-03  23         2019-11-03 23:46:47 2019-11-03 23:47:50   \n",
      "74194  google  2019-11-03  23         2019-11-03 23:46:47 2019-11-03 23:47:50   \n",
      "\n",
      "       time_spent  \n",
      "0      18.7        \n",
      "1      18.7        \n",
      "2      18.7        \n",
      "3      18.7        \n",
      "4      18.7        \n",
      "...     ...        \n",
      "74190  1.0         \n",
      "74191  1.0         \n",
      "74192  1.0         \n",
      "74193  1.0         \n",
      "74194  1.0         \n",
      "\n",
      "[67140 rows x 9 columns]\n"
     ]
    },
    {
     "data": {
      "image/png": "[encoded data removed]",
      "text/plain": [
       "<Figure size 720x432 with 2 Axes>"
      ]
     },
     "metadata": {
      "needs_background": "light"
     },
     "output_type": "display_data"
    }
   ],
   "source": [
    "segment_retention = [segment['user_id'].nunique() / total_users * 100 for segment in segments]\n",
    "best_segment_retention = max(segment_retention)\n",
    "best_segment_index = segment_retention.index(best_segment_retention)\n",
    "best_segment = segments[best_segment_index]\n",
    "print(\"Лучшая группа пользователей по возвращаемости:\")\n",
    "print(best_segment)\n",
    "\n",
    "# Создание матрицы показателей возвращаемости\n",
    "retention_matrix = [[segment['user_id'].nunique() / total_users * 100 for segment in segments]]\n",
    "# Создание тепловой карты\n",
    "plt.figure(figsize=(10, 6))\n",
    "sns.heatmap(retention_matrix, annot=True, fmt=\".1f\", cmap=\"YlGnBu\")\n",
    "plt.xlabel('Сегменты')\n",
    "plt.ylabel('Показатель возвращаемости')\n",
    "plt.title('Тепловая карта показателя возвращаемости')\n",
    "plt.xticks(ticks=range(len(segments)), labels=['Сегмент {}'.format(i) for i in range(len(segments))])\n",
    "plt.show()"
   ]
  },
  {
   "cell_type": "markdown",
   "metadata": {},
   "source": [
    "Была определена группа 0 пользователей с наибольшей возвращаемостью. Данная группа обладает наивысшим показателем возвращаемости среди всех сегментов"
   ]
  },
  {
   "cell_type": "markdown",
   "metadata": {},
   "source": [
    "### У какой группы пользователей лучшая конверсия в целевое действие (contacts_show)"
   ]
  },
  {
   "cell_type": "markdown",
   "metadata": {},
   "source": [
    "Рассчитаем конверсию в целевое действие (contacts_show) для каждого сегмента пользователей. Определим группу пользователей с лучшей конверсией в целевое действие"
   ]
  },
  {
   "cell_type": "code",
   "execution_count": 55,
   "metadata": {
    "scrolled": true
   },
   "outputs": [
    {
     "name": "stdout",
     "output_type": "stream",
     "text": [
      "Конверсия в целевое действие (contacts_show) для каждой группы:\n",
      "Группа 1:\n",
      "Общее количество пользователей: 131\n",
      "Конверсия: 32.06%\n",
      "Сегмент пользователей:\n",
      "               event_time event_name                               user_id  \\\n",
      "610   2019-10-07 12:01:28  tips_show  f0290ab2-e1af-47fb-9ee8-56144d72eeee   \n",
      "611   2019-10-07 12:02:22  tips_show  f0290ab2-e1af-47fb-9ee8-56144d72eeee   \n",
      "612   2019-10-07 12:03:03  tips_show  f0290ab2-e1af-47fb-9ee8-56144d72eeee   \n",
      "613   2019-10-07 12:04:09  tips_show  f0290ab2-e1af-47fb-9ee8-56144d72eeee   \n",
      "614   2019-10-07 12:05:42  tips_show  f0290ab2-e1af-47fb-9ee8-56144d72eeee   \n",
      "...                   ...        ...                                   ...   \n",
      "74124 2019-11-03 23:53:25  tips_show  28fccdf4-7b9e-42f5-bc73-439a265f20e9   \n",
      "74125 2019-11-03 23:53:30  tips_show  28fccdf4-7b9e-42f5-bc73-439a265f20e9   \n",
      "74126 2019-11-03 23:54:00  tips_show  28fccdf4-7b9e-42f5-bc73-439a265f20e9   \n",
      "74127 2019-11-03 23:57:06  tips_show  28fccdf4-7b9e-42f5-bc73-439a265f20e9   \n",
      "74128 2019-11-03 23:58:13  tips_show  28fccdf4-7b9e-42f5-bc73-439a265f20e9   \n",
      "\n",
      "       source   event_day  event_hour    event_time_start     event_time_stop  \\\n",
      "610    yandex  2019-10-07  12         2019-10-07 12:01:28 2019-10-07 12:59:59   \n",
      "611    yandex  2019-10-07  12         2019-10-07 12:01:28 2019-10-07 12:59:59   \n",
      "612    yandex  2019-10-07  12         2019-10-07 12:01:28 2019-10-07 12:59:59   \n",
      "613    yandex  2019-10-07  12         2019-10-07 12:01:28 2019-10-07 12:59:59   \n",
      "614    yandex  2019-10-07  12         2019-10-07 12:01:28 2019-10-07 12:59:59   \n",
      "...       ...         ...  ..                         ...                 ...   \n",
      "74124  google  2019-11-03  23         2019-11-03 23:00:02 2019-11-03 23:58:13   \n",
      "74125  google  2019-11-03  23         2019-11-03 23:00:02 2019-11-03 23:58:13   \n",
      "74126  google  2019-11-03  23         2019-11-03 23:00:02 2019-11-03 23:58:13   \n",
      "74127  google  2019-11-03  23         2019-11-03 23:00:02 2019-11-03 23:58:13   \n",
      "74128  google  2019-11-03  23         2019-11-03 23:00:02 2019-11-03 23:58:13   \n",
      "\n",
      "       time_spent  \n",
      "610    58.5        \n",
      "611    58.5        \n",
      "612    58.5        \n",
      "613    58.5        \n",
      "614    58.5        \n",
      "...     ...        \n",
      "74124  58.2        \n",
      "74125  58.2        \n",
      "74126  58.2        \n",
      "74127  58.2        \n",
      "74128  58.2        \n",
      "\n",
      "[3584 rows x 9 columns]\n",
      "\n",
      "Группа 2:\n",
      "Общее количество пользователей: 4164\n",
      "Конверсия: 22.19%\n",
      "Сегмент пользователей:\n",
      "               event_time   event_name                               user_id  \\\n",
      "0     2019-10-07 00:00:00  advert_open  020292ab-89bc-4156-9acf-68bc2783f894   \n",
      "1     2019-10-07 00:00:01  tips_show    020292ab-89bc-4156-9acf-68bc2783f894   \n",
      "2     2019-10-07 00:00:07  tips_show    020292ab-89bc-4156-9acf-68bc2783f894   \n",
      "3     2019-10-07 00:01:28  advert_open  020292ab-89bc-4156-9acf-68bc2783f894   \n",
      "4     2019-10-07 00:01:35  tips_show    020292ab-89bc-4156-9acf-68bc2783f894   \n",
      "...                   ...        ...                                     ...   \n",
      "74190 2019-11-03 23:46:47  map          d157bffc-264d-4464-8220-1cc0c42f43a9   \n",
      "74191 2019-11-03 23:46:59  advert_open  d157bffc-264d-4464-8220-1cc0c42f43a9   \n",
      "74192 2019-11-03 23:47:01  tips_show    d157bffc-264d-4464-8220-1cc0c42f43a9   \n",
      "74193 2019-11-03 23:47:47  advert_open  d157bffc-264d-4464-8220-1cc0c42f43a9   \n",
      "74194 2019-11-03 23:47:50  tips_show    d157bffc-264d-4464-8220-1cc0c42f43a9   \n",
      "\n",
      "       source   event_day  event_hour    event_time_start     event_time_stop  \\\n",
      "0      other   2019-10-07  0          2019-10-07 00:00:00 2019-10-07 00:18:43   \n",
      "1      other   2019-10-07  0          2019-10-07 00:00:00 2019-10-07 00:18:43   \n",
      "2      other   2019-10-07  0          2019-10-07 00:00:00 2019-10-07 00:18:43   \n",
      "3      other   2019-10-07  0          2019-10-07 00:00:00 2019-10-07 00:18:43   \n",
      "4      other   2019-10-07  0          2019-10-07 00:00:00 2019-10-07 00:18:43   \n",
      "...      ...          ... ..                          ...                 ...   \n",
      "74190  google  2019-11-03  23         2019-11-03 23:46:47 2019-11-03 23:47:50   \n",
      "74191  google  2019-11-03  23         2019-11-03 23:46:47 2019-11-03 23:47:50   \n",
      "74192  google  2019-11-03  23         2019-11-03 23:46:47 2019-11-03 23:47:50   \n",
      "74193  google  2019-11-03  23         2019-11-03 23:46:47 2019-11-03 23:47:50   \n",
      "74194  google  2019-11-03  23         2019-11-03 23:46:47 2019-11-03 23:47:50   \n",
      "\n",
      "       time_spent  \n",
      "0      18.7        \n",
      "1      18.7        \n",
      "2      18.7        \n",
      "3      18.7        \n",
      "4      18.7        \n",
      "...     ...        \n",
      "74190  1.0         \n",
      "74191  1.0         \n",
      "74192  1.0         \n",
      "74193  1.0         \n",
      "74194  1.0         \n",
      "\n",
      "[67140 rows x 9 columns]\n",
      "\n",
      "Группа 3:\n",
      "Общее количество пользователей: 1502\n",
      "Конверсия: 12.65%\n",
      "Сегмент пользователей:\n",
      "               event_time   event_name                               user_id  \\\n",
      "72    2019-10-07 00:05:20  search       d9b06b47-0f36-419b-bbb0-3533e582a6cb   \n",
      "73    2019-10-07 00:05:23  search       d9b06b47-0f36-419b-bbb0-3533e582a6cb   \n",
      "166   2019-10-07 03:19:39  tips_show    57321726-5d66-4d51-84f4-c797c35dcf2b   \n",
      "205   2019-10-07 08:59:37  map          a63a3a79-08fa-4ec2-895c-50b4eb09b8d0   \n",
      "213   2019-10-07 09:01:46  tips_show    c022d269-699f-4151-ab29-20fc1dfff684   \n",
      "...                   ...        ...                                     ...   \n",
      "74144 2019-11-03 23:01:09  photos_show  57930074-b0f6-4107-8836-8c973e3ca3ec   \n",
      "74171 2019-11-03 23:14:09  map          ddc530dc-3ac2-4025-89ac-734e49a81828   \n",
      "74184 2019-11-03 23:46:10  photos_show  d5e14ec3-7ae5-4598-ad36-f626b3ce24e3   \n",
      "74195 2019-11-03 23:47:36  photos_show  12681fdf-d1d1-454b-9b92-e8a3ccfaf07b   \n",
      "74196 2019-11-03 23:56:57  search       20850c8f-4135-4059-b13b-198d3ac59902   \n",
      "\n",
      "       source   event_day  event_hour    event_time_start     event_time_stop  \\\n",
      "72     other   2019-10-07  0          2019-10-07 00:05:20 2019-10-07 00:05:23   \n",
      "73     other   2019-10-07  0          2019-10-07 00:05:20 2019-10-07 00:05:23   \n",
      "166    google  2019-10-07  3          2019-10-07 03:19:39 2019-10-07 03:19:39   \n",
      "205    google  2019-10-07  8          2019-10-07 08:59:37 2019-10-07 08:59:37   \n",
      "213    yandex  2019-10-07  9          2019-10-07 09:01:46 2019-10-07 09:01:46   \n",
      "...       ...         ... ..                          ...                 ...   \n",
      "74144  yandex  2019-11-03  23         2019-11-03 23:01:09 2019-11-03 23:01:09   \n",
      "74171  yandex  2019-11-03  23         2019-11-03 23:14:09 2019-11-03 23:14:09   \n",
      "74184  google  2019-11-03  23         2019-11-03 23:46:10 2019-11-03 23:46:10   \n",
      "74195  yandex  2019-11-03  23         2019-11-03 23:47:36 2019-11-03 23:47:36   \n",
      "74196  google  2019-11-03  23         2019-11-03 23:56:57 2019-11-03 23:56:57   \n",
      "\n",
      "       time_spent  \n",
      "72     0.0         \n",
      "73     0.0         \n",
      "166    0.0         \n",
      "205    0.0         \n",
      "213    0.0         \n",
      "...    ...         \n",
      "74144  0.0         \n",
      "74171  0.0         \n",
      "74184  0.0         \n",
      "74195  0.0         \n",
      "74196  0.0         \n",
      "\n",
      "[3473 rows x 9 columns]\n",
      "\n"
     ]
    }
   ],
   "source": [
    "segment_conversion_rates = []\n",
    "for segment in segments:\n",
    "    total_users = segment['user_id'].nunique()\n",
    "    contacts_show_users = segment[segment['event_name'] == 'contacts_show']['user_id'].nunique()\n",
    "    if total_users != 0:\n",
    "        conversion_rate = contacts_show_users / total_users * 100\n",
    "        segment_conversion_rates.append((total_users, conversion_rate, segment))\n",
    "\n",
    "segment_conversion_rates.sort(key=lambda x: x[1], reverse=True)\n",
    "print(\"Конверсия в целевое действие (contacts_show) для каждой группы:\")\n",
    "for index, (total_users, conversion_rate, segment) in enumerate(segment_conversion_rates, start=1):\n",
    "    print(f\"Группа {index}:\")\n",
    "    print(f\"Общее количество пользователей: {total_users}\")\n",
    "    print(f\"Конверсия: {conversion_rate:.2f}%\")\n",
    "    print(f\"Сегмент пользователей:\")\n",
    "    print(segment)\n",
    "    print()"
   ]
  },
  {
   "cell_type": "markdown",
   "metadata": {},
   "source": [
    "Группа 1: Конверсия: 32.06% Группа 2: Конверсия: 22.19% Группа 3: Конверсия: 12.65%"
   ]
  },
  {
   "cell_type": "markdown",
   "metadata": {},
   "source": [
    "В рамках подраздела общего поведения пользователей было выявлено следующее:\n",
    " - сегментировал пользователей на основе их активности в приложении и длительности проведенного времени. Сформировали три сегмента: сегмент с долгими сессиями, сегмент с средними сессиями и сегмент с короткими сессиями\n",
    " - рассчитал среднее количество событий на пользователя для каждого сегмента. Произвели статистический тест (t-тест) для проверки различия между средним количеством событий и ожидаемым значением\n",
    "      - результаты теста показали, что среднее количество событий на пользователя не отличается от ожидаемого значения\n",
    " - рассчитал показатель возвращаемости (в процентах) для каждого сегмента пользователей. Определили лучшую группу пользователей по возвращаемости     \n",
    "     - была определена группа 0 пользователей с наибольшей возвращаемостью. Данная группа обладает наивысшим показателем возвращаемости среди всех сегментов\n",
    " - рассчитал конверсию в целевое действие (contacts_show) для каждого сегмента пользователей  "
   ]
  },
  {
   "cell_type": "markdown",
   "metadata": {},
   "source": [
    "## Проверка статистических гипотез"
   ]
  },
  {
   "cell_type": "markdown",
   "metadata": {},
   "source": [
    "### Проверка гипотезы: Различия конверсии в просмотры контактов между пользователями, пришедшими с источника Yandex, и пользователями, пришедшими с источника Google"
   ]
  },
  {
   "cell_type": "markdown",
   "metadata": {},
   "source": [
    "Разделим пользователей на две группы: пользователи, пришедшие с источника Yandex, и пользователи, пришедшие с источника Google. Рассчитаем конверсию в просмотры контактов для каждой группы. Проверим статистическую гипотезу о различии конверсии между группами"
   ]
  },
  {
   "cell_type": "markdown",
   "metadata": {},
   "source": [
    "Выдвенем нулевую и альтернативную гипотезы"
   ]
  },
  {
   "cell_type": "markdown",
   "metadata": {},
   "source": [
    " - Нулевая гипотеза Н0: Различия в конверсии в просмотры контактов между пользователями, пришедшими с источника Yandex и Google, являются статистически значимыми\n",
    " - Альтернативная гипотеза Н1: Нет статистически значимых различий в конверсии в просмотры контактов между пользователями, пришедшими с источника Yandex и Google\n",
    " \n",
    " \n",
    " \n",
    " \n",
    " - Оценка гипотез будет проводиться с помощью z_test\n",
    " - Уровень статистической значимости alpha задам равным 0.05"
   ]
  },
  {
   "cell_type": "code",
   "execution_count": 56,
   "metadata": {},
   "outputs": [],
   "source": [
    "# напишем функцию для проведения z-теста\n",
    " \n",
    "def z_test(successes1, successes2, trials1, trials2, alpha=0.05):\n",
    "    p1 = successes1 / trials1\n",
    "    p2 = successes2 / trials2\n",
    "    p_combined = (successes1 + successes2) / (trials1 + trials2)\n",
    "    difference = p1 - p2\n",
    "    z_value = difference / mth.sqrt(p_combined * (1 - p_combined) * (1/trials1 + 1/trials2)) \n",
    "    distr = st.norm(0, 1)  \n",
    "    p_value = (1 - distr.cdf(abs(z_value))) * 2 \n",
    "    print('p-значение: ', p_value)\n",
    " \n",
    "    if (p_value < alpha): \n",
    "        display(\"Различия в конверсии в просмотры контактов между пользователями, пришедшими с источника Yandex и Google, являются статистически значимыми.\")\n",
    "    else:\n",
    "        display(\"Нет статистически значимых различий в конверсии в просмотры контактов между пользователями, пришедшими с источника Yandex и Google.\")    "
   ]
  },
  {
   "cell_type": "code",
   "execution_count": 57,
   "metadata": {},
   "outputs": [
    {
     "data": {
      "text/html": [
       "<div>\n",
       "<style scoped>\n",
       "    .dataframe tbody tr th:only-of-type {\n",
       "        vertical-align: middle;\n",
       "    }\n",
       "\n",
       "    .dataframe tbody tr th {\n",
       "        vertical-align: top;\n",
       "    }\n",
       "\n",
       "    .dataframe thead th {\n",
       "        text-align: right;\n",
       "    }\n",
       "</style>\n",
       "<table border=\"1\" class=\"dataframe\">\n",
       "  <thead>\n",
       "    <tr style=\"text-align: right;\">\n",
       "      <th></th>\n",
       "      <th>source</th>\n",
       "      <th>user_id</th>\n",
       "    </tr>\n",
       "  </thead>\n",
       "  <tbody>\n",
       "    <tr>\n",
       "      <th>0</th>\n",
       "      <td>google</td>\n",
       "      <td>1129</td>\n",
       "    </tr>\n",
       "    <tr>\n",
       "      <th>1</th>\n",
       "      <td>other</td>\n",
       "      <td>1230</td>\n",
       "    </tr>\n",
       "    <tr>\n",
       "      <th>2</th>\n",
       "      <td>yandex</td>\n",
       "      <td>1934</td>\n",
       "    </tr>\n",
       "  </tbody>\n",
       "</table>\n",
       "</div>"
      ],
      "text/plain": [
       "   source  user_id\n",
       "0  google  1129   \n",
       "1  other   1230   \n",
       "2  yandex  1934   "
      ]
     },
     "metadata": {},
     "output_type": "display_data"
    },
    {
     "data": {
      "text/html": [
       "<div>\n",
       "<style scoped>\n",
       "    .dataframe tbody tr th:only-of-type {\n",
       "        vertical-align: middle;\n",
       "    }\n",
       "\n",
       "    .dataframe tbody tr th {\n",
       "        vertical-align: top;\n",
       "    }\n",
       "\n",
       "    .dataframe thead th {\n",
       "        text-align: right;\n",
       "    }\n",
       "</style>\n",
       "<table border=\"1\" class=\"dataframe\">\n",
       "  <thead>\n",
       "    <tr style=\"text-align: right;\">\n",
       "      <th></th>\n",
       "      <th>source</th>\n",
       "      <th>user_id</th>\n",
       "    </tr>\n",
       "  </thead>\n",
       "  <tbody>\n",
       "    <tr>\n",
       "      <th>0</th>\n",
       "      <td>google</td>\n",
       "      <td>275</td>\n",
       "    </tr>\n",
       "    <tr>\n",
       "      <th>1</th>\n",
       "      <td>other</td>\n",
       "      <td>228</td>\n",
       "    </tr>\n",
       "    <tr>\n",
       "      <th>2</th>\n",
       "      <td>yandex</td>\n",
       "      <td>478</td>\n",
       "    </tr>\n",
       "  </tbody>\n",
       "</table>\n",
       "</div>"
      ],
      "text/plain": [
       "   source  user_id\n",
       "0  google  275    \n",
       "1  other   228    \n",
       "2  yandex  478    "
      ]
     },
     "metadata": {},
     "output_type": "display_data"
    }
   ],
   "source": [
    "# Сформируем данные для проведения  z-test\n",
    "sources=mobile.groupby('source')['user_id'].nunique().reset_index()\n",
    "contacts_show=mobile.loc[mobile['event_name']=='contacts_show']\n",
    "contacts_show=contacts_show.groupby('source')['user_id'].nunique().reset_index()\n",
    "display(sources)\n",
    "display(contacts_show)"
   ]
  },
  {
   "cell_type": "code",
   "execution_count": 58,
   "metadata": {},
   "outputs": [
    {
     "name": "stdout",
     "output_type": "stream",
     "text": [
      "p-значение:  0.8244316027993777\n"
     ]
    },
    {
     "data": {
      "text/plain": [
       "'Нет статистически значимых различий в конверсии в просмотры контактов между пользователями, пришедшими с источника Yandex и Google.'"
      ]
     },
     "metadata": {},
     "output_type": "display_data"
    }
   ],
   "source": [
    "#проведем z-тест\n",
    "z_test(contacts_show.loc[0][1],\n",
    "      contacts_show.loc[2][1],\n",
    "      sources.loc[0][1],\n",
    "      sources.loc[2][1])"
   ]
  },
  {
   "cell_type": "markdown",
   "metadata": {},
   "source": [
    "### Проверка гипотезы: Конверсия пользователей добавивших объявления в избранное отличается от конверсии пользователей не добавивших объявления в избранное"
   ]
  },
  {
   "cell_type": "markdown",
   "metadata": {},
   "source": [
    "Разделим пользователей на две группы: пользователи, добавившие объявления в избранное, и пользователи, не добавившие объявления в избранное. Рассчитаем конверсию в просмотры контактов для каждой группы. Проверим статистическую гипотезу о различии конверсии между группами"
   ]
  },
  {
   "cell_type": "markdown",
   "metadata": {},
   "source": [
    "Выдвенем нулевую и альтернативную гипотезы"
   ]
  },
  {
   "cell_type": "markdown",
   "metadata": {},
   "source": [
    " - Нулевая гипотеза Н0: Различия в конверсии пользователей, добавивших объявления в избранное, и пользователей, не добавивших объявления в избранное, являются статистически значимыми\n",
    " - Альтернативная гипотеза Н1: Нет статистически значимых различий в конверсии пользователей, добавивших объявления в избранное, и пользователей, не добавивших объявления в избранное\n",
    " \n",
    " \n",
    " \n",
    " \n",
    " - Оценка гипотез будет проводиться с помощью z_test\n",
    " - Уровень статистической значимости p_value задам равным 0.05"
   ]
  },
  {
   "cell_type": "markdown",
   "metadata": {},
   "source": [
    "Разделим пользователей на две группы: пользователи, добавившие объявления в избранное, и пользователи, не добавившие объявления в избранное. Рассчитаем конверсию в просмотры контактов для каждой группе. Проверим статистическую гипотезу о различии конверсии между группами"
   ]
  },
  {
   "cell_type": "code",
   "execution_count": 59,
   "metadata": {},
   "outputs": [],
   "source": [
    "# Сформируем данные для проведения z-test\n",
    "def z_test(successes1, successes2, trials1, trials2, alpha=0.05):\n",
    "    p1 = successes1 / trials1\n",
    "    p2 = successes2 / trials2\n",
    "    p_combined = (successes1 + successes2) / (trials1 + trials2)\n",
    "    difference = p1 - p2\n",
    "    z_value = difference / mth.sqrt(p_combined * (1 - p_combined) * (1/trials1 + 1/trials2))\n",
    "    distr = st.norm(0, 1)\n",
    "    p_value = (1 - distr.cdf(abs(z_value))) * 2\n",
    "\n",
    "    print('p-значение:', p_value)\n",
    "\n",
    "    if p_value < alpha:\n",
    "        print(\"Различия в конверсии пользователей, добавивших объявления в избранное, и пользователей, не добавивших объявления в избранное, являются статистически значимыми.\")\n",
    "    else:\n",
    "        print(\"Нет статистически значимых различий в конверсии пользователей, добавивших объявления в избранное, и пользователей, не добавивших объявления в избранное.\")"
   ]
  },
  {
   "cell_type": "code",
   "execution_count": 60,
   "metadata": {},
   "outputs": [],
   "source": [
    "users_added_to_favorites = mobile.loc[mobile['event_name'] == 'favorites_add']\n",
    "users_not_added_to_favorites = mobile.loc[mobile['event_name'] != 'favorites_add']\n",
    "\n",
    "conversion_added = len(users_added_to_favorites[users_added_to_favorites['event_name'] == 'contacts_show']) / len(users_added_to_favorites)\n",
    "conversion_not_added = len(users_not_added_to_favorites[users_not_added_to_favorites['event_name'] == 'contacts_show']) / len(users_not_added_to_favorites)\n",
    "\n",
    "successes1 = len(users_added_to_favorites[users_added_to_favorites['event_name'] == 'contacts_show'])\n",
    "trials1 = len(users_added_to_favorites)\n",
    "\n",
    "successes2 = len(users_not_added_to_favorites[users_not_added_to_favorites['event_name'] == 'contacts_show'])\n",
    "trials2 = len(users_not_added_to_favorites)"
   ]
  },
  {
   "cell_type": "code",
   "execution_count": 61,
   "metadata": {
    "scrolled": true
   },
   "outputs": [
    {
     "name": "stdout",
     "output_type": "stream",
     "text": [
      "p-значение: 0.9722331516373879\n",
      "Нет статистически значимых различий в конверсии пользователей, добавивших объявления в избранное, и пользователей, не добавивших объявления в избранное.\n"
     ]
    }
   ],
   "source": [
    "z_test(conversion_added, conversion_not_added, trials1, trials2)"
   ]
  },
  {
   "cell_type": "markdown",
   "metadata": {},
   "source": [
    "Обе нулевые гипотезы подтверждены:\n",
    "    \n",
    " - Нет статистически значимых различий в конверсии в просмотры контактов между пользователями, пришедшими с источника Yandex и Google.\n",
    " - Нет статистически значимых различий в конверсии пользователей, добавивших объявления в избранное, и пользователей, не добавивших объявления в избранное.\n",
    "\n"
   ]
  },
  {
   "cell_type": "markdown",
   "metadata": {},
   "source": [
    "## Выполнены задачи исследования:\n",
    "\n",
    " - Выделены сегменты пользователей для создния второй пары тестируемых групп.\n",
    "В данном случае были созданы две группы пользователей: пользователи, добавившие объявления в избранное, и пользователи, не добавившие объявления в избранное\n",
    " \n",
    " - Исследовали, какие пользователи склонны чаще возвращаться в мобильное приложение.\n",
    " Пользователи группы google и пользователи с короткими сессиями чаще возвращаются в приложение\n",
    " \n",
    " \n",
    " - Исследовали, какие пользователи чаще совершают целевое событие (конверсия в целевое действие).\n",
    " Среди пар сравниваемых групп конверсия находится примерно на одном уровне: среди групп yandex и google конверсия равна 25,28% против 24,11%\n",
    " \n",
    " \n",
    " - Определены, как различается время между распространенными событиями пользователей из разных групп.\n",
    " Среди пользователей групп google и yandex время, проводимое в приложении, практически не отличается: 10:12 против 10:43"
   ]
  },
  {
   "cell_type": "markdown",
   "metadata": {},
   "source": [
    "Исходя из результатов статистической проверки гипотез, можно сделать вывод, что:\n",
    "\n",
    "Нет статистически значимых различий в конверсии в просмотры контактов между пользователями, пришедшими с источника Yandex и Google. Это означает, что нет достаточных доказательств для того, чтобы утверждать, что одна группа пользователей имеет значительно выше или ниже конверсию в просмотры контактов по сравнению с другой группой.\n",
    "\n",
    "Нет статистически значимых различий в конверсии пользователей, добавивших объявления в избранное, и пользователей, не добавивших объявления в избранное. Это говорит о том, что пользователи, добавившие объявления в избранное, не имеют отличающуюся конверсию в просмотры контактов от пользователей, не добавивших объявления в избранное."
   ]
  },
  {
   "cell_type": "markdown",
   "metadata": {},
   "source": [
    "### Общие рекомендации:\n",
    "    \n",
    " - Для повышения конверсии в целевое действие среди пользователей группы Yandex необходимо улучшить их удержание, а для группы Google стоит сосредоточиться на возможности повышения активности пользователей.\n",
    "\n",
    " - Для увеличения конверсии среди групп с короткими сессиями необходимо улучшить их удержание и сосредоточиться на возможности повышения активности пользователей, а для улучшения конверссии среди пользователей с длинными сессиями необходимо повышать их удержание."
   ]
  }
 ],
 "metadata": {
  "ExecuteTimeLog": [
   {
    "duration": 1234,
    "start_time": "2023-06-21T07:23:04.355Z"
   },
   {
    "duration": 606,
    "start_time": "2023-06-21T07:23:14.174Z"
   },
   {
    "duration": 11,
    "start_time": "2023-06-21T07:23:22.443Z"
   },
   {
    "duration": 8,
    "start_time": "2023-06-21T07:23:32.014Z"
   },
   {
    "duration": 3,
    "start_time": "2023-06-21T07:23:42.222Z"
   },
   {
    "duration": 15,
    "start_time": "2023-06-21T07:23:51.568Z"
   },
   {
    "duration": 50,
    "start_time": "2023-06-21T07:24:02.014Z"
   },
   {
    "duration": 4,
    "start_time": "2023-06-21T07:24:13.573Z"
   },
   {
    "duration": 5,
    "start_time": "2023-06-21T07:24:59.637Z"
   },
   {
    "duration": 92,
    "start_time": "2023-06-21T07:25:12.301Z"
   },
   {
    "duration": 9,
    "start_time": "2023-06-21T07:26:03.339Z"
   },
   {
    "duration": 4,
    "start_time": "2023-06-21T07:26:23.932Z"
   },
   {
    "duration": 16,
    "start_time": "2023-06-21T07:27:36.717Z"
   },
   {
    "duration": 22,
    "start_time": "2023-06-21T07:27:48.659Z"
   },
   {
    "duration": 25,
    "start_time": "2023-06-21T07:27:57.009Z"
   },
   {
    "duration": 14,
    "start_time": "2023-06-21T07:28:40.531Z"
   },
   {
    "duration": 10,
    "start_time": "2023-06-21T07:28:50.237Z"
   },
   {
    "duration": 11,
    "start_time": "2023-06-21T07:29:34.357Z"
   },
   {
    "duration": 10,
    "start_time": "2023-06-21T07:29:51.733Z"
   },
   {
    "duration": 16,
    "start_time": "2023-06-21T07:30:17.377Z"
   },
   {
    "duration": 11,
    "start_time": "2023-06-21T07:30:24.674Z"
   },
   {
    "duration": 39,
    "start_time": "2023-06-21T07:33:56.054Z"
   },
   {
    "duration": 16,
    "start_time": "2023-06-21T07:37:07.748Z"
   },
   {
    "duration": 11,
    "start_time": "2023-06-21T07:37:21.065Z"
   },
   {
    "duration": 28,
    "start_time": "2023-06-21T07:38:47.008Z"
   },
   {
    "duration": 1392,
    "start_time": "2023-06-21T07:39:34.900Z"
   },
   {
    "duration": 84,
    "start_time": "2023-06-21T07:41:09.216Z"
   },
   {
    "duration": 22,
    "start_time": "2023-06-21T07:42:09.348Z"
   },
   {
    "duration": 21,
    "start_time": "2023-06-21T07:42:29.756Z"
   },
   {
    "duration": 15,
    "start_time": "2023-06-21T07:42:48.440Z"
   },
   {
    "duration": 96,
    "start_time": "2023-06-21T07:43:03.312Z"
   },
   {
    "duration": 6,
    "start_time": "2023-06-21T07:45:12.112Z"
   },
   {
    "duration": 328,
    "start_time": "2023-06-21T07:45:23.936Z"
   },
   {
    "duration": 1227,
    "start_time": "2023-06-21T07:45:46.748Z"
   },
   {
    "duration": 14,
    "start_time": "2023-06-21T07:47:08.366Z"
   },
   {
    "duration": 49,
    "start_time": "2023-06-21T07:50:23.669Z"
   },
   {
    "duration": 39,
    "start_time": "2023-06-21T07:50:31.824Z"
   },
   {
    "duration": 25,
    "start_time": "2023-06-21T07:51:07.427Z"
   },
   {
    "duration": 6,
    "start_time": "2023-06-21T07:53:16.899Z"
   },
   {
    "duration": 18,
    "start_time": "2023-06-21T07:53:29.809Z"
   },
   {
    "duration": 94,
    "start_time": "2023-06-21T07:53:48.958Z"
   },
   {
    "duration": 17,
    "start_time": "2023-06-21T07:55:11.971Z"
   },
   {
    "duration": 6,
    "start_time": "2023-06-21T07:55:45.128Z"
   },
   {
    "duration": 11,
    "start_time": "2023-06-21T07:55:49.444Z"
   },
   {
    "duration": 12,
    "start_time": "2023-06-21T07:56:13.390Z"
   },
   {
    "duration": 19,
    "start_time": "2023-06-21T07:56:26.322Z"
   },
   {
    "duration": 25,
    "start_time": "2023-06-21T07:56:40.659Z"
   },
   {
    "duration": 21,
    "start_time": "2023-06-21T07:57:09.227Z"
   },
   {
    "duration": 14,
    "start_time": "2023-06-21T09:03:46.602Z"
   },
   {
    "duration": 5,
    "start_time": "2023-06-21T09:04:04.712Z"
   },
   {
    "duration": 7,
    "start_time": "2023-06-21T09:04:40.320Z"
   },
   {
    "duration": 5,
    "start_time": "2023-06-21T09:05:08.355Z"
   },
   {
    "duration": 17,
    "start_time": "2023-06-21T09:05:32.814Z"
   },
   {
    "duration": 2965,
    "start_time": "2023-06-21T09:05:41.026Z"
   },
   {
    "duration": 3201,
    "start_time": "2023-06-21T09:06:10.910Z"
   },
   {
    "duration": 98,
    "start_time": "2023-06-22T07:28:15.033Z"
   },
   {
    "duration": 43,
    "start_time": "2023-06-22T07:28:20.565Z"
   },
   {
    "duration": 1272,
    "start_time": "2023-06-22T07:28:33.745Z"
   },
   {
    "duration": 339,
    "start_time": "2023-06-22T07:28:35.019Z"
   },
   {
    "duration": 10,
    "start_time": "2023-06-22T07:28:35.360Z"
   },
   {
    "duration": 14,
    "start_time": "2023-06-22T07:28:35.372Z"
   },
   {
    "duration": 7,
    "start_time": "2023-06-22T07:28:35.388Z"
   },
   {
    "duration": 15,
    "start_time": "2023-06-22T07:28:36.136Z"
   },
   {
    "duration": 53,
    "start_time": "2023-06-22T07:28:36.557Z"
   },
   {
    "duration": 3,
    "start_time": "2023-06-22T07:28:36.956Z"
   },
   {
    "duration": 10,
    "start_time": "2023-06-22T07:28:37.124Z"
   },
   {
    "duration": 5,
    "start_time": "2023-06-22T07:28:37.466Z"
   },
   {
    "duration": 17,
    "start_time": "2023-06-22T07:28:37.952Z"
   },
   {
    "duration": 24,
    "start_time": "2023-06-22T07:28:38.131Z"
   },
   {
    "duration": 29,
    "start_time": "2023-06-22T07:28:38.324Z"
   },
   {
    "duration": 14,
    "start_time": "2023-06-22T07:28:39.212Z"
   },
   {
    "duration": 11,
    "start_time": "2023-06-22T07:28:39.424Z"
   },
   {
    "duration": 10,
    "start_time": "2023-06-22T07:28:39.753Z"
   },
   {
    "duration": 11,
    "start_time": "2023-06-22T07:28:40.167Z"
   },
   {
    "duration": 17,
    "start_time": "2023-06-22T07:28:40.622Z"
   },
   {
    "duration": 9,
    "start_time": "2023-06-22T07:28:40.768Z"
   },
   {
    "duration": 47,
    "start_time": "2023-06-22T07:28:41.740Z"
   },
   {
    "duration": 21,
    "start_time": "2023-06-22T07:28:42.156Z"
   },
   {
    "duration": 12,
    "start_time": "2023-06-22T07:28:42.433Z"
   },
   {
    "duration": 1503,
    "start_time": "2023-06-22T07:28:42.630Z"
   },
   {
    "duration": 37,
    "start_time": "2023-06-22T07:28:44.136Z"
   },
   {
    "duration": 40,
    "start_time": "2023-06-22T07:28:44.175Z"
   },
   {
    "duration": 17,
    "start_time": "2023-06-22T07:28:45.409Z"
   },
   {
    "duration": 6,
    "start_time": "2023-06-22T07:28:45.820Z"
   },
   {
    "duration": 348,
    "start_time": "2023-06-22T07:28:46.249Z"
   },
   {
    "duration": 1191,
    "start_time": "2023-06-22T07:28:47.505Z"
   },
   {
    "duration": 14,
    "start_time": "2023-06-22T07:28:48.698Z"
   },
   {
    "duration": 1637,
    "start_time": "2023-06-22T07:28:52.059Z"
   },
   {
    "duration": 8,
    "start_time": "2023-06-22T07:29:08.053Z"
   },
   {
    "duration": 23,
    "start_time": "2023-06-22T07:41:54.398Z"
   },
   {
    "duration": 17,
    "start_time": "2023-06-22T07:42:10.649Z"
   },
   {
    "duration": 21,
    "start_time": "2023-06-22T07:42:22.430Z"
   },
   {
    "duration": 6,
    "start_time": "2023-06-22T08:14:31.509Z"
   },
   {
    "duration": 895,
    "start_time": "2023-06-22T08:15:47.756Z"
   },
   {
    "duration": 1172,
    "start_time": "2023-06-22T08:20:10.198Z"
   },
   {
    "duration": 841,
    "start_time": "2023-06-22T08:20:30.497Z"
   },
   {
    "duration": 786,
    "start_time": "2023-06-22T08:20:58.126Z"
   },
   {
    "duration": 786,
    "start_time": "2023-06-22T08:21:04.040Z"
   },
   {
    "duration": 808,
    "start_time": "2023-06-22T08:21:11.393Z"
   },
   {
    "duration": 801,
    "start_time": "2023-06-22T08:21:17.813Z"
   },
   {
    "duration": 870,
    "start_time": "2023-06-22T08:21:37.603Z"
   },
   {
    "duration": 836,
    "start_time": "2023-06-22T08:21:53.794Z"
   },
   {
    "duration": 736,
    "start_time": "2023-06-22T08:22:00.918Z"
   },
   {
    "duration": 779,
    "start_time": "2023-06-22T08:22:09.204Z"
   },
   {
    "duration": 821,
    "start_time": "2023-06-22T08:22:18.409Z"
   },
   {
    "duration": 810,
    "start_time": "2023-06-22T08:22:27.143Z"
   },
   {
    "duration": 832,
    "start_time": "2023-06-22T08:22:32.415Z"
   },
   {
    "duration": 6,
    "start_time": "2023-06-22T08:24:42.101Z"
   },
   {
    "duration": 1100,
    "start_time": "2023-06-22T08:25:29.817Z"
   },
   {
    "duration": 923,
    "start_time": "2023-06-22T08:27:13.727Z"
   },
   {
    "duration": 31,
    "start_time": "2023-06-22T08:27:54.602Z"
   },
   {
    "duration": 33,
    "start_time": "2023-06-22T08:29:02.924Z"
   },
   {
    "duration": 1722,
    "start_time": "2023-06-22T08:31:31.946Z"
   },
   {
    "duration": 230,
    "start_time": "2023-06-22T08:31:59.524Z"
   },
   {
    "duration": 213,
    "start_time": "2023-06-22T08:33:28.958Z"
   },
   {
    "duration": 173,
    "start_time": "2023-06-22T08:34:18.875Z"
   },
   {
    "duration": 8,
    "start_time": "2023-06-22T08:35:04.790Z"
   },
   {
    "duration": 298,
    "start_time": "2023-06-22T08:37:45.509Z"
   },
   {
    "duration": 1571,
    "start_time": "2023-06-22T08:38:52.397Z"
   },
   {
    "duration": 307,
    "start_time": "2023-06-22T08:39:14.943Z"
   },
   {
    "duration": 118,
    "start_time": "2023-06-22T08:40:59.606Z"
   },
   {
    "duration": 114,
    "start_time": "2023-06-22T08:43:35.006Z"
   },
   {
    "duration": 47,
    "start_time": "2023-06-22T08:49:55.031Z"
   },
   {
    "duration": 20,
    "start_time": "2023-06-22T08:50:23.851Z"
   },
   {
    "duration": 15,
    "start_time": "2023-06-22T08:50:33.721Z"
   },
   {
    "duration": 6,
    "start_time": "2023-06-22T08:51:09.814Z"
   },
   {
    "duration": 15,
    "start_time": "2023-06-22T08:51:21.711Z"
   },
   {
    "duration": 7,
    "start_time": "2023-06-22T08:52:10.732Z"
   },
   {
    "duration": 11,
    "start_time": "2023-06-22T08:52:12.519Z"
   },
   {
    "duration": 6,
    "start_time": "2023-06-22T08:53:28.627Z"
   },
   {
    "duration": 23,
    "start_time": "2023-06-22T09:11:01.223Z"
   },
   {
    "duration": 42,
    "start_time": "2023-06-22T09:11:20.621Z"
   },
   {
    "duration": 1427,
    "start_time": "2023-06-22T09:11:35.318Z"
   },
   {
    "duration": 0,
    "start_time": "2023-06-22T09:11:36.747Z"
   },
   {
    "duration": 236,
    "start_time": "2023-06-22T09:11:56.721Z"
   },
   {
    "duration": 41,
    "start_time": "2023-06-22T09:12:18.013Z"
   },
   {
    "duration": 18,
    "start_time": "2023-06-22T09:12:18.717Z"
   },
   {
    "duration": 49,
    "start_time": "2023-06-22T09:12:49.204Z"
   },
   {
    "duration": 40,
    "start_time": "2023-06-22T09:12:49.542Z"
   },
   {
    "duration": 17,
    "start_time": "2023-06-22T09:12:50.218Z"
   },
   {
    "duration": 8,
    "start_time": "2023-06-22T09:13:04.874Z"
   },
   {
    "duration": 16,
    "start_time": "2023-06-22T09:13:08.716Z"
   },
   {
    "duration": 6,
    "start_time": "2023-06-22T09:14:04.601Z"
   },
   {
    "duration": 13,
    "start_time": "2023-06-22T09:15:49.131Z"
   },
   {
    "duration": 6,
    "start_time": "2023-06-22T09:17:08.647Z"
   },
   {
    "duration": 768,
    "start_time": "2023-06-22T09:17:33.814Z"
   },
   {
    "duration": 814,
    "start_time": "2023-06-22T09:17:45.675Z"
   },
   {
    "duration": 816,
    "start_time": "2023-06-22T09:17:54.150Z"
   },
   {
    "duration": 31,
    "start_time": "2023-06-22T09:18:21.087Z"
   },
   {
    "duration": 34,
    "start_time": "2023-06-22T09:20:44.305Z"
   },
   {
    "duration": 80,
    "start_time": "2023-06-22T09:21:20.117Z"
   },
   {
    "duration": 54,
    "start_time": "2023-06-26T07:55:18.246Z"
   },
   {
    "duration": 1462,
    "start_time": "2023-06-26T07:55:27.015Z"
   },
   {
    "duration": 430,
    "start_time": "2023-06-26T07:55:28.481Z"
   },
   {
    "duration": 11,
    "start_time": "2023-06-26T07:55:28.913Z"
   },
   {
    "duration": 7,
    "start_time": "2023-06-26T07:55:28.926Z"
   },
   {
    "duration": 11,
    "start_time": "2023-06-26T07:55:28.935Z"
   },
   {
    "duration": 30,
    "start_time": "2023-06-26T07:55:28.948Z"
   },
   {
    "duration": 59,
    "start_time": "2023-06-26T07:55:28.981Z"
   },
   {
    "duration": 3,
    "start_time": "2023-06-26T07:55:29.042Z"
   },
   {
    "duration": 31,
    "start_time": "2023-06-26T07:55:29.047Z"
   },
   {
    "duration": 8,
    "start_time": "2023-06-26T07:55:29.081Z"
   },
   {
    "duration": 16,
    "start_time": "2023-06-26T07:55:29.946Z"
   },
   {
    "duration": 21,
    "start_time": "2023-06-26T07:55:30.138Z"
   },
   {
    "duration": 26,
    "start_time": "2023-06-26T07:55:30.332Z"
   },
   {
    "duration": 12,
    "start_time": "2023-06-26T07:55:30.736Z"
   },
   {
    "duration": 9,
    "start_time": "2023-06-26T07:55:30.943Z"
   },
   {
    "duration": 11,
    "start_time": "2023-06-26T07:55:31.347Z"
   },
   {
    "duration": 10,
    "start_time": "2023-06-26T07:55:32.113Z"
   },
   {
    "duration": 16,
    "start_time": "2023-06-26T07:55:32.813Z"
   },
   {
    "duration": 11,
    "start_time": "2023-06-26T07:55:33.297Z"
   },
   {
    "duration": 40,
    "start_time": "2023-06-26T07:55:34.304Z"
   },
   {
    "duration": 24,
    "start_time": "2023-06-26T07:55:35.169Z"
   },
   {
    "duration": 21,
    "start_time": "2023-06-26T07:55:35.862Z"
   },
   {
    "duration": 298,
    "start_time": "2023-06-26T07:55:36.217Z"
   },
   {
    "duration": 121,
    "start_time": "2023-06-26T07:55:37.616Z"
   },
   {
    "duration": 30,
    "start_time": "2023-06-26T07:55:39.072Z"
   },
   {
    "duration": 23,
    "start_time": "2023-06-26T07:55:39.652Z"
   },
   {
    "duration": 27,
    "start_time": "2023-06-26T07:55:40.568Z"
   },
   {
    "duration": 9,
    "start_time": "2023-06-26T07:55:42.071Z"
   },
   {
    "duration": 354,
    "start_time": "2023-06-26T07:55:42.769Z"
   },
   {
    "duration": 1172,
    "start_time": "2023-06-26T07:55:43.644Z"
   },
   {
    "duration": 14,
    "start_time": "2023-06-26T07:55:45.010Z"
   },
   {
    "duration": 51,
    "start_time": "2023-06-26T07:55:48.470Z"
   },
   {
    "duration": 36,
    "start_time": "2023-06-26T07:55:49.912Z"
   },
   {
    "duration": 16,
    "start_time": "2023-06-26T07:55:51.096Z"
   },
   {
    "duration": 5,
    "start_time": "2023-06-26T07:56:29.349Z"
   },
   {
    "duration": 14,
    "start_time": "2023-06-26T07:56:30.568Z"
   },
   {
    "duration": 17,
    "start_time": "2023-06-26T07:56:53.143Z"
   },
   {
    "duration": 69,
    "start_time": "2023-06-26T07:57:43.468Z"
   },
   {
    "duration": 9,
    "start_time": "2023-06-26T07:57:52.800Z"
   },
   {
    "duration": 11,
    "start_time": "2023-06-26T07:58:07.271Z"
   },
   {
    "duration": 19,
    "start_time": "2023-06-26T07:58:10.812Z"
   },
   {
    "duration": 53,
    "start_time": "2023-06-26T07:59:04.358Z"
   },
   {
    "duration": 51,
    "start_time": "2023-06-26T07:59:04.836Z"
   },
   {
    "duration": 19,
    "start_time": "2023-06-26T07:59:05.408Z"
   },
   {
    "duration": 10,
    "start_time": "2023-06-26T07:59:18.135Z"
   },
   {
    "duration": 18,
    "start_time": "2023-06-26T07:59:18.759Z"
   },
   {
    "duration": 17,
    "start_time": "2023-06-26T07:59:32.112Z"
   },
   {
    "duration": 7,
    "start_time": "2023-06-26T07:59:43.037Z"
   },
   {
    "duration": 1356,
    "start_time": "2023-06-26T08:00:10.642Z"
   },
   {
    "duration": 5,
    "start_time": "2023-06-26T08:14:34.354Z"
   },
   {
    "duration": 1057,
    "start_time": "2023-06-26T08:14:36.190Z"
   },
   {
    "duration": 67,
    "start_time": "2023-06-26T08:14:46.589Z"
   },
   {
    "duration": 67,
    "start_time": "2023-06-26T08:17:14.601Z"
   },
   {
    "duration": 77,
    "start_time": "2023-06-26T08:18:02.715Z"
   },
   {
    "duration": 65,
    "start_time": "2023-06-26T08:18:12.763Z"
   },
   {
    "duration": 916,
    "start_time": "2023-06-26T08:19:22.251Z"
   },
   {
    "duration": 69,
    "start_time": "2023-06-26T08:20:11.723Z"
   },
   {
    "duration": 86,
    "start_time": "2023-06-26T08:21:33.601Z"
   },
   {
    "duration": 23,
    "start_time": "2023-06-26T08:22:28.200Z"
   },
   {
    "duration": 32,
    "start_time": "2023-06-26T08:23:30.795Z"
   },
   {
    "duration": 67,
    "start_time": "2023-06-26T08:46:40.893Z"
   },
   {
    "duration": 98,
    "start_time": "2023-06-26T08:47:22.753Z"
   },
   {
    "duration": 28,
    "start_time": "2023-06-26T09:00:03.102Z"
   },
   {
    "duration": 10,
    "start_time": "2023-06-26T09:00:16.419Z"
   },
   {
    "duration": 1199,
    "start_time": "2023-06-26T09:01:13.304Z"
   },
   {
    "duration": 12,
    "start_time": "2023-06-26T09:04:07.413Z"
   },
   {
    "duration": 9,
    "start_time": "2023-06-26T09:04:46.695Z"
   },
   {
    "duration": 21,
    "start_time": "2023-06-26T09:04:47.362Z"
   },
   {
    "duration": 22,
    "start_time": "2023-06-26T09:04:59.802Z"
   },
   {
    "duration": 14,
    "start_time": "2023-06-26T09:05:00.163Z"
   },
   {
    "duration": 8,
    "start_time": "2023-06-26T09:09:44.146Z"
   },
   {
    "duration": 11,
    "start_time": "2023-06-26T09:09:47.549Z"
   },
   {
    "duration": 11,
    "start_time": "2023-06-26T09:10:13.924Z"
   },
   {
    "duration": 4,
    "start_time": "2023-06-26T09:11:24.843Z"
   },
   {
    "duration": 14,
    "start_time": "2023-06-26T09:13:11.793Z"
   },
   {
    "duration": 132,
    "start_time": "2023-06-26T09:15:40.117Z"
   },
   {
    "duration": 50,
    "start_time": "2023-06-26T09:17:23.830Z"
   },
   {
    "duration": 41,
    "start_time": "2023-06-26T09:17:32.098Z"
   },
   {
    "duration": 2411,
    "start_time": "2023-06-26T09:19:28.761Z"
   },
   {
    "duration": 1539,
    "start_time": "2023-06-26T09:19:40.749Z"
   },
   {
    "duration": 16,
    "start_time": "2023-06-26T09:19:55.666Z"
   },
   {
    "duration": 1400,
    "start_time": "2023-06-26T09:20:06.509Z"
   },
   {
    "duration": 490,
    "start_time": "2023-06-26T09:20:07.912Z"
   },
   {
    "duration": 14,
    "start_time": "2023-06-26T09:20:08.405Z"
   },
   {
    "duration": 26,
    "start_time": "2023-06-26T09:20:08.422Z"
   },
   {
    "duration": 7,
    "start_time": "2023-06-26T09:20:08.450Z"
   },
   {
    "duration": 46,
    "start_time": "2023-06-26T09:20:08.460Z"
   },
   {
    "duration": 79,
    "start_time": "2023-06-26T09:20:08.509Z"
   },
   {
    "duration": 8,
    "start_time": "2023-06-26T09:20:08.591Z"
   },
   {
    "duration": 17,
    "start_time": "2023-06-26T09:20:08.602Z"
   },
   {
    "duration": 6,
    "start_time": "2023-06-26T09:20:08.622Z"
   },
   {
    "duration": 26,
    "start_time": "2023-06-26T09:20:08.839Z"
   },
   {
    "duration": 41,
    "start_time": "2023-06-26T09:20:09.026Z"
   },
   {
    "duration": 31,
    "start_time": "2023-06-26T09:20:09.213Z"
   },
   {
    "duration": 19,
    "start_time": "2023-06-26T09:20:09.558Z"
   },
   {
    "duration": 11,
    "start_time": "2023-06-26T09:20:09.732Z"
   },
   {
    "duration": 13,
    "start_time": "2023-06-26T09:20:10.138Z"
   },
   {
    "duration": 17,
    "start_time": "2023-06-26T09:20:10.539Z"
   },
   {
    "duration": 19,
    "start_time": "2023-06-26T09:20:10.925Z"
   },
   {
    "duration": 18,
    "start_time": "2023-06-26T09:20:11.130Z"
   },
   {
    "duration": 76,
    "start_time": "2023-06-26T09:20:12.317Z"
   },
   {
    "duration": 31,
    "start_time": "2023-06-26T09:20:12.808Z"
   },
   {
    "duration": 14,
    "start_time": "2023-06-26T09:20:13.021Z"
   },
   {
    "duration": 362,
    "start_time": "2023-06-26T09:20:13.216Z"
   },
   {
    "duration": 131,
    "start_time": "2023-06-26T09:20:13.618Z"
   },
   {
    "duration": 31,
    "start_time": "2023-06-26T09:20:14.009Z"
   },
   {
    "duration": 29,
    "start_time": "2023-06-26T09:20:15.252Z"
   },
   {
    "duration": 6,
    "start_time": "2023-06-26T09:20:15.648Z"
   },
   {
    "duration": 409,
    "start_time": "2023-06-26T09:20:15.847Z"
   },
   {
    "duration": 1297,
    "start_time": "2023-06-26T09:20:16.400Z"
   },
   {
    "duration": 21,
    "start_time": "2023-06-26T09:20:17.700Z"
   },
   {
    "duration": 50,
    "start_time": "2023-06-26T09:20:18.527Z"
   },
   {
    "duration": 55,
    "start_time": "2023-06-26T09:20:18.794Z"
   },
   {
    "duration": 19,
    "start_time": "2023-06-26T09:20:19.142Z"
   },
   {
    "duration": 13,
    "start_time": "2023-06-26T09:20:19.416Z"
   },
   {
    "duration": 18,
    "start_time": "2023-06-26T09:20:19.806Z"
   },
   {
    "duration": 10,
    "start_time": "2023-06-26T09:20:20.329Z"
   },
   {
    "duration": 143,
    "start_time": "2023-06-26T09:20:20.606Z"
   },
   {
    "duration": 29,
    "start_time": "2023-06-26T09:43:00.651Z"
   },
   {
    "duration": 22,
    "start_time": "2023-06-26T09:43:44.106Z"
   },
   {
    "duration": 155,
    "start_time": "2023-06-26T09:58:02.913Z"
   },
   {
    "duration": 154,
    "start_time": "2023-06-26T09:58:10.641Z"
   },
   {
    "duration": 30,
    "start_time": "2023-06-26T09:58:13.060Z"
   },
   {
    "duration": 49,
    "start_time": "2023-06-26T09:58:40.349Z"
   },
   {
    "duration": 19,
    "start_time": "2023-06-26T09:58:43.617Z"
   },
   {
    "duration": 8,
    "start_time": "2023-06-26T10:03:59.418Z"
   },
   {
    "duration": 5,
    "start_time": "2023-06-26T10:04:08.026Z"
   },
   {
    "duration": 944,
    "start_time": "2023-06-26T10:04:09.436Z"
   },
   {
    "duration": 80,
    "start_time": "2023-06-26T10:04:14.158Z"
   },
   {
    "duration": 62,
    "start_time": "2023-06-26T10:04:35.017Z"
   },
   {
    "duration": 69,
    "start_time": "2023-06-26T10:04:47.046Z"
   },
   {
    "duration": 24,
    "start_time": "2023-06-26T10:05:31.295Z"
   },
   {
    "duration": 14,
    "start_time": "2023-06-26T10:06:54.525Z"
   },
   {
    "duration": 58,
    "start_time": "2023-06-26T10:07:03.806Z"
   },
   {
    "duration": 24,
    "start_time": "2023-06-26T10:10:27.568Z"
   },
   {
    "duration": 4,
    "start_time": "2023-06-26T10:10:53.504Z"
   },
   {
    "duration": 515,
    "start_time": "2023-06-26T10:10:53.692Z"
   },
   {
    "duration": 10,
    "start_time": "2023-06-26T10:10:54.210Z"
   },
   {
    "duration": 31,
    "start_time": "2023-06-26T10:10:54.221Z"
   },
   {
    "duration": 19,
    "start_time": "2023-06-26T10:10:54.255Z"
   },
   {
    "duration": 21,
    "start_time": "2023-06-26T10:10:54.460Z"
   },
   {
    "duration": 87,
    "start_time": "2023-06-26T10:10:54.871Z"
   },
   {
    "duration": 3,
    "start_time": "2023-06-26T10:10:55.031Z"
   },
   {
    "duration": 15,
    "start_time": "2023-06-26T10:10:55.343Z"
   },
   {
    "duration": 5,
    "start_time": "2023-06-26T10:10:55.541Z"
   },
   {
    "duration": 17,
    "start_time": "2023-06-26T10:10:55.919Z"
   },
   {
    "duration": 22,
    "start_time": "2023-06-26T10:10:56.115Z"
   },
   {
    "duration": 34,
    "start_time": "2023-06-26T10:10:56.299Z"
   },
   {
    "duration": 20,
    "start_time": "2023-06-26T10:10:56.694Z"
   },
   {
    "duration": 19,
    "start_time": "2023-06-26T10:10:56.893Z"
   },
   {
    "duration": 13,
    "start_time": "2023-06-26T10:10:57.247Z"
   },
   {
    "duration": 18,
    "start_time": "2023-06-26T10:10:57.610Z"
   },
   {
    "duration": 27,
    "start_time": "2023-06-26T10:10:57.998Z"
   },
   {
    "duration": 21,
    "start_time": "2023-06-26T10:10:58.194Z"
   },
   {
    "duration": 83,
    "start_time": "2023-06-26T10:10:59.042Z"
   },
   {
    "duration": 29,
    "start_time": "2023-06-26T10:10:59.428Z"
   },
   {
    "duration": 14,
    "start_time": "2023-06-26T10:10:59.630Z"
   },
   {
    "duration": 338,
    "start_time": "2023-06-26T10:10:59.818Z"
   },
   {
    "duration": 145,
    "start_time": "2023-06-26T10:11:00.220Z"
   },
   {
    "duration": 25,
    "start_time": "2023-06-26T10:11:00.644Z"
   },
   {
    "duration": 25,
    "start_time": "2023-06-26T10:11:01.102Z"
   },
   {
    "duration": 9,
    "start_time": "2023-06-26T10:11:01.502Z"
   },
   {
    "duration": 422,
    "start_time": "2023-06-26T10:11:01.701Z"
   },
   {
    "duration": 1196,
    "start_time": "2023-06-26T10:11:02.125Z"
   },
   {
    "duration": 22,
    "start_time": "2023-06-26T10:11:03.324Z"
   },
   {
    "duration": 76,
    "start_time": "2023-06-26T10:11:03.349Z"
   },
   {
    "duration": 41,
    "start_time": "2023-06-26T10:11:03.920Z"
   },
   {
    "duration": 21,
    "start_time": "2023-06-26T10:11:04.354Z"
   },
   {
    "duration": 12,
    "start_time": "2023-06-26T10:11:06.010Z"
   },
   {
    "duration": 13,
    "start_time": "2023-06-26T10:11:06.519Z"
   },
   {
    "duration": 12,
    "start_time": "2023-06-26T10:11:08.021Z"
   },
   {
    "duration": 137,
    "start_time": "2023-06-26T10:11:09.701Z"
   },
   {
    "duration": 17,
    "start_time": "2023-06-26T10:11:12.100Z"
   },
   {
    "duration": 14,
    "start_time": "2023-06-26T10:11:21.294Z"
   },
   {
    "duration": 4,
    "start_time": "2023-06-26T10:16:49.652Z"
   },
   {
    "duration": 4,
    "start_time": "2023-06-26T10:16:56.106Z"
   },
   {
    "duration": 3,
    "start_time": "2023-06-26T10:17:03.646Z"
   },
   {
    "duration": 5,
    "start_time": "2023-06-26T10:17:04.060Z"
   },
   {
    "duration": 4,
    "start_time": "2023-06-26T10:18:19.048Z"
   },
   {
    "duration": 6,
    "start_time": "2023-06-26T10:18:20.604Z"
   },
   {
    "duration": 1200,
    "start_time": "2023-06-26T10:19:46.248Z"
   },
   {
    "duration": 316,
    "start_time": "2023-06-26T10:19:47.450Z"
   },
   {
    "duration": 16,
    "start_time": "2023-06-26T10:19:47.768Z"
   },
   {
    "duration": 7,
    "start_time": "2023-06-26T10:19:48.501Z"
   },
   {
    "duration": 5,
    "start_time": "2023-06-26T10:19:48.703Z"
   },
   {
    "duration": 19,
    "start_time": "2023-06-26T10:19:48.901Z"
   },
   {
    "duration": 72,
    "start_time": "2023-06-26T10:19:49.097Z"
   },
   {
    "duration": 5,
    "start_time": "2023-06-26T10:19:49.291Z"
   },
   {
    "duration": 12,
    "start_time": "2023-06-26T10:19:49.458Z"
   },
   {
    "duration": 5,
    "start_time": "2023-06-26T10:19:49.625Z"
   },
   {
    "duration": 23,
    "start_time": "2023-06-26T10:19:49.995Z"
   },
   {
    "duration": 36,
    "start_time": "2023-06-26T10:19:50.192Z"
   },
   {
    "duration": 37,
    "start_time": "2023-06-26T10:19:50.352Z"
   },
   {
    "duration": 14,
    "start_time": "2023-06-26T10:19:50.732Z"
   },
   {
    "duration": 11,
    "start_time": "2023-06-26T10:19:50.908Z"
   },
   {
    "duration": 11,
    "start_time": "2023-06-26T10:19:51.293Z"
   },
   {
    "duration": 12,
    "start_time": "2023-06-26T10:19:51.630Z"
   },
   {
    "duration": 17,
    "start_time": "2023-06-26T10:19:52.001Z"
   },
   {
    "duration": 11,
    "start_time": "2023-06-26T10:19:52.200Z"
   },
   {
    "duration": 44,
    "start_time": "2023-06-26T10:19:52.793Z"
   },
   {
    "duration": 25,
    "start_time": "2023-06-26T10:19:53.180Z"
   },
   {
    "duration": 15,
    "start_time": "2023-06-26T10:19:53.397Z"
   },
   {
    "duration": 297,
    "start_time": "2023-06-26T10:19:53.593Z"
   },
   {
    "duration": 165,
    "start_time": "2023-06-26T10:19:54.001Z"
   },
   {
    "duration": 29,
    "start_time": "2023-06-26T10:19:54.494Z"
   },
   {
    "duration": 16,
    "start_time": "2023-06-26T10:19:55.008Z"
   },
   {
    "duration": 9,
    "start_time": "2023-06-26T10:19:55.566Z"
   },
   {
    "duration": 392,
    "start_time": "2023-06-26T10:19:55.793Z"
   },
   {
    "duration": 1279,
    "start_time": "2023-06-26T10:19:56.293Z"
   },
   {
    "duration": 25,
    "start_time": "2023-06-26T10:19:57.575Z"
   },
   {
    "duration": 58,
    "start_time": "2023-06-26T10:19:59.541Z"
   },
   {
    "duration": 41,
    "start_time": "2023-06-26T10:20:00.620Z"
   },
   {
    "duration": 19,
    "start_time": "2023-06-26T10:20:01.214Z"
   },
   {
    "duration": 9,
    "start_time": "2023-06-26T10:20:01.996Z"
   },
   {
    "duration": 13,
    "start_time": "2023-06-26T10:20:02.502Z"
   },
   {
    "duration": 13,
    "start_time": "2023-06-26T10:20:03.398Z"
   },
   {
    "duration": 110,
    "start_time": "2023-06-26T10:20:04.348Z"
   },
   {
    "duration": 4,
    "start_time": "2023-06-26T10:20:06.332Z"
   },
   {
    "duration": 6,
    "start_time": "2023-06-26T10:20:06.700Z"
   },
   {
    "duration": 3,
    "start_time": "2023-06-26T10:20:16.116Z"
   },
   {
    "duration": 4,
    "start_time": "2023-06-26T10:20:16.515Z"
   },
   {
    "duration": 4,
    "start_time": "2023-06-26T10:21:25.425Z"
   },
   {
    "duration": 4,
    "start_time": "2023-06-26T10:21:27.034Z"
   },
   {
    "duration": 20,
    "start_time": "2023-06-26T10:41:22.797Z"
   },
   {
    "duration": 14,
    "start_time": "2023-06-26T10:41:24.891Z"
   },
   {
    "duration": 24,
    "start_time": "2023-06-26T10:42:15.556Z"
   },
   {
    "duration": 12,
    "start_time": "2023-06-26T10:42:18.012Z"
   },
   {
    "duration": 114,
    "start_time": "2023-06-26T12:14:25.772Z"
   },
   {
    "duration": 99,
    "start_time": "2023-06-26T12:14:49.354Z"
   },
   {
    "duration": 1165,
    "start_time": "2023-06-26T12:15:17.149Z"
   },
   {
    "duration": 91,
    "start_time": "2023-06-26T12:15:23.325Z"
   },
   {
    "duration": 140,
    "start_time": "2023-06-26T12:17:55.369Z"
   },
   {
    "duration": 14,
    "start_time": "2023-06-26T12:18:01.993Z"
   },
   {
    "duration": 6,
    "start_time": "2023-06-26T12:18:07.037Z"
   },
   {
    "duration": 4,
    "start_time": "2023-06-26T12:35:14.702Z"
   },
   {
    "duration": 3,
    "start_time": "2023-06-26T12:36:08.255Z"
   },
   {
    "duration": 1577,
    "start_time": "2023-06-26T12:36:20.366Z"
   },
   {
    "duration": 4,
    "start_time": "2023-06-26T12:36:31.018Z"
   },
   {
    "duration": 10,
    "start_time": "2023-06-26T12:36:38.867Z"
   },
   {
    "duration": 4,
    "start_time": "2023-06-26T12:37:16.246Z"
   },
   {
    "duration": 32,
    "start_time": "2023-06-26T12:38:26.267Z"
   },
   {
    "duration": 10,
    "start_time": "2023-06-26T12:38:38.515Z"
   },
   {
    "duration": 4,
    "start_time": "2023-06-26T12:39:09.310Z"
   },
   {
    "duration": 18,
    "start_time": "2023-06-26T12:39:20.811Z"
   },
   {
    "duration": 19,
    "start_time": "2023-06-26T12:40:37.814Z"
   },
   {
    "duration": 11,
    "start_time": "2023-06-26T12:40:44.737Z"
   },
   {
    "duration": 9,
    "start_time": "2023-06-26T12:43:56.214Z"
   },
   {
    "duration": 16,
    "start_time": "2023-06-26T12:44:24.022Z"
   },
   {
    "duration": 64,
    "start_time": "2023-06-26T12:44:41.050Z"
   },
   {
    "duration": 29,
    "start_time": "2023-06-26T12:46:57.807Z"
   },
   {
    "duration": 59,
    "start_time": "2023-06-26T12:48:13.850Z"
   },
   {
    "duration": 1274,
    "start_time": "2023-06-26T12:50:45.320Z"
   },
   {
    "duration": 15,
    "start_time": "2023-06-26T12:50:53.260Z"
   },
   {
    "duration": 17,
    "start_time": "2023-06-26T12:52:12.722Z"
   },
   {
    "duration": 37,
    "start_time": "2023-06-26T12:52:27.158Z"
   },
   {
    "duration": 33,
    "start_time": "2023-06-26T12:52:33.253Z"
   },
   {
    "duration": 28,
    "start_time": "2023-06-26T12:53:43.404Z"
   },
   {
    "duration": 20,
    "start_time": "2023-06-26T12:55:14.913Z"
   },
   {
    "duration": 19,
    "start_time": "2023-06-26T12:55:32.725Z"
   },
   {
    "duration": 707,
    "start_time": "2023-06-26T12:57:20.899Z"
   },
   {
    "duration": 20,
    "start_time": "2023-06-26T12:57:41.661Z"
   },
   {
    "duration": 19,
    "start_time": "2023-06-26T12:58:37.550Z"
   },
   {
    "duration": 15,
    "start_time": "2023-06-26T12:58:43.715Z"
   },
   {
    "duration": 40,
    "start_time": "2023-06-26T12:59:16.336Z"
   },
   {
    "duration": 16,
    "start_time": "2023-06-26T12:59:18.721Z"
   },
   {
    "duration": 64,
    "start_time": "2023-06-26T12:59:30.503Z"
   },
   {
    "duration": 2038,
    "start_time": "2023-06-26T13:00:35.486Z"
   },
   {
    "duration": 2420,
    "start_time": "2023-06-26T13:03:16.192Z"
   },
   {
    "duration": 37,
    "start_time": "2023-06-26T13:03:47.469Z"
   },
   {
    "duration": 13,
    "start_time": "2023-06-26T13:04:05.991Z"
   },
   {
    "duration": 5,
    "start_time": "2023-06-26T13:05:30.351Z"
   },
   {
    "duration": 18,
    "start_time": "2023-06-26T13:05:44.531Z"
   },
   {
    "duration": 15,
    "start_time": "2023-06-26T13:06:21.188Z"
   },
   {
    "duration": 4,
    "start_time": "2023-06-26T13:07:01.951Z"
   },
   {
    "duration": 17,
    "start_time": "2023-06-26T13:07:10.992Z"
   },
   {
    "duration": 7,
    "start_time": "2023-06-26T13:11:26.629Z"
   },
   {
    "duration": 18,
    "start_time": "2023-06-26T13:11:28.445Z"
   },
   {
    "duration": 5,
    "start_time": "2023-06-26T13:11:42.129Z"
   },
   {
    "duration": 19,
    "start_time": "2023-06-26T13:11:44.197Z"
   },
   {
    "duration": 4,
    "start_time": "2023-06-26T13:12:09.894Z"
   },
   {
    "duration": 15,
    "start_time": "2023-06-26T13:12:11.832Z"
   },
   {
    "duration": 5,
    "start_time": "2023-06-26T13:13:19.406Z"
   },
   {
    "duration": 25,
    "start_time": "2023-06-26T13:13:21.055Z"
   },
   {
    "duration": 101,
    "start_time": "2023-06-26T13:13:32.800Z"
   },
   {
    "duration": 20,
    "start_time": "2023-06-26T13:13:37.811Z"
   },
   {
    "duration": 6,
    "start_time": "2023-06-26T13:13:45.827Z"
   },
   {
    "duration": 20,
    "start_time": "2023-06-26T13:13:47.407Z"
   },
   {
    "duration": 5,
    "start_time": "2023-06-26T13:13:57.829Z"
   },
   {
    "duration": 22,
    "start_time": "2023-06-26T13:13:59.375Z"
   },
   {
    "duration": 11,
    "start_time": "2023-06-26T13:14:11.908Z"
   },
   {
    "duration": 16,
    "start_time": "2023-06-26T13:14:13.235Z"
   },
   {
    "duration": 4,
    "start_time": "2023-06-27T06:34:14.532Z"
   },
   {
    "duration": 1200,
    "start_time": "2023-06-27T06:35:27.243Z"
   },
   {
    "duration": 285,
    "start_time": "2023-06-27T06:35:28.444Z"
   },
   {
    "duration": 9,
    "start_time": "2023-06-27T06:35:28.731Z"
   },
   {
    "duration": 16,
    "start_time": "2023-06-27T06:35:28.742Z"
   },
   {
    "duration": 16,
    "start_time": "2023-06-27T06:35:28.759Z"
   },
   {
    "duration": 21,
    "start_time": "2023-06-27T06:35:28.777Z"
   },
   {
    "duration": 58,
    "start_time": "2023-06-27T06:35:28.799Z"
   },
   {
    "duration": 4,
    "start_time": "2023-06-27T06:35:28.858Z"
   },
   {
    "duration": 21,
    "start_time": "2023-06-27T06:35:28.863Z"
   },
   {
    "duration": 4,
    "start_time": "2023-06-27T06:35:28.902Z"
   },
   {
    "duration": 15,
    "start_time": "2023-06-27T06:35:29.306Z"
   },
   {
    "duration": 19,
    "start_time": "2023-06-27T06:35:29.492Z"
   },
   {
    "duration": 23,
    "start_time": "2023-06-27T06:35:29.684Z"
   },
   {
    "duration": 11,
    "start_time": "2023-06-27T06:35:30.084Z"
   },
   {
    "duration": 8,
    "start_time": "2023-06-27T06:35:30.282Z"
   },
   {
    "duration": 8,
    "start_time": "2023-06-27T06:35:30.674Z"
   },
   {
    "duration": 9,
    "start_time": "2023-06-27T06:35:31.081Z"
   },
   {
    "duration": 14,
    "start_time": "2023-06-27T06:35:31.468Z"
   },
   {
    "duration": 8,
    "start_time": "2023-06-27T06:35:31.662Z"
   },
   {
    "duration": 37,
    "start_time": "2023-06-27T06:35:32.238Z"
   },
   {
    "duration": 15,
    "start_time": "2023-06-27T06:35:32.636Z"
   },
   {
    "duration": 10,
    "start_time": "2023-06-27T06:35:32.814Z"
   },
   {
    "duration": 241,
    "start_time": "2023-06-27T06:35:33.573Z"
   },
   {
    "duration": 94,
    "start_time": "2023-06-27T06:35:34.550Z"
   },
   {
    "duration": 21,
    "start_time": "2023-06-27T06:35:35.012Z"
   },
   {
    "duration": 14,
    "start_time": "2023-06-27T06:35:35.805Z"
   },
   {
    "duration": 6,
    "start_time": "2023-06-27T06:35:36.340Z"
   },
   {
    "duration": 276,
    "start_time": "2023-06-27T06:35:37.046Z"
   },
   {
    "duration": 861,
    "start_time": "2023-06-27T06:35:38.579Z"
   },
   {
    "duration": 13,
    "start_time": "2023-06-27T06:35:40.039Z"
   },
   {
    "duration": 3,
    "start_time": "2023-06-27T06:36:16.741Z"
   },
   {
    "duration": 215,
    "start_time": "2023-06-27T06:36:17.182Z"
   },
   {
    "duration": 7,
    "start_time": "2023-06-27T06:36:17.836Z"
   },
   {
    "duration": 6,
    "start_time": "2023-06-27T06:36:18.080Z"
   },
   {
    "duration": 5,
    "start_time": "2023-06-27T06:36:18.302Z"
   },
   {
    "duration": 14,
    "start_time": "2023-06-27T06:36:18.608Z"
   },
   {
    "duration": 45,
    "start_time": "2023-06-27T06:36:18.898Z"
   },
   {
    "duration": 3,
    "start_time": "2023-06-27T06:36:19.079Z"
   },
   {
    "duration": 9,
    "start_time": "2023-06-27T06:36:19.248Z"
   },
   {
    "duration": 4,
    "start_time": "2023-06-27T06:36:19.556Z"
   },
   {
    "duration": 13,
    "start_time": "2023-06-27T06:36:19.870Z"
   },
   {
    "duration": 19,
    "start_time": "2023-06-27T06:36:20.042Z"
   },
   {
    "duration": 23,
    "start_time": "2023-06-27T06:36:20.197Z"
   },
   {
    "duration": 9,
    "start_time": "2023-06-27T06:36:20.578Z"
   },
   {
    "duration": 9,
    "start_time": "2023-06-27T06:36:20.775Z"
   },
   {
    "duration": 8,
    "start_time": "2023-06-27T06:36:21.278Z"
   },
   {
    "duration": 8,
    "start_time": "2023-06-27T06:36:21.648Z"
   },
   {
    "duration": 14,
    "start_time": "2023-06-27T06:36:22.107Z"
   },
   {
    "duration": 10,
    "start_time": "2023-06-27T06:36:22.346Z"
   },
   {
    "duration": 39,
    "start_time": "2023-06-27T06:36:22.936Z"
   },
   {
    "duration": 15,
    "start_time": "2023-06-27T06:36:24.494Z"
   },
   {
    "duration": 10,
    "start_time": "2023-06-27T06:36:25.582Z"
   },
   {
    "duration": 282,
    "start_time": "2023-06-27T06:36:25.864Z"
   },
   {
    "duration": 90,
    "start_time": "2023-06-27T06:36:26.340Z"
   },
   {
    "duration": 20,
    "start_time": "2023-06-27T06:36:27.287Z"
   },
   {
    "duration": 14,
    "start_time": "2023-06-27T06:36:28.091Z"
   },
   {
    "duration": 7,
    "start_time": "2023-06-27T06:36:29.152Z"
   },
   {
    "duration": 276,
    "start_time": "2023-06-27T06:36:29.848Z"
   },
   {
    "duration": 837,
    "start_time": "2023-06-27T06:36:30.836Z"
   },
   {
    "duration": 12,
    "start_time": "2023-06-27T06:36:31.905Z"
   },
   {
    "duration": 34,
    "start_time": "2023-06-27T06:37:06.113Z"
   },
   {
    "duration": 2,
    "start_time": "2023-06-27T06:38:14.014Z"
   },
   {
    "duration": 94,
    "start_time": "2023-06-27T06:39:10.140Z"
   },
   {
    "duration": 46,
    "start_time": "2023-06-27T06:41:49.447Z"
   },
   {
    "duration": 34,
    "start_time": "2023-06-27T06:41:50.180Z"
   },
   {
    "duration": 17,
    "start_time": "2023-06-27T06:41:57.061Z"
   },
   {
    "duration": 6,
    "start_time": "2023-06-27T06:42:08.995Z"
   },
   {
    "duration": 10,
    "start_time": "2023-06-27T06:42:13.810Z"
   },
   {
    "duration": 3,
    "start_time": "2023-06-27T06:42:23.008Z"
   },
   {
    "duration": 12,
    "start_time": "2023-06-27T06:44:28.838Z"
   },
   {
    "duration": 2,
    "start_time": "2023-06-27T06:45:26.373Z"
   },
   {
    "duration": 12,
    "start_time": "2023-06-27T06:45:45.471Z"
   },
   {
    "duration": 11,
    "start_time": "2023-06-27T06:46:41.681Z"
   },
   {
    "duration": 9,
    "start_time": "2023-06-27T06:47:15.198Z"
   },
   {
    "duration": 8,
    "start_time": "2023-06-27T06:47:28.562Z"
   },
   {
    "duration": 1530,
    "start_time": "2023-06-27T06:48:25.324Z"
   },
   {
    "duration": 11,
    "start_time": "2023-06-27T06:50:05.701Z"
   },
   {
    "duration": 17,
    "start_time": "2023-06-27T06:52:39.321Z"
   },
   {
    "duration": 15,
    "start_time": "2023-06-27T06:52:50.167Z"
   },
   {
    "duration": 19,
    "start_time": "2023-06-27T06:53:28.624Z"
   },
   {
    "duration": 24,
    "start_time": "2023-06-27T06:54:19.100Z"
   },
   {
    "duration": 11,
    "start_time": "2023-06-27T06:56:28.459Z"
   },
   {
    "duration": 5,
    "start_time": "2023-06-27T06:56:44.972Z"
   },
   {
    "duration": 3,
    "start_time": "2023-06-27T06:56:58.966Z"
   },
   {
    "duration": 2,
    "start_time": "2023-06-27T06:57:13.793Z"
   },
   {
    "duration": 29,
    "start_time": "2023-06-27T06:57:50.999Z"
   },
   {
    "duration": 6,
    "start_time": "2023-06-27T06:58:08.332Z"
   },
   {
    "duration": 3,
    "start_time": "2023-06-27T07:00:29.464Z"
   },
   {
    "duration": 317,
    "start_time": "2023-06-27T07:00:29.739Z"
   },
   {
    "duration": 6,
    "start_time": "2023-06-27T07:00:30.385Z"
   },
   {
    "duration": 7,
    "start_time": "2023-06-27T07:00:30.684Z"
   },
   {
    "duration": 3,
    "start_time": "2023-06-27T07:00:30.932Z"
   },
   {
    "duration": 13,
    "start_time": "2023-06-27T07:00:31.331Z"
   },
   {
    "duration": 49,
    "start_time": "2023-06-27T07:00:31.575Z"
   },
   {
    "duration": 3,
    "start_time": "2023-06-27T07:00:31.753Z"
   },
   {
    "duration": 14,
    "start_time": "2023-06-27T07:00:31.940Z"
   },
   {
    "duration": 5,
    "start_time": "2023-06-27T07:00:32.130Z"
   },
   {
    "duration": 15,
    "start_time": "2023-06-27T07:00:32.472Z"
   },
   {
    "duration": 19,
    "start_time": "2023-06-27T07:00:32.754Z"
   },
   {
    "duration": 23,
    "start_time": "2023-06-27T07:00:32.934Z"
   },
   {
    "duration": 9,
    "start_time": "2023-06-27T07:00:33.324Z"
   },
   {
    "duration": 9,
    "start_time": "2023-06-27T07:00:33.495Z"
   },
   {
    "duration": 9,
    "start_time": "2023-06-27T07:00:33.880Z"
   },
   {
    "duration": 8,
    "start_time": "2023-06-27T07:00:34.264Z"
   },
   {
    "duration": 16,
    "start_time": "2023-06-27T07:00:34.651Z"
   },
   {
    "duration": 9,
    "start_time": "2023-06-27T07:00:34.862Z"
   },
   {
    "duration": 40,
    "start_time": "2023-06-27T07:00:35.420Z"
   },
   {
    "duration": 16,
    "start_time": "2023-06-27T07:00:35.803Z"
   },
   {
    "duration": 12,
    "start_time": "2023-06-27T07:00:35.973Z"
   },
   {
    "duration": 309,
    "start_time": "2023-06-27T07:00:36.207Z"
   },
   {
    "duration": 92,
    "start_time": "2023-06-27T07:00:36.665Z"
   },
   {
    "duration": 22,
    "start_time": "2023-06-27T07:00:37.056Z"
   },
   {
    "duration": 14,
    "start_time": "2023-06-27T07:00:37.441Z"
   },
   {
    "duration": 5,
    "start_time": "2023-06-27T07:00:37.839Z"
   },
   {
    "duration": 286,
    "start_time": "2023-06-27T07:00:38.036Z"
   },
   {
    "duration": 863,
    "start_time": "2023-06-27T07:00:38.614Z"
   },
   {
    "duration": 21,
    "start_time": "2023-06-27T07:00:39.479Z"
   },
   {
    "duration": 26,
    "start_time": "2023-06-27T07:00:39.655Z"
   },
   {
    "duration": 41,
    "start_time": "2023-06-27T07:00:40.261Z"
   },
   {
    "duration": 30,
    "start_time": "2023-06-27T07:00:40.540Z"
   },
   {
    "duration": 16,
    "start_time": "2023-06-27T07:00:40.804Z"
   },
   {
    "duration": 7,
    "start_time": "2023-06-27T07:00:41.030Z"
   },
   {
    "duration": 11,
    "start_time": "2023-06-27T07:00:41.241Z"
   },
   {
    "duration": 4,
    "start_time": "2023-06-27T07:00:41.461Z"
   },
   {
    "duration": 13,
    "start_time": "2023-06-27T07:00:41.866Z"
   },
   {
    "duration": 11,
    "start_time": "2023-06-27T07:00:42.258Z"
   },
   {
    "duration": 11,
    "start_time": "2023-06-27T07:00:42.630Z"
   },
   {
    "duration": 9,
    "start_time": "2023-06-27T07:00:42.914Z"
   },
   {
    "duration": 1398,
    "start_time": "2023-06-27T07:00:43.332Z"
   },
   {
    "duration": 11,
    "start_time": "2023-06-27T07:00:44.732Z"
   },
   {
    "duration": 18,
    "start_time": "2023-06-27T07:00:44.791Z"
   },
   {
    "duration": 20,
    "start_time": "2023-06-27T07:00:45.719Z"
   },
   {
    "duration": 38,
    "start_time": "2023-06-27T07:00:46.304Z"
   },
   {
    "duration": 11,
    "start_time": "2023-06-27T07:00:47.364Z"
   },
   {
    "duration": 6,
    "start_time": "2023-06-27T07:00:47.584Z"
   },
   {
    "duration": 4,
    "start_time": "2023-06-27T07:00:47.857Z"
   },
   {
    "duration": 4,
    "start_time": "2023-06-27T07:00:47.987Z"
   },
   {
    "duration": 22,
    "start_time": "2023-06-27T07:00:48.543Z"
   },
   {
    "duration": 8,
    "start_time": "2023-06-27T07:00:48.888Z"
   },
   {
    "duration": 3,
    "start_time": "2023-06-27T07:03:45.420Z"
   },
   {
    "duration": 272,
    "start_time": "2023-06-27T07:03:45.922Z"
   },
   {
    "duration": 6,
    "start_time": "2023-06-27T07:03:46.755Z"
   },
   {
    "duration": 1126,
    "start_time": "2023-06-27T07:03:57.126Z"
   },
   {
    "duration": 224,
    "start_time": "2023-06-27T07:03:58.254Z"
   },
   {
    "duration": 11,
    "start_time": "2023-06-27T07:03:58.736Z"
   },
   {
    "duration": 7,
    "start_time": "2023-06-27T07:03:59.240Z"
   },
   {
    "duration": 4,
    "start_time": "2023-06-27T07:03:59.503Z"
   },
   {
    "duration": 15,
    "start_time": "2023-06-27T07:03:59.826Z"
   },
   {
    "duration": 46,
    "start_time": "2023-06-27T07:04:00.263Z"
   },
   {
    "duration": 3,
    "start_time": "2023-06-27T07:04:00.726Z"
   },
   {
    "duration": 10,
    "start_time": "2023-06-27T07:04:01.205Z"
   },
   {
    "duration": 5,
    "start_time": "2023-06-27T07:04:01.470Z"
   },
   {
    "duration": 15,
    "start_time": "2023-06-27T07:04:01.987Z"
   },
   {
    "duration": 21,
    "start_time": "2023-06-27T07:04:02.314Z"
   },
   {
    "duration": 28,
    "start_time": "2023-06-27T07:04:02.623Z"
   },
   {
    "duration": 10,
    "start_time": "2023-06-27T07:04:03.463Z"
   },
   {
    "duration": 10,
    "start_time": "2023-06-27T07:04:03.925Z"
   },
   {
    "duration": 9,
    "start_time": "2023-06-27T07:04:04.681Z"
   },
   {
    "duration": 9,
    "start_time": "2023-06-27T07:04:05.179Z"
   },
   {
    "duration": 16,
    "start_time": "2023-06-27T07:04:05.655Z"
   },
   {
    "duration": 9,
    "start_time": "2023-06-27T07:04:05.895Z"
   },
   {
    "duration": 41,
    "start_time": "2023-06-27T07:04:06.723Z"
   },
   {
    "duration": 16,
    "start_time": "2023-06-27T07:04:07.296Z"
   },
   {
    "duration": 10,
    "start_time": "2023-06-27T07:04:07.707Z"
   },
   {
    "duration": 263,
    "start_time": "2023-06-27T07:04:08.100Z"
   },
   {
    "duration": 104,
    "start_time": "2023-06-27T07:04:09.014Z"
   },
   {
    "duration": 23,
    "start_time": "2023-06-27T07:04:10.019Z"
   },
   {
    "duration": 15,
    "start_time": "2023-06-27T07:04:10.806Z"
   },
   {
    "duration": 6,
    "start_time": "2023-06-27T07:04:11.460Z"
   },
   {
    "duration": 286,
    "start_time": "2023-06-27T07:04:11.705Z"
   },
   {
    "duration": 904,
    "start_time": "2023-06-27T07:04:12.373Z"
   },
   {
    "duration": 21,
    "start_time": "2023-06-27T07:04:13.279Z"
   },
   {
    "duration": 28,
    "start_time": "2023-06-27T07:04:14.832Z"
   },
   {
    "duration": 46,
    "start_time": "2023-06-27T07:04:16.156Z"
   },
   {
    "duration": 34,
    "start_time": "2023-06-27T07:04:16.592Z"
   },
   {
    "duration": 15,
    "start_time": "2023-06-27T07:04:17.034Z"
   },
   {
    "duration": 7,
    "start_time": "2023-06-27T07:04:17.505Z"
   },
   {
    "duration": 10,
    "start_time": "2023-06-27T07:04:17.924Z"
   },
   {
    "duration": 4,
    "start_time": "2023-06-27T07:04:18.164Z"
   },
   {
    "duration": 13,
    "start_time": "2023-06-27T07:04:18.580Z"
   },
   {
    "duration": 12,
    "start_time": "2023-06-27T07:04:19.419Z"
   },
   {
    "duration": 13,
    "start_time": "2023-06-27T07:04:20.147Z"
   },
   {
    "duration": 9,
    "start_time": "2023-06-27T07:04:20.386Z"
   },
   {
    "duration": 1452,
    "start_time": "2023-06-27T07:04:20.890Z"
   },
   {
    "duration": 14,
    "start_time": "2023-06-27T07:04:22.345Z"
   },
   {
    "duration": 20,
    "start_time": "2023-06-27T07:04:23.681Z"
   },
   {
    "duration": 20,
    "start_time": "2023-06-27T07:04:24.634Z"
   },
   {
    "duration": 26,
    "start_time": "2023-06-27T07:04:25.660Z"
   },
   {
    "duration": 11,
    "start_time": "2023-06-27T07:04:27.484Z"
   },
   {
    "duration": 5,
    "start_time": "2023-06-27T07:04:28.197Z"
   },
   {
    "duration": 4,
    "start_time": "2023-06-27T07:04:28.881Z"
   },
   {
    "duration": 3,
    "start_time": "2023-06-27T07:04:29.475Z"
   },
   {
    "duration": 28,
    "start_time": "2023-06-27T07:04:30.594Z"
   },
   {
    "duration": 8,
    "start_time": "2023-06-27T07:04:31.215Z"
   },
   {
    "duration": 105,
    "start_time": "2023-06-27T07:10:01.490Z"
   },
   {
    "duration": 83,
    "start_time": "2023-06-27T07:10:14.162Z"
   },
   {
    "duration": 3,
    "start_time": "2023-06-27T09:20:57.890Z"
   },
   {
    "duration": 250,
    "start_time": "2023-06-27T09:20:58.098Z"
   },
   {
    "duration": 7,
    "start_time": "2023-06-27T09:20:58.526Z"
   },
   {
    "duration": 7,
    "start_time": "2023-06-27T09:20:59.536Z"
   },
   {
    "duration": 3,
    "start_time": "2023-06-27T09:20:59.739Z"
   },
   {
    "duration": 16,
    "start_time": "2023-06-27T09:21:00.047Z"
   },
   {
    "duration": 48,
    "start_time": "2023-06-27T09:21:00.631Z"
   },
   {
    "duration": 3,
    "start_time": "2023-06-27T09:21:00.748Z"
   },
   {
    "duration": 11,
    "start_time": "2023-06-27T09:21:01.259Z"
   },
   {
    "duration": 1161,
    "start_time": "2023-06-27T09:21:18.108Z"
   },
   {
    "duration": 213,
    "start_time": "2023-06-27T09:21:19.270Z"
   },
   {
    "duration": 11,
    "start_time": "2023-06-27T09:21:19.485Z"
   },
   {
    "duration": 14,
    "start_time": "2023-06-27T09:21:19.498Z"
   },
   {
    "duration": 4,
    "start_time": "2023-06-27T09:21:20.083Z"
   },
   {
    "duration": 14,
    "start_time": "2023-06-27T09:21:20.688Z"
   },
   {
    "duration": 45,
    "start_time": "2023-06-27T09:21:21.022Z"
   },
   {
    "duration": 3,
    "start_time": "2023-06-27T09:21:21.394Z"
   },
   {
    "duration": 10,
    "start_time": "2023-06-27T09:21:21.892Z"
   },
   {
    "duration": 5,
    "start_time": "2023-06-27T09:21:22.409Z"
   },
   {
    "duration": 15,
    "start_time": "2023-06-27T09:21:23.125Z"
   },
   {
    "duration": 23,
    "start_time": "2023-06-27T09:21:23.611Z"
   },
   {
    "duration": 24,
    "start_time": "2023-06-27T09:21:24.102Z"
   },
   {
    "duration": 18,
    "start_time": "2023-06-27T09:21:24.910Z"
   },
   {
    "duration": 9,
    "start_time": "2023-06-27T09:21:25.350Z"
   },
   {
    "duration": 11,
    "start_time": "2023-06-27T09:21:25.890Z"
   },
   {
    "duration": 9,
    "start_time": "2023-06-27T09:21:26.419Z"
   },
   {
    "duration": 14,
    "start_time": "2023-06-27T09:21:27.147Z"
   },
   {
    "duration": 9,
    "start_time": "2023-06-27T09:21:27.705Z"
   },
   {
    "duration": 37,
    "start_time": "2023-06-27T09:21:29.021Z"
   },
   {
    "duration": 15,
    "start_time": "2023-06-27T09:21:30.091Z"
   },
   {
    "duration": 11,
    "start_time": "2023-06-27T09:21:30.593Z"
   },
   {
    "duration": 246,
    "start_time": "2023-06-27T09:21:31.113Z"
   },
   {
    "duration": 93,
    "start_time": "2023-06-27T09:21:31.796Z"
   },
   {
    "duration": 21,
    "start_time": "2023-06-27T09:21:32.712Z"
   },
   {
    "duration": 17,
    "start_time": "2023-06-27T09:21:33.530Z"
   },
   {
    "duration": 6,
    "start_time": "2023-06-27T09:21:34.416Z"
   },
   {
    "duration": 312,
    "start_time": "2023-06-27T09:21:34.895Z"
   },
   {
    "duration": 871,
    "start_time": "2023-06-27T09:21:36.130Z"
   },
   {
    "duration": 13,
    "start_time": "2023-06-27T09:21:37.822Z"
   },
   {
    "duration": 29,
    "start_time": "2023-06-27T09:21:38.689Z"
   },
   {
    "duration": 41,
    "start_time": "2023-06-27T09:21:39.446Z"
   },
   {
    "duration": 40,
    "start_time": "2023-06-27T09:21:39.882Z"
   },
   {
    "duration": 18,
    "start_time": "2023-06-27T09:21:40.128Z"
   },
   {
    "duration": 7,
    "start_time": "2023-06-27T09:21:40.360Z"
   },
   {
    "duration": 12,
    "start_time": "2023-06-27T09:21:40.592Z"
   },
   {
    "duration": 5,
    "start_time": "2023-06-27T09:21:40.826Z"
   },
   {
    "duration": 95,
    "start_time": "2023-06-27T09:21:41.045Z"
   },
   {
    "duration": 15,
    "start_time": "2023-06-27T09:21:42.108Z"
   },
   {
    "duration": 14,
    "start_time": "2023-06-27T09:21:42.908Z"
   },
   {
    "duration": 23,
    "start_time": "2023-06-27T09:21:43.561Z"
   },
   {
    "duration": 9,
    "start_time": "2023-06-27T09:21:43.896Z"
   },
   {
    "duration": 1602,
    "start_time": "2023-06-27T09:21:44.596Z"
   },
   {
    "duration": 13,
    "start_time": "2023-06-27T09:21:54.201Z"
   },
   {
    "duration": 26,
    "start_time": "2023-06-27T09:21:56.111Z"
   },
   {
    "duration": 40,
    "start_time": "2023-06-27T09:21:57.105Z"
   },
   {
    "duration": 31,
    "start_time": "2023-06-27T09:21:58.198Z"
   },
   {
    "duration": 12,
    "start_time": "2023-06-27T09:22:00.322Z"
   },
   {
    "duration": 6,
    "start_time": "2023-06-27T09:22:01.363Z"
   },
   {
    "duration": 3,
    "start_time": "2023-06-27T09:22:02.140Z"
   },
   {
    "duration": 4,
    "start_time": "2023-06-27T09:22:02.690Z"
   },
   {
    "duration": 53,
    "start_time": "2023-06-27T09:22:03.690Z"
   },
   {
    "duration": 14,
    "start_time": "2023-06-27T09:22:04.208Z"
   },
   {
    "duration": 4,
    "start_time": "2023-06-27T09:45:27.398Z"
   },
   {
    "duration": 1104,
    "start_time": "2023-06-27T10:00:57.531Z"
   },
   {
    "duration": 280,
    "start_time": "2023-06-27T10:00:58.638Z"
   },
   {
    "duration": 10,
    "start_time": "2023-06-27T10:00:58.920Z"
   },
   {
    "duration": 7,
    "start_time": "2023-06-27T10:00:59.628Z"
   },
   {
    "duration": 5,
    "start_time": "2023-06-27T10:00:59.925Z"
   },
   {
    "duration": 13,
    "start_time": "2023-06-27T10:01:00.119Z"
   },
   {
    "duration": 50,
    "start_time": "2023-06-27T10:01:00.513Z"
   },
   {
    "duration": 8,
    "start_time": "2023-06-27T10:01:00.697Z"
   },
   {
    "duration": 10,
    "start_time": "2023-06-27T10:01:00.850Z"
   },
   {
    "duration": 5,
    "start_time": "2023-06-27T10:01:01.030Z"
   },
   {
    "duration": 15,
    "start_time": "2023-06-27T10:01:01.327Z"
   },
   {
    "duration": 33,
    "start_time": "2023-06-27T10:01:01.487Z"
   },
   {
    "duration": 29,
    "start_time": "2023-06-27T10:01:01.636Z"
   },
   {
    "duration": 10,
    "start_time": "2023-06-27T10:01:02.142Z"
   },
   {
    "duration": 10,
    "start_time": "2023-06-27T10:01:02.327Z"
   },
   {
    "duration": 9,
    "start_time": "2023-06-27T10:01:03.041Z"
   },
   {
    "duration": 10,
    "start_time": "2023-06-27T10:01:03.459Z"
   },
   {
    "duration": 16,
    "start_time": "2023-06-27T10:01:03.836Z"
   },
   {
    "duration": 15,
    "start_time": "2023-06-27T10:01:04.023Z"
   },
   {
    "duration": 53,
    "start_time": "2023-06-27T10:01:04.728Z"
   },
   {
    "duration": 16,
    "start_time": "2023-06-27T10:01:05.168Z"
   },
   {
    "duration": 13,
    "start_time": "2023-06-27T10:01:05.415Z"
   },
   {
    "duration": 251,
    "start_time": "2023-06-27T10:01:05.622Z"
   },
   {
    "duration": 122,
    "start_time": "2023-06-27T10:01:06.028Z"
   },
   {
    "duration": 34,
    "start_time": "2023-06-27T10:01:06.533Z"
   },
   {
    "duration": 14,
    "start_time": "2023-06-27T10:01:06.924Z"
   },
   {
    "duration": 7,
    "start_time": "2023-06-27T10:01:07.316Z"
   },
   {
    "duration": 319,
    "start_time": "2023-06-27T10:01:07.514Z"
   },
   {
    "duration": 962,
    "start_time": "2023-06-27T10:01:07.858Z"
   },
   {
    "duration": 11,
    "start_time": "2023-06-27T10:01:08.822Z"
   },
   {
    "duration": 36,
    "start_time": "2023-06-27T10:01:08.846Z"
   },
   {
    "duration": 55,
    "start_time": "2023-06-27T10:01:09.655Z"
   },
   {
    "duration": 43,
    "start_time": "2023-06-27T10:01:09.874Z"
   },
   {
    "duration": 18,
    "start_time": "2023-06-27T10:01:10.112Z"
   },
   {
    "duration": 8,
    "start_time": "2023-06-27T10:01:10.313Z"
   },
   {
    "duration": 11,
    "start_time": "2023-06-27T10:01:10.717Z"
   },
   {
    "duration": 4,
    "start_time": "2023-06-27T10:01:10.890Z"
   },
   {
    "duration": 96,
    "start_time": "2023-06-27T10:01:11.293Z"
   },
   {
    "duration": 21,
    "start_time": "2023-06-27T10:01:11.893Z"
   },
   {
    "duration": 20,
    "start_time": "2023-06-27T10:01:12.327Z"
   },
   {
    "duration": 25,
    "start_time": "2023-06-27T10:01:12.992Z"
   },
   {
    "duration": 9,
    "start_time": "2023-06-27T10:01:13.417Z"
   },
   {
    "duration": 1745,
    "start_time": "2023-06-27T10:01:13.848Z"
   },
   {
    "duration": 12,
    "start_time": "2023-06-27T10:01:16.415Z"
   },
   {
    "duration": 26,
    "start_time": "2023-06-27T10:01:17.194Z"
   },
   {
    "duration": 18,
    "start_time": "2023-06-27T10:01:18.044Z"
   },
   {
    "duration": 24,
    "start_time": "2023-06-27T10:01:19.087Z"
   },
   {
    "duration": 10,
    "start_time": "2023-06-27T10:01:21.005Z"
   },
   {
    "duration": 5,
    "start_time": "2023-06-27T10:01:21.840Z"
   },
   {
    "duration": 3,
    "start_time": "2023-06-27T10:01:22.488Z"
   },
   {
    "duration": 3,
    "start_time": "2023-06-27T10:01:22.819Z"
   },
   {
    "duration": 23,
    "start_time": "2023-06-27T10:01:24.169Z"
   },
   {
    "duration": 7,
    "start_time": "2023-06-27T10:01:24.719Z"
   },
   {
    "duration": 1219,
    "start_time": "2023-06-27T12:46:35.914Z"
   },
   {
    "duration": 395,
    "start_time": "2023-06-27T12:46:37.135Z"
   },
   {
    "duration": 10,
    "start_time": "2023-06-27T12:46:37.660Z"
   },
   {
    "duration": 8,
    "start_time": "2023-06-27T12:46:38.018Z"
   },
   {
    "duration": 4,
    "start_time": "2023-06-27T12:46:38.214Z"
   },
   {
    "duration": 15,
    "start_time": "2023-06-27T12:46:38.415Z"
   },
   {
    "duration": 59,
    "start_time": "2023-06-27T12:46:38.547Z"
   },
   {
    "duration": 3,
    "start_time": "2023-06-27T12:46:38.730Z"
   },
   {
    "duration": 9,
    "start_time": "2023-06-27T12:46:38.938Z"
   },
   {
    "duration": 5,
    "start_time": "2023-06-27T12:46:39.076Z"
   },
   {
    "duration": 15,
    "start_time": "2023-06-27T12:46:39.439Z"
   },
   {
    "duration": 22,
    "start_time": "2023-06-27T12:46:39.630Z"
   },
   {
    "duration": 25,
    "start_time": "2023-06-27T12:46:39.813Z"
   },
   {
    "duration": 14,
    "start_time": "2023-06-27T12:46:40.226Z"
   },
   {
    "duration": 9,
    "start_time": "2023-06-27T12:46:40.511Z"
   },
   {
    "duration": 10,
    "start_time": "2023-06-27T12:46:40.850Z"
   },
   {
    "duration": 11,
    "start_time": "2023-06-27T12:46:41.252Z"
   },
   {
    "duration": 16,
    "start_time": "2023-06-27T12:46:41.657Z"
   },
   {
    "duration": 10,
    "start_time": "2023-06-27T12:46:41.854Z"
   },
   {
    "duration": 44,
    "start_time": "2023-06-27T12:46:42.464Z"
   },
   {
    "duration": 17,
    "start_time": "2023-06-27T12:46:42.850Z"
   },
   {
    "duration": 12,
    "start_time": "2023-06-27T12:46:43.054Z"
   },
   {
    "duration": 266,
    "start_time": "2023-06-27T12:46:43.238Z"
   },
   {
    "duration": 100,
    "start_time": "2023-06-27T12:46:43.635Z"
   },
   {
    "duration": 29,
    "start_time": "2023-06-27T12:46:43.980Z"
   },
   {
    "duration": 14,
    "start_time": "2023-06-27T12:46:44.372Z"
   },
   {
    "duration": 5,
    "start_time": "2023-06-27T12:46:44.737Z"
   },
   {
    "duration": 321,
    "start_time": "2023-06-27T12:46:44.935Z"
   },
   {
    "duration": 1044,
    "start_time": "2023-06-27T12:46:45.320Z"
   },
   {
    "duration": 14,
    "start_time": "2023-06-27T12:46:46.365Z"
   },
   {
    "duration": 27,
    "start_time": "2023-06-27T12:46:46.480Z"
   },
   {
    "duration": 48,
    "start_time": "2023-06-27T12:46:47.267Z"
   },
   {
    "duration": 41,
    "start_time": "2023-06-27T12:46:47.459Z"
   },
   {
    "duration": 17,
    "start_time": "2023-06-27T12:46:47.707Z"
   },
   {
    "duration": 8,
    "start_time": "2023-06-27T12:46:47.918Z"
   },
   {
    "duration": 13,
    "start_time": "2023-06-27T12:46:48.131Z"
   },
   {
    "duration": 3,
    "start_time": "2023-06-27T12:46:48.337Z"
   },
   {
    "duration": 91,
    "start_time": "2023-06-27T12:46:48.815Z"
   },
   {
    "duration": 16,
    "start_time": "2023-06-27T12:46:49.435Z"
   },
   {
    "duration": 15,
    "start_time": "2023-06-27T12:46:49.855Z"
   },
   {
    "duration": 12,
    "start_time": "2023-06-27T12:46:50.247Z"
   },
   {
    "duration": 9,
    "start_time": "2023-06-27T12:46:50.438Z"
   },
   {
    "duration": 1737,
    "start_time": "2023-06-27T12:46:50.903Z"
   },
   {
    "duration": 11,
    "start_time": "2023-06-27T12:46:53.215Z"
   },
   {
    "duration": 19,
    "start_time": "2023-06-27T12:46:53.926Z"
   },
   {
    "duration": 19,
    "start_time": "2023-06-27T12:46:54.911Z"
   },
   {
    "duration": 26,
    "start_time": "2023-06-27T12:46:55.941Z"
   },
   {
    "duration": 11,
    "start_time": "2023-06-27T12:46:56.944Z"
   },
   {
    "duration": 6,
    "start_time": "2023-06-27T12:46:57.442Z"
   },
   {
    "duration": 4,
    "start_time": "2023-06-27T12:46:57.856Z"
   },
   {
    "duration": 3,
    "start_time": "2023-06-27T12:46:58.215Z"
   },
   {
    "duration": 25,
    "start_time": "2023-06-27T12:46:59.422Z"
   },
   {
    "duration": 8,
    "start_time": "2023-06-27T12:46:59.823Z"
   },
   {
    "duration": 2,
    "start_time": "2023-06-27T13:14:48.212Z"
   },
   {
    "duration": 219,
    "start_time": "2023-06-27T13:14:48.325Z"
   },
   {
    "duration": 6,
    "start_time": "2023-06-27T13:14:48.563Z"
   },
   {
    "duration": 7,
    "start_time": "2023-06-27T13:14:48.665Z"
   },
   {
    "duration": 5,
    "start_time": "2023-06-27T13:14:48.833Z"
   },
   {
    "duration": 23,
    "start_time": "2023-06-27T13:14:49.060Z"
   },
   {
    "duration": 63,
    "start_time": "2023-06-27T13:14:49.208Z"
   },
   {
    "duration": 3,
    "start_time": "2023-06-27T13:14:49.351Z"
   },
   {
    "duration": 9,
    "start_time": "2023-06-27T13:14:49.620Z"
   },
   {
    "duration": 5,
    "start_time": "2023-06-27T13:14:49.724Z"
   },
   {
    "duration": 17,
    "start_time": "2023-06-27T13:14:50.040Z"
   },
   {
    "duration": 21,
    "start_time": "2023-06-27T13:14:50.308Z"
   },
   {
    "duration": 1151,
    "start_time": "2023-06-27T13:14:57.247Z"
   },
   {
    "duration": 298,
    "start_time": "2023-06-27T13:14:58.400Z"
   },
   {
    "duration": 11,
    "start_time": "2023-06-27T13:14:58.699Z"
   },
   {
    "duration": 13,
    "start_time": "2023-06-27T13:14:58.712Z"
   },
   {
    "duration": 10,
    "start_time": "2023-06-27T13:14:58.727Z"
   },
   {
    "duration": 34,
    "start_time": "2023-06-27T13:14:58.738Z"
   },
   {
    "duration": 56,
    "start_time": "2023-06-27T13:14:58.773Z"
   },
   {
    "duration": 3,
    "start_time": "2023-06-27T13:14:58.830Z"
   },
   {
    "duration": 12,
    "start_time": "2023-06-27T13:14:59.040Z"
   },
   {
    "duration": 5,
    "start_time": "2023-06-27T13:14:59.223Z"
   },
   {
    "duration": 16,
    "start_time": "2023-06-27T13:14:59.569Z"
   },
   {
    "duration": 22,
    "start_time": "2023-06-27T13:14:59.736Z"
   },
   {
    "duration": 26,
    "start_time": "2023-06-27T13:15:00.073Z"
   },
   {
    "duration": 13,
    "start_time": "2023-06-27T13:15:00.438Z"
   },
   {
    "duration": 10,
    "start_time": "2023-06-27T13:15:00.643Z"
   },
   {
    "duration": 11,
    "start_time": "2023-06-27T13:15:01.031Z"
   },
   {
    "duration": 10,
    "start_time": "2023-06-27T13:15:01.411Z"
   },
   {
    "duration": 16,
    "start_time": "2023-06-27T13:15:01.812Z"
   },
   {
    "duration": 11,
    "start_time": "2023-06-27T13:15:02.024Z"
   },
   {
    "duration": 46,
    "start_time": "2023-06-27T13:15:02.631Z"
   },
   {
    "duration": 18,
    "start_time": "2023-06-27T13:15:03.036Z"
   },
   {
    "duration": 12,
    "start_time": "2023-06-27T13:15:03.266Z"
   },
   {
    "duration": 272,
    "start_time": "2023-06-27T13:15:03.452Z"
   },
   {
    "duration": 114,
    "start_time": "2023-06-27T13:15:03.847Z"
   },
   {
    "duration": 23,
    "start_time": "2023-06-27T13:15:04.249Z"
   },
   {
    "duration": 15,
    "start_time": "2023-06-27T13:15:04.816Z"
   },
   {
    "duration": 6,
    "start_time": "2023-06-27T13:15:05.261Z"
   },
   {
    "duration": 326,
    "start_time": "2023-06-27T13:15:05.508Z"
   },
   {
    "duration": 1059,
    "start_time": "2023-06-27T13:15:05.921Z"
   },
   {
    "duration": 14,
    "start_time": "2023-06-27T13:15:06.982Z"
   },
   {
    "duration": 30,
    "start_time": "2023-06-27T13:15:06.997Z"
   },
   {
    "duration": 45,
    "start_time": "2023-06-27T13:15:07.820Z"
   },
   {
    "duration": 39,
    "start_time": "2023-06-27T13:15:07.957Z"
   },
   {
    "duration": 17,
    "start_time": "2023-06-27T13:15:08.165Z"
   },
   {
    "duration": 8,
    "start_time": "2023-06-27T13:15:08.363Z"
   },
   {
    "duration": 12,
    "start_time": "2023-06-27T13:15:08.547Z"
   },
   {
    "duration": 4,
    "start_time": "2023-06-27T13:15:08.755Z"
   },
   {
    "duration": 92,
    "start_time": "2023-06-27T13:15:09.149Z"
   },
   {
    "duration": 15,
    "start_time": "2023-06-27T13:15:09.723Z"
   },
   {
    "duration": 14,
    "start_time": "2023-06-27T13:15:10.343Z"
   },
   {
    "duration": 12,
    "start_time": "2023-06-27T13:15:11.122Z"
   },
   {
    "duration": 9,
    "start_time": "2023-06-27T13:15:11.344Z"
   },
   {
    "duration": 1725,
    "start_time": "2023-06-27T13:15:11.939Z"
   },
   {
    "duration": 12,
    "start_time": "2023-06-27T13:15:14.323Z"
   },
   {
    "duration": 20,
    "start_time": "2023-06-27T13:15:15.424Z"
   },
   {
    "duration": 22,
    "start_time": "2023-06-27T13:15:16.223Z"
   },
   {
    "duration": 30,
    "start_time": "2023-06-27T13:15:17.134Z"
   },
   {
    "duration": 12,
    "start_time": "2023-06-27T13:15:18.957Z"
   },
   {
    "duration": 6,
    "start_time": "2023-06-27T13:15:19.363Z"
   },
   {
    "duration": 3,
    "start_time": "2023-06-27T13:15:19.704Z"
   },
   {
    "duration": 5,
    "start_time": "2023-06-27T13:15:19.911Z"
   },
   {
    "duration": 33,
    "start_time": "2023-06-27T13:15:20.939Z"
   },
   {
    "duration": 7,
    "start_time": "2023-06-27T13:15:21.223Z"
   },
   {
    "duration": 1571,
    "start_time": "2023-06-27T14:16:36.709Z"
   },
   {
    "duration": 388,
    "start_time": "2023-06-27T14:16:38.282Z"
   },
   {
    "duration": 17,
    "start_time": "2023-06-27T14:16:38.672Z"
   },
   {
    "duration": 31,
    "start_time": "2023-06-27T14:16:38.692Z"
   },
   {
    "duration": 9,
    "start_time": "2023-06-27T14:16:38.725Z"
   },
   {
    "duration": 32,
    "start_time": "2023-06-27T14:16:38.736Z"
   },
   {
    "duration": 130,
    "start_time": "2023-06-27T14:16:38.773Z"
   },
   {
    "duration": 4,
    "start_time": "2023-06-27T14:16:38.910Z"
   },
   {
    "duration": 25,
    "start_time": "2023-06-27T14:16:38.916Z"
   },
   {
    "duration": 46,
    "start_time": "2023-06-27T14:16:38.943Z"
   },
   {
    "duration": 88,
    "start_time": "2023-06-27T14:16:38.994Z"
   },
   {
    "duration": 59,
    "start_time": "2023-06-27T14:16:39.085Z"
   },
   {
    "duration": 82,
    "start_time": "2023-06-27T14:16:39.146Z"
   },
   {
    "duration": 15,
    "start_time": "2023-06-27T14:16:39.231Z"
   },
   {
    "duration": 16,
    "start_time": "2023-06-27T14:16:39.248Z"
   },
   {
    "duration": 62,
    "start_time": "2023-06-27T14:16:39.267Z"
   },
   {
    "duration": 29,
    "start_time": "2023-06-27T14:16:39.331Z"
   },
   {
    "duration": 75,
    "start_time": "2023-06-27T14:16:39.363Z"
   },
   {
    "duration": 12,
    "start_time": "2023-06-27T14:16:39.440Z"
   },
   {
    "duration": 96,
    "start_time": "2023-06-27T14:16:39.453Z"
   },
   {
    "duration": 31,
    "start_time": "2023-06-27T14:16:39.551Z"
   },
   {
    "duration": 37,
    "start_time": "2023-06-27T14:16:39.583Z"
   },
   {
    "duration": 393,
    "start_time": "2023-06-27T14:16:39.621Z"
   },
   {
    "duration": 143,
    "start_time": "2023-06-27T14:16:40.016Z"
   },
   {
    "duration": 36,
    "start_time": "2023-06-27T14:16:40.167Z"
   },
   {
    "duration": 38,
    "start_time": "2023-06-27T14:16:40.205Z"
   },
   {
    "duration": 59,
    "start_time": "2023-06-27T14:16:40.244Z"
   },
   {
    "duration": 438,
    "start_time": "2023-06-27T14:16:40.305Z"
   },
   {
    "duration": 1478,
    "start_time": "2023-06-27T14:16:40.744Z"
   },
   {
    "duration": 14,
    "start_time": "2023-06-27T14:16:42.225Z"
   },
   {
    "duration": 165,
    "start_time": "2023-06-27T14:16:42.241Z"
   },
   {
    "duration": 70,
    "start_time": "2023-06-27T14:16:42.410Z"
   },
   {
    "duration": 92,
    "start_time": "2023-06-27T14:16:42.482Z"
   },
   {
    "duration": 47,
    "start_time": "2023-06-27T14:16:42.576Z"
   },
   {
    "duration": 115,
    "start_time": "2023-06-27T14:16:42.625Z"
   },
   {
    "duration": 81,
    "start_time": "2023-06-27T14:16:42.742Z"
   },
   {
    "duration": 23,
    "start_time": "2023-06-27T14:16:42.828Z"
   },
   {
    "duration": 216,
    "start_time": "2023-06-27T14:16:42.853Z"
   },
   {
    "duration": 22,
    "start_time": "2023-06-27T14:16:43.071Z"
   },
   {
    "duration": 49,
    "start_time": "2023-06-27T14:16:43.095Z"
   },
   {
    "duration": 73,
    "start_time": "2023-06-27T14:16:43.149Z"
   },
   {
    "duration": 85,
    "start_time": "2023-06-27T14:16:43.224Z"
   },
   {
    "duration": 2264,
    "start_time": "2023-06-27T14:16:43.310Z"
   },
   {
    "duration": 20,
    "start_time": "2023-06-27T14:16:45.579Z"
   },
   {
    "duration": 40,
    "start_time": "2023-06-27T14:16:45.601Z"
   },
   {
    "duration": 78,
    "start_time": "2023-06-27T14:16:45.643Z"
   },
   {
    "duration": 40,
    "start_time": "2023-06-27T14:16:45.723Z"
   },
   {
    "duration": 40,
    "start_time": "2023-06-27T14:16:45.766Z"
   },
   {
    "duration": 8,
    "start_time": "2023-06-27T14:16:45.808Z"
   },
   {
    "duration": 17,
    "start_time": "2023-06-27T14:16:45.818Z"
   },
   {
    "duration": 11,
    "start_time": "2023-06-27T14:16:45.837Z"
   },
   {
    "duration": 74,
    "start_time": "2023-06-27T14:16:45.849Z"
   },
   {
    "duration": 11,
    "start_time": "2023-06-27T14:16:45.925Z"
   },
   {
    "duration": 12,
    "start_time": "2023-06-27T14:19:41.015Z"
   },
   {
    "duration": 32,
    "start_time": "2023-06-27T14:23:56.572Z"
   },
   {
    "duration": 32,
    "start_time": "2023-06-27T14:24:06.176Z"
   },
   {
    "duration": 5,
    "start_time": "2023-06-27T14:24:47.846Z"
   },
   {
    "duration": 185,
    "start_time": "2023-06-27T14:25:00.319Z"
   },
   {
    "duration": 184,
    "start_time": "2023-06-27T14:25:05.143Z"
   },
   {
    "duration": 13,
    "start_time": "2023-06-27T14:44:58.235Z"
   },
   {
    "duration": 11,
    "start_time": "2023-06-27T14:45:01.227Z"
   },
   {
    "duration": 21,
    "start_time": "2023-06-27T14:45:11.551Z"
   },
   {
    "duration": 1290,
    "start_time": "2023-06-28T08:56:53.214Z"
   },
   {
    "duration": 337,
    "start_time": "2023-06-28T08:56:54.506Z"
   },
   {
    "duration": 11,
    "start_time": "2023-06-28T08:56:54.845Z"
   },
   {
    "duration": 7,
    "start_time": "2023-06-28T08:56:55.602Z"
   },
   {
    "duration": 4,
    "start_time": "2023-06-28T08:56:56.633Z"
   },
   {
    "duration": 16,
    "start_time": "2023-06-28T08:56:57.236Z"
   },
   {
    "duration": 61,
    "start_time": "2023-06-28T08:56:57.962Z"
   },
   {
    "duration": 3,
    "start_time": "2023-06-28T08:56:58.855Z"
   },
   {
    "duration": 9,
    "start_time": "2023-06-28T08:57:00.030Z"
   },
   {
    "duration": 6,
    "start_time": "2023-06-28T08:57:00.465Z"
   },
   {
    "duration": 17,
    "start_time": "2023-06-28T08:57:02.511Z"
   },
   {
    "duration": 26,
    "start_time": "2023-06-28T08:57:02.959Z"
   },
   {
    "duration": 25,
    "start_time": "2023-06-28T08:57:03.506Z"
   },
   {
    "duration": 13,
    "start_time": "2023-06-28T08:57:06.702Z"
   },
   {
    "duration": 10,
    "start_time": "2023-06-28T08:57:07.713Z"
   },
   {
    "duration": 10,
    "start_time": "2023-06-28T08:57:09.735Z"
   },
   {
    "duration": 10,
    "start_time": "2023-06-28T08:57:10.935Z"
   },
   {
    "duration": 1177,
    "start_time": "2023-06-28T08:59:49.048Z"
   },
   {
    "duration": 345,
    "start_time": "2023-06-28T08:59:50.227Z"
   },
   {
    "duration": 12,
    "start_time": "2023-06-28T08:59:50.578Z"
   },
   {
    "duration": 11,
    "start_time": "2023-06-28T08:59:50.591Z"
   },
   {
    "duration": 10,
    "start_time": "2023-06-28T08:59:50.603Z"
   },
   {
    "duration": 15,
    "start_time": "2023-06-28T08:59:50.652Z"
   },
   {
    "duration": 53,
    "start_time": "2023-06-28T08:59:51.109Z"
   },
   {
    "duration": 4,
    "start_time": "2023-06-28T08:59:51.280Z"
   },
   {
    "duration": 10,
    "start_time": "2023-06-28T08:59:51.533Z"
   },
   {
    "duration": 5,
    "start_time": "2023-06-28T08:59:51.832Z"
   },
   {
    "duration": 15,
    "start_time": "2023-06-28T08:59:52.209Z"
   },
   {
    "duration": 21,
    "start_time": "2023-06-28T08:59:52.502Z"
   },
   {
    "duration": 34,
    "start_time": "2023-06-28T08:59:53.156Z"
   },
   {
    "duration": 12,
    "start_time": "2023-06-28T08:59:54.820Z"
   },
   {
    "duration": 9,
    "start_time": "2023-06-28T08:59:55.441Z"
   },
   {
    "duration": 18,
    "start_time": "2023-06-28T08:59:56.360Z"
   },
   {
    "duration": 14,
    "start_time": "2023-06-28T08:59:57.277Z"
   },
   {
    "duration": 16,
    "start_time": "2023-06-28T08:59:58.223Z"
   },
   {
    "duration": 276,
    "start_time": "2023-06-28T09:00:15.422Z"
   },
   {
    "duration": 22,
    "start_time": "2023-06-28T09:01:12.017Z"
   },
   {
    "duration": 1135,
    "start_time": "2023-06-28T09:01:28.807Z"
   },
   {
    "duration": 380,
    "start_time": "2023-06-28T09:01:30.609Z"
   },
   {
    "duration": 10,
    "start_time": "2023-06-28T09:01:30.991Z"
   },
   {
    "duration": 58,
    "start_time": "2023-06-28T09:01:31.002Z"
   },
   {
    "duration": 4,
    "start_time": "2023-06-28T09:01:31.160Z"
   },
   {
    "duration": 17,
    "start_time": "2023-06-28T09:01:31.318Z"
   },
   {
    "duration": 52,
    "start_time": "2023-06-28T09:01:31.507Z"
   },
   {
    "duration": 3,
    "start_time": "2023-06-28T09:01:31.707Z"
   },
   {
    "duration": 9,
    "start_time": "2023-06-28T09:01:31.858Z"
   },
   {
    "duration": 5,
    "start_time": "2023-06-28T09:01:32.427Z"
   },
   {
    "duration": 16,
    "start_time": "2023-06-28T09:01:33.142Z"
   },
   {
    "duration": 22,
    "start_time": "2023-06-28T09:01:33.705Z"
   },
   {
    "duration": 24,
    "start_time": "2023-06-28T09:01:34.205Z"
   },
   {
    "duration": 14,
    "start_time": "2023-06-28T09:01:35.805Z"
   },
   {
    "duration": 8,
    "start_time": "2023-06-28T09:01:36.533Z"
   },
   {
    "duration": 10,
    "start_time": "2023-06-28T09:01:37.925Z"
   },
   {
    "duration": 14,
    "start_time": "2023-06-28T09:01:38.866Z"
   },
   {
    "duration": 93,
    "start_time": "2023-06-28T09:01:40.821Z"
   },
   {
    "duration": 23,
    "start_time": "2023-06-28T09:01:42.696Z"
   },
   {
    "duration": 12,
    "start_time": "2023-06-28T09:01:47.360Z"
   },
   {
    "duration": 47,
    "start_time": "2023-06-28T09:02:59.118Z"
   },
   {
    "duration": 17,
    "start_time": "2023-06-28T09:03:00.630Z"
   },
   {
    "duration": 11,
    "start_time": "2023-06-28T09:03:01.028Z"
   },
   {
    "duration": 275,
    "start_time": "2023-06-28T09:03:01.867Z"
   },
   {
    "duration": 104,
    "start_time": "2023-06-28T09:03:03.741Z"
   },
   {
    "duration": 21,
    "start_time": "2023-06-28T09:03:04.926Z"
   },
   {
    "duration": 24,
    "start_time": "2023-06-28T09:03:05.950Z"
   },
   {
    "duration": 6,
    "start_time": "2023-06-28T09:03:06.944Z"
   },
   {
    "duration": 331,
    "start_time": "2023-06-28T09:03:07.552Z"
   },
   {
    "duration": 1108,
    "start_time": "2023-06-28T09:03:08.976Z"
   },
   {
    "duration": 13,
    "start_time": "2023-06-28T09:03:10.086Z"
   },
   {
    "duration": 27,
    "start_time": "2023-06-28T09:03:13.414Z"
   },
   {
    "duration": 92,
    "start_time": "2023-06-28T09:04:02.318Z"
   },
   {
    "duration": 739,
    "start_time": "2023-06-28T09:04:08.152Z"
   },
   {
    "duration": 8,
    "start_time": "2023-06-28T09:05:30.211Z"
   },
   {
    "duration": 16,
    "start_time": "2023-06-28T09:05:31.672Z"
   },
   {
    "duration": 20,
    "start_time": "2023-06-28T09:07:17.527Z"
   },
   {
    "duration": 10,
    "start_time": "2023-06-28T09:07:19.307Z"
   },
   {
    "duration": 143,
    "start_time": "2023-06-28T09:08:02.753Z"
   },
   {
    "duration": 69,
    "start_time": "2023-06-28T09:09:46.148Z"
   },
   {
    "duration": 55,
    "start_time": "2023-06-28T09:09:53.990Z"
   },
   {
    "duration": 47,
    "start_time": "2023-06-28T09:09:54.859Z"
   },
   {
    "duration": 17,
    "start_time": "2023-06-28T09:09:55.129Z"
   },
   {
    "duration": 10,
    "start_time": "2023-06-28T09:09:58.762Z"
   },
   {
    "duration": 13,
    "start_time": "2023-06-28T09:09:59.410Z"
   },
   {
    "duration": 5,
    "start_time": "2023-06-28T09:10:00.320Z"
   },
   {
    "duration": 99,
    "start_time": "2023-06-28T09:10:03.616Z"
   },
   {
    "duration": 19,
    "start_time": "2023-06-28T09:10:07.273Z"
   },
   {
    "duration": 12,
    "start_time": "2023-06-28T09:11:42.111Z"
   },
   {
    "duration": 15,
    "start_time": "2023-06-28T09:13:12.342Z"
   },
   {
    "duration": 174,
    "start_time": "2023-06-28T09:14:38.414Z"
   },
   {
    "duration": 61,
    "start_time": "2023-06-28T09:18:46.382Z"
   },
   {
    "duration": 20,
    "start_time": "2023-06-28T09:18:54.098Z"
   },
   {
    "duration": 11,
    "start_time": "2023-06-28T09:18:56.790Z"
   },
   {
    "duration": 1832,
    "start_time": "2023-06-28T09:19:01.475Z"
   },
   {
    "duration": 11,
    "start_time": "2023-06-28T09:23:38.527Z"
   },
   {
    "duration": 22,
    "start_time": "2023-06-28T09:23:40.264Z"
   },
   {
    "duration": 33,
    "start_time": "2023-06-28T09:24:25.955Z"
   },
   {
    "duration": 20,
    "start_time": "2023-06-28T09:25:54.992Z"
   },
   {
    "duration": 330,
    "start_time": "2023-06-28T09:26:27.941Z"
   },
   {
    "duration": 27,
    "start_time": "2023-06-28T09:27:55.179Z"
   },
   {
    "duration": 44,
    "start_time": "2023-06-28T09:28:28.613Z"
   },
   {
    "duration": 11,
    "start_time": "2023-06-28T09:33:37.444Z"
   },
   {
    "duration": 95,
    "start_time": "2023-06-28T09:33:38.713Z"
   },
   {
    "duration": 12,
    "start_time": "2023-06-28T09:34:41.458Z"
   },
   {
    "duration": 3,
    "start_time": "2023-06-28T09:36:11.509Z"
   },
   {
    "duration": 16,
    "start_time": "2023-06-28T09:36:20.299Z"
   },
   {
    "duration": 71,
    "start_time": "2023-06-28T09:37:35.909Z"
   },
   {
    "duration": 3,
    "start_time": "2023-06-28T09:38:26.523Z"
   },
   {
    "duration": 9,
    "start_time": "2023-06-28T09:38:34.576Z"
   },
   {
    "duration": 10,
    "start_time": "2023-06-28T09:39:11.656Z"
   },
   {
    "duration": 4,
    "start_time": "2023-06-28T09:39:26.304Z"
   },
   {
    "duration": 266,
    "start_time": "2023-06-28T09:39:35.931Z"
   },
   {
    "duration": 115,
    "start_time": "2023-06-28T09:39:40.071Z"
   },
   {
    "duration": 7,
    "start_time": "2023-06-28T09:40:06.254Z"
   },
   {
    "duration": 67,
    "start_time": "2023-06-28T09:40:42.322Z"
   },
   {
    "duration": 7,
    "start_time": "2023-06-28T09:43:52.659Z"
   },
   {
    "duration": 12,
    "start_time": "2023-06-28T09:55:07.909Z"
   },
   {
    "duration": 10,
    "start_time": "2023-06-28T09:55:10.146Z"
   },
   {
    "duration": 3,
    "start_time": "2023-06-28T09:55:14.058Z"
   },
   {
    "duration": 31,
    "start_time": "2023-06-28T09:56:51.473Z"
   },
   {
    "duration": 9,
    "start_time": "2023-06-28T09:57:14.345Z"
   },
   {
    "duration": 8,
    "start_time": "2023-06-28T09:57:44.312Z"
   },
   {
    "duration": 27,
    "start_time": "2023-06-28T09:59:48.366Z"
   },
   {
    "duration": 6,
    "start_time": "2023-06-28T09:59:56.721Z"
   },
   {
    "duration": 11,
    "start_time": "2023-06-28T10:06:47.809Z"
   },
   {
    "duration": 16,
    "start_time": "2023-06-28T10:07:24.786Z"
   },
   {
    "duration": 279,
    "start_time": "2023-06-28T10:07:33.615Z"
   },
   {
    "duration": 4,
    "start_time": "2023-06-28T10:08:32.881Z"
   },
   {
    "duration": 6,
    "start_time": "2023-06-28T10:08:42.281Z"
   },
   {
    "duration": 5,
    "start_time": "2023-06-28T10:08:56.438Z"
   },
   {
    "duration": 27,
    "start_time": "2023-06-28T10:11:21.348Z"
   },
   {
    "duration": 11,
    "start_time": "2023-06-28T10:11:48.450Z"
   },
   {
    "duration": 20,
    "start_time": "2023-06-28T10:13:48.740Z"
   },
   {
    "duration": 28,
    "start_time": "2023-06-28T10:15:53.595Z"
   },
   {
    "duration": 8,
    "start_time": "2023-06-28T10:17:28.656Z"
   },
   {
    "duration": 6,
    "start_time": "2023-06-28T10:21:21.691Z"
   },
   {
    "duration": 46,
    "start_time": "2023-06-28T10:21:44.488Z"
   },
   {
    "duration": 10,
    "start_time": "2023-06-28T10:21:45.115Z"
   },
   {
    "duration": 1233,
    "start_time": "2023-06-28T10:24:19.071Z"
   },
   {
    "duration": 421,
    "start_time": "2023-06-28T10:24:20.305Z"
   },
   {
    "duration": 15,
    "start_time": "2023-06-28T10:24:20.728Z"
   },
   {
    "duration": 12,
    "start_time": "2023-06-28T10:24:20.746Z"
   },
   {
    "duration": 17,
    "start_time": "2023-06-28T10:24:20.769Z"
   },
   {
    "duration": 31,
    "start_time": "2023-06-28T10:24:20.787Z"
   },
   {
    "duration": 65,
    "start_time": "2023-06-28T10:24:20.819Z"
   },
   {
    "duration": 5,
    "start_time": "2023-06-28T10:24:20.888Z"
   },
   {
    "duration": 18,
    "start_time": "2023-06-28T10:24:20.896Z"
   },
   {
    "duration": 5,
    "start_time": "2023-06-28T10:24:21.183Z"
   },
   {
    "duration": 15,
    "start_time": "2023-06-28T10:24:21.451Z"
   },
   {
    "duration": 38,
    "start_time": "2023-06-28T10:24:21.647Z"
   },
   {
    "duration": 30,
    "start_time": "2023-06-28T10:24:21.888Z"
   },
   {
    "duration": 13,
    "start_time": "2023-06-28T10:24:22.534Z"
   },
   {
    "duration": 10,
    "start_time": "2023-06-28T10:24:22.751Z"
   },
   {
    "duration": 11,
    "start_time": "2023-06-28T10:24:23.111Z"
   },
   {
    "duration": 10,
    "start_time": "2023-06-28T10:24:23.512Z"
   },
   {
    "duration": 68,
    "start_time": "2023-06-28T10:24:23.913Z"
   },
   {
    "duration": 34,
    "start_time": "2023-06-28T10:24:24.169Z"
   },
   {
    "duration": 16,
    "start_time": "2023-06-28T10:24:24.793Z"
   },
   {
    "duration": 71,
    "start_time": "2023-06-28T10:24:25.998Z"
   },
   {
    "duration": 26,
    "start_time": "2023-06-28T10:24:26.448Z"
   },
   {
    "duration": 18,
    "start_time": "2023-06-28T10:24:26.663Z"
   },
   {
    "duration": 328,
    "start_time": "2023-06-28T10:24:26.888Z"
   },
   {
    "duration": 119,
    "start_time": "2023-06-28T10:24:27.311Z"
   },
   {
    "duration": 24,
    "start_time": "2023-06-28T10:24:27.686Z"
   },
   {
    "duration": 19,
    "start_time": "2023-06-28T10:24:28.062Z"
   },
   {
    "duration": 7,
    "start_time": "2023-06-28T10:24:28.487Z"
   },
   {
    "duration": 385,
    "start_time": "2023-06-28T10:24:28.689Z"
   },
   {
    "duration": 1236,
    "start_time": "2023-06-28T10:24:29.400Z"
   },
   {
    "duration": 14,
    "start_time": "2023-06-28T10:24:30.638Z"
   },
   {
    "duration": 29,
    "start_time": "2023-06-28T10:24:30.746Z"
   },
   {
    "duration": 736,
    "start_time": "2023-06-28T10:24:31.153Z"
   },
   {
    "duration": 52,
    "start_time": "2023-06-28T10:24:32.208Z"
   },
   {
    "duration": 38,
    "start_time": "2023-06-28T10:24:32.425Z"
   },
   {
    "duration": 16,
    "start_time": "2023-06-28T10:24:32.631Z"
   },
   {
    "duration": 8,
    "start_time": "2023-06-28T10:24:33.022Z"
   },
   {
    "duration": 12,
    "start_time": "2023-06-28T10:24:33.234Z"
   },
   {
    "duration": 5,
    "start_time": "2023-06-28T10:24:33.454Z"
   },
   {
    "duration": 108,
    "start_time": "2023-06-28T10:24:33.893Z"
   },
   {
    "duration": 26,
    "start_time": "2023-06-28T10:24:34.506Z"
   },
   {
    "duration": 16,
    "start_time": "2023-06-28T10:24:35.708Z"
   },
   {
    "duration": 185,
    "start_time": "2023-06-28T10:24:36.255Z"
   },
   {
    "duration": 19,
    "start_time": "2023-06-28T10:24:37.367Z"
   },
   {
    "duration": 11,
    "start_time": "2023-06-28T10:24:37.825Z"
   },
   {
    "duration": 1826,
    "start_time": "2023-06-28T10:24:38.545Z"
   },
   {
    "duration": 13,
    "start_time": "2023-06-28T10:24:40.373Z"
   },
   {
    "duration": 39,
    "start_time": "2023-06-28T10:24:40.970Z"
   },
   {
    "duration": 280,
    "start_time": "2023-06-28T10:24:42.864Z"
   },
   {
    "duration": 62,
    "start_time": "2023-06-28T10:24:44.055Z"
   },
   {
    "duration": 12,
    "start_time": "2023-06-28T10:24:46.341Z"
   },
   {
    "duration": 9,
    "start_time": "2023-06-28T10:24:46.920Z"
   },
   {
    "duration": 31,
    "start_time": "2023-06-28T10:24:49.102Z"
   },
   {
    "duration": 8,
    "start_time": "2023-06-28T10:24:49.592Z"
   },
   {
    "duration": 1109,
    "start_time": "2023-06-28T10:59:12.689Z"
   },
   {
    "duration": 1101,
    "start_time": "2023-06-28T10:59:13.800Z"
   },
   {
    "duration": 9,
    "start_time": "2023-06-28T10:59:14.903Z"
   },
   {
    "duration": 7,
    "start_time": "2023-06-28T10:59:14.914Z"
   },
   {
    "duration": 4,
    "start_time": "2023-06-28T10:59:14.922Z"
   },
   {
    "duration": 23,
    "start_time": "2023-06-28T10:59:14.927Z"
   },
   {
    "duration": 63,
    "start_time": "2023-06-28T10:59:14.951Z"
   },
   {
    "duration": 2,
    "start_time": "2023-06-28T10:59:15.016Z"
   },
   {
    "duration": 36,
    "start_time": "2023-06-28T10:59:15.020Z"
   },
   {
    "duration": 7,
    "start_time": "2023-06-28T10:59:15.058Z"
   },
   {
    "duration": 26,
    "start_time": "2023-06-28T10:59:15.066Z"
   },
   {
    "duration": 21,
    "start_time": "2023-06-28T10:59:15.093Z"
   },
   {
    "duration": 25,
    "start_time": "2023-06-28T10:59:15.115Z"
   },
   {
    "duration": 13,
    "start_time": "2023-06-28T10:59:15.141Z"
   },
   {
    "duration": 19,
    "start_time": "2023-06-28T10:59:15.155Z"
   },
   {
    "duration": 12,
    "start_time": "2023-06-28T10:59:15.176Z"
   },
   {
    "duration": 11,
    "start_time": "2023-06-28T10:59:15.189Z"
   },
   {
    "duration": 126,
    "start_time": "2023-06-28T10:59:15.201Z"
   },
   {
    "duration": 0,
    "start_time": "2023-06-28T10:59:15.329Z"
   },
   {
    "duration": 0,
    "start_time": "2023-06-28T10:59:15.330Z"
   },
   {
    "duration": 0,
    "start_time": "2023-06-28T10:59:15.331Z"
   },
   {
    "duration": 0,
    "start_time": "2023-06-28T10:59:15.332Z"
   },
   {
    "duration": 0,
    "start_time": "2023-06-28T10:59:15.333Z"
   },
   {
    "duration": 0,
    "start_time": "2023-06-28T10:59:15.335Z"
   },
   {
    "duration": 0,
    "start_time": "2023-06-28T10:59:15.335Z"
   },
   {
    "duration": 0,
    "start_time": "2023-06-28T10:59:15.336Z"
   },
   {
    "duration": 0,
    "start_time": "2023-06-28T10:59:15.337Z"
   },
   {
    "duration": 0,
    "start_time": "2023-06-28T10:59:15.338Z"
   },
   {
    "duration": 0,
    "start_time": "2023-06-28T10:59:15.339Z"
   },
   {
    "duration": 0,
    "start_time": "2023-06-28T10:59:15.340Z"
   },
   {
    "duration": 0,
    "start_time": "2023-06-28T10:59:15.341Z"
   },
   {
    "duration": 0,
    "start_time": "2023-06-28T10:59:15.342Z"
   },
   {
    "duration": 0,
    "start_time": "2023-06-28T10:59:15.343Z"
   },
   {
    "duration": 0,
    "start_time": "2023-06-28T10:59:15.344Z"
   },
   {
    "duration": 0,
    "start_time": "2023-06-28T10:59:15.345Z"
   },
   {
    "duration": 0,
    "start_time": "2023-06-28T10:59:15.346Z"
   },
   {
    "duration": 0,
    "start_time": "2023-06-28T10:59:15.347Z"
   },
   {
    "duration": 0,
    "start_time": "2023-06-28T10:59:15.348Z"
   },
   {
    "duration": 0,
    "start_time": "2023-06-28T10:59:15.348Z"
   },
   {
    "duration": 0,
    "start_time": "2023-06-28T10:59:15.349Z"
   },
   {
    "duration": 0,
    "start_time": "2023-06-28T10:59:15.351Z"
   },
   {
    "duration": 0,
    "start_time": "2023-06-28T10:59:15.352Z"
   },
   {
    "duration": 0,
    "start_time": "2023-06-28T10:59:15.353Z"
   },
   {
    "duration": 0,
    "start_time": "2023-06-28T10:59:15.354Z"
   },
   {
    "duration": 0,
    "start_time": "2023-06-28T10:59:15.355Z"
   },
   {
    "duration": 0,
    "start_time": "2023-06-28T10:59:15.356Z"
   },
   {
    "duration": 0,
    "start_time": "2023-06-28T10:59:15.357Z"
   },
   {
    "duration": 0,
    "start_time": "2023-06-28T10:59:15.358Z"
   },
   {
    "duration": 0,
    "start_time": "2023-06-28T10:59:15.359Z"
   },
   {
    "duration": 0,
    "start_time": "2023-06-28T10:59:15.360Z"
   },
   {
    "duration": 0,
    "start_time": "2023-06-28T10:59:15.361Z"
   },
   {
    "duration": 0,
    "start_time": "2023-06-28T10:59:15.362Z"
   },
   {
    "duration": 0,
    "start_time": "2023-06-28T10:59:15.363Z"
   },
   {
    "duration": 0,
    "start_time": "2023-06-28T10:59:15.364Z"
   },
   {
    "duration": 1070,
    "start_time": "2023-06-28T10:59:42.605Z"
   },
   {
    "duration": 270,
    "start_time": "2023-06-28T10:59:43.677Z"
   },
   {
    "duration": 12,
    "start_time": "2023-06-28T10:59:43.949Z"
   },
   {
    "duration": 13,
    "start_time": "2023-06-28T10:59:43.963Z"
   },
   {
    "duration": 5,
    "start_time": "2023-06-28T10:59:43.979Z"
   },
   {
    "duration": 24,
    "start_time": "2023-06-28T10:59:43.985Z"
   },
   {
    "duration": 87,
    "start_time": "2023-06-28T10:59:44.012Z"
   },
   {
    "duration": 4,
    "start_time": "2023-06-28T10:59:44.101Z"
   },
   {
    "duration": 13,
    "start_time": "2023-06-28T10:59:44.107Z"
   },
   {
    "duration": 4,
    "start_time": "2023-06-28T10:59:44.122Z"
   },
   {
    "duration": 40,
    "start_time": "2023-06-28T10:59:44.128Z"
   },
   {
    "duration": 24,
    "start_time": "2023-06-28T10:59:44.171Z"
   },
   {
    "duration": 28,
    "start_time": "2023-06-28T10:59:44.197Z"
   },
   {
    "duration": 12,
    "start_time": "2023-06-28T10:59:44.229Z"
   },
   {
    "duration": 32,
    "start_time": "2023-06-28T10:59:44.243Z"
   },
   {
    "duration": 19,
    "start_time": "2023-06-28T10:59:44.276Z"
   },
   {
    "duration": 11,
    "start_time": "2023-06-28T10:59:44.296Z"
   },
   {
    "duration": 16,
    "start_time": "2023-06-28T10:59:44.308Z"
   },
   {
    "duration": 16,
    "start_time": "2023-06-28T10:59:44.326Z"
   },
   {
    "duration": 26,
    "start_time": "2023-06-28T10:59:44.343Z"
   },
   {
    "duration": 40,
    "start_time": "2023-06-28T10:59:44.370Z"
   },
   {
    "duration": 15,
    "start_time": "2023-06-28T10:59:44.412Z"
   },
   {
    "duration": 12,
    "start_time": "2023-06-28T10:59:44.428Z"
   },
   {
    "duration": 297,
    "start_time": "2023-06-28T10:59:44.442Z"
   },
   {
    "duration": 108,
    "start_time": "2023-06-28T10:59:44.741Z"
   },
   {
    "duration": 26,
    "start_time": "2023-06-28T10:59:44.851Z"
   },
   {
    "duration": 14,
    "start_time": "2023-06-28T10:59:44.879Z"
   },
   {
    "duration": 5,
    "start_time": "2023-06-28T10:59:44.894Z"
   },
   {
    "duration": 344,
    "start_time": "2023-06-28T10:59:44.901Z"
   },
   {
    "duration": 1070,
    "start_time": "2023-06-28T10:59:45.247Z"
   },
   {
    "duration": 16,
    "start_time": "2023-06-28T10:59:46.319Z"
   },
   {
    "duration": 46,
    "start_time": "2023-06-28T10:59:46.336Z"
   },
   {
    "duration": 732,
    "start_time": "2023-06-28T10:59:46.384Z"
   },
   {
    "duration": 50,
    "start_time": "2023-06-28T10:59:47.118Z"
   },
   {
    "duration": 35,
    "start_time": "2023-06-28T10:59:47.170Z"
   },
   {
    "duration": 17,
    "start_time": "2023-06-28T10:59:47.207Z"
   },
   {
    "duration": 8,
    "start_time": "2023-06-28T10:59:47.226Z"
   },
   {
    "duration": 33,
    "start_time": "2023-06-28T10:59:47.236Z"
   },
   {
    "duration": 6,
    "start_time": "2023-06-28T10:59:47.272Z"
   },
   {
    "duration": 105,
    "start_time": "2023-06-28T10:59:47.279Z"
   },
   {
    "duration": 15,
    "start_time": "2023-06-28T10:59:47.387Z"
   },
   {
    "duration": 14,
    "start_time": "2023-06-28T10:59:47.403Z"
   },
   {
    "duration": 190,
    "start_time": "2023-06-28T10:59:47.418Z"
   },
   {
    "duration": 18,
    "start_time": "2023-06-28T10:59:47.609Z"
   },
   {
    "duration": 10,
    "start_time": "2023-06-28T10:59:47.629Z"
   },
   {
    "duration": 1752,
    "start_time": "2023-06-28T10:59:47.640Z"
   },
   {
    "duration": 11,
    "start_time": "2023-06-28T10:59:49.393Z"
   },
   {
    "duration": 36,
    "start_time": "2023-06-28T10:59:49.405Z"
   },
   {
    "duration": 299,
    "start_time": "2023-06-28T10:59:49.442Z"
   },
   {
    "duration": 54,
    "start_time": "2023-06-28T10:59:49.742Z"
   },
   {
    "duration": 12,
    "start_time": "2023-06-28T10:59:49.797Z"
   },
   {
    "duration": 15,
    "start_time": "2023-06-28T10:59:49.810Z"
   },
   {
    "duration": 37,
    "start_time": "2023-06-28T10:59:49.827Z"
   },
   {
    "duration": 10,
    "start_time": "2023-06-28T10:59:49.867Z"
   },
   {
    "duration": 9,
    "start_time": "2023-06-28T19:19:58.113Z"
   },
   {
    "duration": 60,
    "start_time": "2023-06-28T19:21:25.339Z"
   },
   {
    "duration": 1430,
    "start_time": "2023-06-28T19:21:35.820Z"
   },
   {
    "duration": 294,
    "start_time": "2023-06-28T19:21:37.253Z"
   },
   {
    "duration": 16,
    "start_time": "2023-06-28T19:21:37.549Z"
   },
   {
    "duration": 15,
    "start_time": "2023-06-28T19:21:37.567Z"
   },
   {
    "duration": 4,
    "start_time": "2023-06-28T19:21:38.396Z"
   },
   {
    "duration": 17,
    "start_time": "2023-06-28T19:21:38.554Z"
   },
   {
    "duration": 68,
    "start_time": "2023-06-28T19:21:38.938Z"
   },
   {
    "duration": 3,
    "start_time": "2023-06-28T19:21:39.131Z"
   },
   {
    "duration": 11,
    "start_time": "2023-06-28T19:21:39.311Z"
   },
   {
    "duration": 5,
    "start_time": "2023-06-28T19:21:39.524Z"
   },
   {
    "duration": 16,
    "start_time": "2023-06-28T19:21:39.884Z"
   },
   {
    "duration": 23,
    "start_time": "2023-06-28T19:21:40.033Z"
   },
   {
    "duration": 29,
    "start_time": "2023-06-28T19:21:40.232Z"
   },
   {
    "duration": 15,
    "start_time": "2023-06-28T19:21:41.045Z"
   },
   {
    "duration": 10,
    "start_time": "2023-06-28T19:21:41.255Z"
   },
   {
    "duration": 11,
    "start_time": "2023-06-28T19:21:41.692Z"
   },
   {
    "duration": 16,
    "start_time": "2023-06-28T19:21:42.096Z"
   },
   {
    "duration": 23,
    "start_time": "2023-06-28T19:21:42.604Z"
   },
   {
    "duration": 19,
    "start_time": "2023-06-28T19:21:42.784Z"
   },
   {
    "duration": 11,
    "start_time": "2023-06-28T19:21:43.588Z"
   },
   {
    "duration": 48,
    "start_time": "2023-06-28T19:21:44.856Z"
   },
   {
    "duration": 18,
    "start_time": "2023-06-28T19:21:45.191Z"
   },
   {
    "duration": 12,
    "start_time": "2023-06-28T19:21:45.392Z"
   },
   {
    "duration": 278,
    "start_time": "2023-06-28T19:21:45.617Z"
   },
   {
    "duration": 110,
    "start_time": "2023-06-28T19:21:46.027Z"
   },
   {
    "duration": 25,
    "start_time": "2023-06-28T19:21:46.431Z"
   },
   {
    "duration": 17,
    "start_time": "2023-06-28T19:21:46.839Z"
   },
   {
    "duration": 8,
    "start_time": "2023-06-28T19:21:47.241Z"
   },
   {
    "duration": 353,
    "start_time": "2023-06-28T19:21:47.512Z"
   },
   {
    "duration": 1254,
    "start_time": "2023-06-28T19:21:47.916Z"
   },
   {
    "duration": 15,
    "start_time": "2023-06-28T19:21:49.172Z"
   },
   {
    "duration": 33,
    "start_time": "2023-06-28T19:21:49.332Z"
   },
   {
    "duration": 875,
    "start_time": "2023-06-28T19:21:49.888Z"
   },
   {
    "duration": 58,
    "start_time": "2023-06-28T19:21:51.352Z"
   },
   {
    "duration": 42,
    "start_time": "2023-06-28T19:21:51.587Z"
   },
   {
    "duration": 20,
    "start_time": "2023-06-28T19:21:51.832Z"
   },
   {
    "duration": 10,
    "start_time": "2023-06-28T19:21:52.259Z"
   },
   {
    "duration": 20,
    "start_time": "2023-06-28T19:21:52.495Z"
   },
   {
    "duration": 4,
    "start_time": "2023-06-28T19:21:52.840Z"
   },
   {
    "duration": 109,
    "start_time": "2023-06-28T19:21:53.336Z"
   },
   {
    "duration": 21,
    "start_time": "2023-06-28T19:21:54.195Z"
   },
   {
    "duration": 16,
    "start_time": "2023-06-28T19:21:56.724Z"
   },
   {
    "duration": 214,
    "start_time": "2023-06-28T19:21:57.257Z"
   },
   {
    "duration": 21,
    "start_time": "2023-06-28T19:22:00.836Z"
   },
   {
    "duration": 11,
    "start_time": "2023-06-28T19:22:01.334Z"
   },
   {
    "duration": 2169,
    "start_time": "2023-06-28T19:22:02.101Z"
   },
   {
    "duration": 11,
    "start_time": "2023-06-28T19:22:04.359Z"
   },
   {
    "duration": 42,
    "start_time": "2023-06-28T19:22:05.728Z"
   },
   {
    "duration": 305,
    "start_time": "2023-06-28T19:22:10.537Z"
   },
   {
    "duration": 67,
    "start_time": "2023-06-28T19:22:12.573Z"
   },
   {
    "duration": 13,
    "start_time": "2023-06-28T19:22:34.120Z"
   },
   {
    "duration": 5,
    "start_time": "2023-06-28T19:22:34.649Z"
   },
   {
    "duration": 24,
    "start_time": "2023-06-28T19:22:35.725Z"
   },
   {
    "duration": 20,
    "start_time": "2023-06-28T19:24:29.808Z"
   },
   {
    "duration": 28,
    "start_time": "2023-06-28T19:24:39.200Z"
   },
   {
    "duration": 72,
    "start_time": "2023-06-28T19:24:56.108Z"
   },
   {
    "duration": 4,
    "start_time": "2023-06-28T19:25:32.836Z"
   },
   {
    "duration": 17,
    "start_time": "2023-06-28T19:25:46.122Z"
   },
   {
    "duration": 3,
    "start_time": "2023-06-28T19:26:17.435Z"
   },
   {
    "duration": 7,
    "start_time": "2023-06-28T19:26:24.042Z"
   },
   {
    "duration": 32,
    "start_time": "2023-06-28T19:27:07.597Z"
   },
   {
    "duration": 8,
    "start_time": "2023-06-28T19:27:08.524Z"
   },
   {
    "duration": 34,
    "start_time": "2023-06-28T19:28:26.641Z"
   },
   {
    "duration": 36,
    "start_time": "2023-06-28T19:31:54.084Z"
   },
   {
    "duration": 36,
    "start_time": "2023-06-28T19:35:09.792Z"
   },
   {
    "duration": 3,
    "start_time": "2023-06-28T19:36:43.803Z"
   },
   {
    "duration": 1524,
    "start_time": "2023-06-29T18:02:16.205Z"
   },
   {
    "duration": 234,
    "start_time": "2023-06-29T18:02:18.443Z"
   },
   {
    "duration": 15,
    "start_time": "2023-06-29T18:02:18.753Z"
   },
   {
    "duration": 11,
    "start_time": "2023-06-29T18:02:19.029Z"
   },
   {
    "duration": 4,
    "start_time": "2023-06-29T18:02:19.262Z"
   },
   {
    "duration": 20,
    "start_time": "2023-06-29T18:02:19.462Z"
   },
   {
    "duration": 59,
    "start_time": "2023-06-29T18:02:19.777Z"
   },
   {
    "duration": 3,
    "start_time": "2023-06-29T18:02:20.015Z"
   },
   {
    "duration": 10,
    "start_time": "2023-06-29T18:02:20.222Z"
   },
   {
    "duration": 5,
    "start_time": "2023-06-29T18:02:20.540Z"
   },
   {
    "duration": 23,
    "start_time": "2023-06-29T18:02:21.299Z"
   },
   {
    "duration": 25,
    "start_time": "2023-06-29T18:02:21.687Z"
   },
   {
    "duration": 39,
    "start_time": "2023-06-29T18:02:22.162Z"
   },
   {
    "duration": 17,
    "start_time": "2023-06-29T18:02:23.594Z"
   },
   {
    "duration": 13,
    "start_time": "2023-06-29T18:02:23.841Z"
   },
   {
    "duration": 10,
    "start_time": "2023-06-29T18:02:24.692Z"
   },
   {
    "duration": 12,
    "start_time": "2023-06-29T18:02:25.274Z"
   },
   {
    "duration": 82,
    "start_time": "2023-06-29T18:02:25.953Z"
   },
   {
    "duration": 21,
    "start_time": "2023-06-29T18:02:26.695Z"
   },
   {
    "duration": 11,
    "start_time": "2023-06-29T18:02:28.263Z"
   },
   {
    "duration": 67,
    "start_time": "2023-06-29T18:02:30.179Z"
   },
   {
    "duration": 20,
    "start_time": "2023-06-29T18:02:32.111Z"
   },
   {
    "duration": 16,
    "start_time": "2023-06-29T18:02:32.403Z"
   },
   {
    "duration": 314,
    "start_time": "2023-06-29T18:02:32.811Z"
   },
   {
    "duration": 126,
    "start_time": "2023-06-29T18:02:34.009Z"
   },
   {
    "duration": 26,
    "start_time": "2023-06-29T18:02:34.681Z"
   },
   {
    "duration": 16,
    "start_time": "2023-06-29T18:02:35.227Z"
   },
   {
    "duration": 9,
    "start_time": "2023-06-29T18:02:36.045Z"
   },
   {
    "duration": 370,
    "start_time": "2023-06-29T18:02:36.601Z"
   },
   {
    "duration": 1272,
    "start_time": "2023-06-29T18:02:37.770Z"
   },
   {
    "duration": 19,
    "start_time": "2023-06-29T18:02:39.045Z"
   },
   {
    "duration": 32,
    "start_time": "2023-06-29T18:02:40.964Z"
   },
   {
    "duration": 833,
    "start_time": "2023-06-29T18:02:42.459Z"
   },
   {
    "duration": 52,
    "start_time": "2023-06-29T18:02:47.213Z"
   },
   {
    "duration": 47,
    "start_time": "2023-06-29T18:02:47.521Z"
   },
   {
    "duration": 20,
    "start_time": "2023-06-29T18:02:47.797Z"
   },
   {
    "duration": 9,
    "start_time": "2023-06-29T18:02:48.044Z"
   },
   {
    "duration": 13,
    "start_time": "2023-06-29T18:02:48.241Z"
   },
   {
    "duration": 5,
    "start_time": "2023-06-29T18:02:48.459Z"
   },
   {
    "duration": 107,
    "start_time": "2023-06-29T18:02:48.881Z"
   },
   {
    "duration": 23,
    "start_time": "2023-06-29T18:02:49.967Z"
   },
   {
    "duration": 18,
    "start_time": "2023-06-29T18:02:52.557Z"
   },
   {
    "duration": 198,
    "start_time": "2023-06-29T18:02:53.587Z"
   },
   {
    "duration": 21,
    "start_time": "2023-06-29T18:02:57.355Z"
   },
   {
    "duration": 10,
    "start_time": "2023-06-29T18:02:59.223Z"
   },
   {
    "duration": 2022,
    "start_time": "2023-06-29T18:03:01.121Z"
   },
   {
    "duration": 13,
    "start_time": "2023-06-29T18:03:04.497Z"
   },
   {
    "duration": 43,
    "start_time": "2023-06-29T18:03:06.505Z"
   },
   {
    "duration": 321,
    "start_time": "2023-06-29T18:03:10.555Z"
   },
   {
    "duration": 42,
    "start_time": "2023-06-29T18:03:17.207Z"
   },
   {
    "duration": 5,
    "start_time": "2023-06-29T18:03:51.379Z"
   },
   {
    "duration": 39,
    "start_time": "2023-06-29T18:03:52.523Z"
   },
   {
    "duration": 8,
    "start_time": "2023-06-29T18:03:53.858Z"
   },
   {
    "duration": 1498,
    "start_time": "2023-06-30T09:40:54.600Z"
   },
   {
    "duration": 497,
    "start_time": "2023-06-30T09:40:56.101Z"
   },
   {
    "duration": 12,
    "start_time": "2023-06-30T09:40:56.599Z"
   },
   {
    "duration": 14,
    "start_time": "2023-06-30T09:40:57.456Z"
   },
   {
    "duration": 4,
    "start_time": "2023-06-30T09:40:57.770Z"
   },
   {
    "duration": 22,
    "start_time": "2023-06-30T09:40:57.949Z"
   },
   {
    "duration": 75,
    "start_time": "2023-06-30T09:40:58.119Z"
   },
   {
    "duration": 4,
    "start_time": "2023-06-30T09:40:58.297Z"
   },
   {
    "duration": 11,
    "start_time": "2023-06-30T09:40:58.489Z"
   },
   {
    "duration": 7,
    "start_time": "2023-06-30T09:40:58.654Z"
   },
   {
    "duration": 16,
    "start_time": "2023-06-30T09:40:59.012Z"
   },
   {
    "duration": 24,
    "start_time": "2023-06-30T09:40:59.203Z"
   },
   {
    "duration": 30,
    "start_time": "2023-06-30T09:40:59.387Z"
   },
   {
    "duration": 15,
    "start_time": "2023-06-30T09:41:00.133Z"
   },
   {
    "duration": 15,
    "start_time": "2023-06-30T09:41:00.332Z"
   },
   {
    "duration": 11,
    "start_time": "2023-06-30T09:41:00.716Z"
   },
   {
    "duration": 13,
    "start_time": "2023-06-30T09:41:01.116Z"
   },
   {
    "duration": 99,
    "start_time": "2023-06-30T09:41:01.808Z"
   },
   {
    "duration": 29,
    "start_time": "2023-06-30T09:41:02.023Z"
   },
   {
    "duration": 18,
    "start_time": "2023-06-30T09:41:02.992Z"
   },
   {
    "duration": 1283,
    "start_time": "2023-06-30T09:41:56.731Z"
   },
   {
    "duration": 1413,
    "start_time": "2023-06-30T09:42:51.997Z"
   },
   {
    "duration": 1091,
    "start_time": "2023-06-30T09:44:11.190Z"
   },
   {
    "duration": 1419,
    "start_time": "2023-06-30T09:45:01.193Z"
   },
   {
    "duration": 88,
    "start_time": "2023-06-30T09:45:51.929Z"
   },
   {
    "duration": 134,
    "start_time": "2023-06-30T09:45:59.672Z"
   },
   {
    "duration": 117,
    "start_time": "2023-06-30T09:46:08.874Z"
   },
   {
    "duration": 1216,
    "start_time": "2023-06-30T09:47:16.071Z"
   },
   {
    "duration": 1129,
    "start_time": "2023-06-30T09:48:21.450Z"
   },
   {
    "duration": 1209,
    "start_time": "2023-06-30T10:01:10.066Z"
   },
   {
    "duration": 294,
    "start_time": "2023-06-30T10:01:11.277Z"
   },
   {
    "duration": 12,
    "start_time": "2023-06-30T10:01:11.573Z"
   },
   {
    "duration": 12,
    "start_time": "2023-06-30T10:01:12.351Z"
   },
   {
    "duration": 4,
    "start_time": "2023-06-30T10:01:13.638Z"
   },
   {
    "duration": 17,
    "start_time": "2023-06-30T10:01:14.132Z"
   },
   {
    "duration": 63,
    "start_time": "2023-06-30T10:01:14.552Z"
   },
   {
    "duration": 4,
    "start_time": "2023-06-30T10:01:14.897Z"
   },
   {
    "duration": 16,
    "start_time": "2023-06-30T10:01:15.390Z"
   },
   {
    "duration": 6,
    "start_time": "2023-06-30T10:01:15.791Z"
   },
   {
    "duration": 17,
    "start_time": "2023-06-30T10:01:16.229Z"
   },
   {
    "duration": 24,
    "start_time": "2023-06-30T10:01:16.715Z"
   },
   {
    "duration": 28,
    "start_time": "2023-06-30T10:01:17.103Z"
   },
   {
    "duration": 15,
    "start_time": "2023-06-30T10:01:19.290Z"
   },
   {
    "duration": 10,
    "start_time": "2023-06-30T10:01:19.590Z"
   },
   {
    "duration": 12,
    "start_time": "2023-06-30T10:01:20.468Z"
   },
   {
    "duration": 11,
    "start_time": "2023-06-30T10:01:21.714Z"
   },
   {
    "duration": 478,
    "start_time": "2023-06-30T10:01:22.588Z"
   },
   {
    "duration": 22,
    "start_time": "2023-06-30T10:01:23.182Z"
   },
   {
    "duration": 11,
    "start_time": "2023-06-30T10:01:25.704Z"
   },
   {
    "duration": 856,
    "start_time": "2023-06-30T10:01:27.437Z"
   },
   {
    "duration": 1097,
    "start_time": "2023-06-30T10:04:37.309Z"
   },
   {
    "duration": 121,
    "start_time": "2023-06-30T10:07:55.510Z"
   },
   {
    "duration": 918,
    "start_time": "2023-06-30T10:08:07.794Z"
   },
   {
    "duration": 1307,
    "start_time": "2023-06-30T10:12:12.613Z"
   },
   {
    "duration": 1281,
    "start_time": "2023-10-14T13:24:13.749Z"
   },
   {
    "duration": 336,
    "start_time": "2023-10-14T13:24:24.412Z"
   },
   {
    "duration": 10,
    "start_time": "2023-10-14T13:24:33.059Z"
   },
   {
    "duration": 7,
    "start_time": "2023-10-14T13:24:35.074Z"
   },
   {
    "duration": 3,
    "start_time": "2023-10-14T13:24:48.981Z"
   },
   {
    "duration": 13,
    "start_time": "2023-10-14T13:24:59.401Z"
   },
   {
    "duration": 4,
    "start_time": "2023-10-14T13:25:12.070Z"
   },
   {
    "duration": 21,
    "start_time": "2023-10-14T13:25:26.528Z"
   },
   {
    "duration": 52,
    "start_time": "2023-10-14T13:25:31.455Z"
   },
   {
    "duration": 3,
    "start_time": "2023-10-14T13:25:37.755Z"
   },
   {
    "duration": 12,
    "start_time": "2023-10-14T13:25:42.125Z"
   },
   {
    "duration": 4,
    "start_time": "2023-10-14T13:25:43.116Z"
   },
   {
    "duration": 4,
    "start_time": "2023-10-14T13:26:21.417Z"
   },
   {
    "duration": 22,
    "start_time": "2023-10-14T13:26:29.030Z"
   },
   {
    "duration": 21,
    "start_time": "2023-10-14T13:26:30.104Z"
   },
   {
    "duration": 27,
    "start_time": "2023-10-14T13:26:35.777Z"
   },
   {
    "duration": 10,
    "start_time": "2023-10-14T13:26:42.749Z"
   },
   {
    "duration": 8,
    "start_time": "2023-10-14T13:26:45.779Z"
   },
   {
    "duration": 9,
    "start_time": "2023-10-14T13:26:48.909Z"
   },
   {
    "duration": 9,
    "start_time": "2023-10-14T13:26:53.265Z"
   },
   {
    "duration": 19,
    "start_time": "2023-10-14T13:27:06.198Z"
   },
   {
    "duration": 8,
    "start_time": "2023-10-14T13:27:23.916Z"
   },
   {
    "duration": 850,
    "start_time": "2023-10-14T13:27:39.385Z"
   },
   {
    "duration": 24,
    "start_time": "2023-10-14T13:27:40.238Z"
   },
   {
    "duration": 40,
    "start_time": "2023-10-14T13:27:56.710Z"
   },
   {
    "duration": 16,
    "start_time": "2023-10-14T13:28:13.782Z"
   },
   {
    "duration": 10,
    "start_time": "2023-10-14T13:28:16.070Z"
   },
   {
    "duration": 265,
    "start_time": "2023-10-14T13:28:21.706Z"
   },
   {
    "duration": 99,
    "start_time": "2023-10-14T13:28:34.022Z"
   },
   {
    "duration": 23,
    "start_time": "2023-10-14T13:29:07.149Z"
   },
   {
    "duration": 14,
    "start_time": "2023-10-14T13:29:43.376Z"
   },
   {
    "duration": 7,
    "start_time": "2023-10-14T13:30:01.669Z"
   },
   {
    "duration": 353,
    "start_time": "2023-10-14T13:30:07.508Z"
   },
   {
    "duration": 1004,
    "start_time": "2023-10-14T13:30:23.854Z"
   },
   {
    "duration": 13,
    "start_time": "2023-10-14T13:30:29.780Z"
   },
   {
    "duration": 28,
    "start_time": "2023-10-14T13:30:40.887Z"
   },
   {
    "duration": 752,
    "start_time": "2023-10-14T13:30:58.295Z"
   },
   {
    "duration": 840,
    "start_time": "2023-10-14T13:34:07.021Z"
   },
   {
    "duration": 115,
    "start_time": "2023-10-14T13:35:23.485Z"
   },
   {
    "duration": 1077,
    "start_time": "2023-10-14T13:36:06.156Z"
   },
   {
    "duration": 303,
    "start_time": "2023-10-14T13:36:07.235Z"
   },
   {
    "duration": 14,
    "start_time": "2023-10-14T13:36:07.539Z"
   },
   {
    "duration": 7,
    "start_time": "2023-10-14T13:36:07.555Z"
   },
   {
    "duration": 4,
    "start_time": "2023-10-14T13:36:07.831Z"
   },
   {
    "duration": 18,
    "start_time": "2023-10-14T13:36:08.346Z"
   },
   {
    "duration": 56,
    "start_time": "2023-10-14T13:36:08.694Z"
   },
   {
    "duration": 3,
    "start_time": "2023-10-14T13:36:09.075Z"
   },
   {
    "duration": 10,
    "start_time": "2023-10-14T13:36:09.474Z"
   },
   {
    "duration": 4,
    "start_time": "2023-10-14T13:36:09.818Z"
   },
   {
    "duration": 13,
    "start_time": "2023-10-14T13:36:10.558Z"
   },
   {
    "duration": 20,
    "start_time": "2023-10-14T13:36:10.914Z"
   },
   {
    "duration": 30,
    "start_time": "2023-10-14T13:36:11.274Z"
   },
   {
    "duration": 11,
    "start_time": "2023-10-14T13:36:12.086Z"
   },
   {
    "duration": 10,
    "start_time": "2023-10-14T13:36:12.525Z"
   },
   {
    "duration": 9,
    "start_time": "2023-10-14T13:36:13.211Z"
   },
   {
    "duration": 8,
    "start_time": "2023-10-14T13:36:14.226Z"
   },
   {
    "duration": 19,
    "start_time": "2023-10-14T13:36:15.152Z"
   },
   {
    "duration": 8,
    "start_time": "2023-10-14T13:36:15.817Z"
   },
   {
    "duration": 45,
    "start_time": "2023-10-14T13:36:17.826Z"
   },
   {
    "duration": 19,
    "start_time": "2023-10-14T13:36:18.743Z"
   },
   {
    "duration": 10,
    "start_time": "2023-10-14T13:36:19.130Z"
   },
   {
    "duration": 260,
    "start_time": "2023-10-14T13:36:19.591Z"
   },
   {
    "duration": 102,
    "start_time": "2023-10-14T13:36:21.094Z"
   },
   {
    "duration": 24,
    "start_time": "2023-10-14T13:36:22.598Z"
   },
   {
    "duration": 16,
    "start_time": "2023-10-14T13:36:23.607Z"
   },
   {
    "duration": 5,
    "start_time": "2023-10-14T13:36:25.054Z"
   },
   {
    "duration": 590,
    "start_time": "2023-10-14T13:36:26.015Z"
   },
   {
    "duration": 918,
    "start_time": "2023-10-14T13:37:19.107Z"
   },
   {
    "duration": 16,
    "start_time": "2023-10-14T13:37:22.066Z"
   },
   {
    "duration": 30,
    "start_time": "2023-10-14T13:37:26.010Z"
   },
   {
    "duration": 532,
    "start_time": "2023-10-14T13:37:29.363Z"
   },
   {
    "duration": 59,
    "start_time": "2023-10-14T13:37:41.584Z"
   },
   {
    "duration": 47,
    "start_time": "2023-10-14T13:37:47.055Z"
   },
   {
    "duration": 14,
    "start_time": "2023-10-14T13:37:48.872Z"
   },
   {
    "duration": 6,
    "start_time": "2023-10-14T13:38:32.701Z"
   },
   {
    "duration": 10,
    "start_time": "2023-10-14T13:38:34.169Z"
   },
   {
    "duration": 3,
    "start_time": "2023-10-14T13:38:37.919Z"
   },
   {
    "duration": 82,
    "start_time": "2023-10-14T13:38:51.833Z"
   },
   {
    "duration": 18,
    "start_time": "2023-10-14T13:39:03.281Z"
   },
   {
    "duration": 16,
    "start_time": "2023-10-14T13:40:00.100Z"
   },
   {
    "duration": 16,
    "start_time": "2023-10-14T13:40:47.358Z"
   },
   {
    "duration": 14,
    "start_time": "2023-10-14T13:41:03.558Z"
   },
   {
    "duration": 157,
    "start_time": "2023-10-14T13:41:27.417Z"
   },
   {
    "duration": 162,
    "start_time": "2023-10-14T13:41:30.637Z"
   },
   {
    "duration": 16,
    "start_time": "2023-10-14T13:41:54.543Z"
   },
   {
    "duration": 9,
    "start_time": "2023-10-14T13:42:00.705Z"
   },
   {
    "duration": 1485,
    "start_time": "2023-10-14T13:42:08.112Z"
   },
   {
    "duration": 1563,
    "start_time": "2023-10-14T13:43:13.823Z"
   },
   {
    "duration": 11,
    "start_time": "2023-10-14T13:45:02.816Z"
   },
   {
    "duration": 33,
    "start_time": "2023-10-14T13:45:13.657Z"
   },
   {
    "duration": 115,
    "start_time": "2023-10-14T13:46:17.022Z"
   },
   {
    "duration": 31,
    "start_time": "2023-10-14T13:46:32.865Z"
   },
   {
    "duration": 283,
    "start_time": "2023-10-14T13:46:52.899Z"
   },
   {
    "duration": 38,
    "start_time": "2023-10-14T13:49:44.527Z"
   },
   {
    "duration": 4,
    "start_time": "2023-10-14T13:51:30.759Z"
   },
   {
    "duration": 43,
    "start_time": "2023-10-14T13:51:32.185Z"
   },
   {
    "duration": 6,
    "start_time": "2023-10-14T13:51:35.214Z"
   },
   {
    "duration": 4,
    "start_time": "2023-10-14T13:52:36.970Z"
   },
   {
    "duration": 24,
    "start_time": "2023-10-14T13:52:39.408Z"
   },
   {
    "duration": 4,
    "start_time": "2023-10-14T13:52:41.632Z"
   }
  ],
  "kernelspec": {
   "display_name": "Python 3 (ipykernel)",
   "language": "python",
   "name": "python3"
  },
  "language_info": {
   "codemirror_mode": {
    "name": "ipython",
    "version": 3
   },
   "file_extension": ".py",
   "mimetype": "text/x-python",
   "name": "python",
   "nbconvert_exporter": "python",
   "pygments_lexer": "ipython3",
   "version": "3.9.5"
  },
  "toc": {
   "base_numbering": 1,
   "nav_menu": {},
   "number_sections": true,
   "sideBar": true,
   "skip_h1_title": true,
   "title_cell": "Table of Contents",
   "title_sidebar": "Contents",
   "toc_cell": false,
   "toc_position": {
    "height": "calc(100% - 180px)",
    "left": "10px",
    "top": "150px",
    "width": "243.062px"
   },
   "toc_section_display": true,
   "toc_window_display": false
  }
 },
 "nbformat": 4,
 "nbformat_minor": 2
}
